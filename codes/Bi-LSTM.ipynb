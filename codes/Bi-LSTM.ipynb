{
 "cells": [
  {
   "cell_type": "markdown",
   "metadata": {},
   "source": [
    "# Step0: Import Packages"
   ]
  },
  {
   "cell_type": "code",
   "execution_count": 1,
   "metadata": {},
   "outputs": [],
   "source": [
    "import torch\n",
    "import numpy as np\n",
    "import pandas as pd\n",
    "import torch.nn as nn\n",
    "import tensorwatch as tw\n",
    "from sklearn import metrics\n",
    "from torchviz import make_dot\n",
    "from string import punctuation\n",
    "import torch.nn.functional as F\n",
    "from collections import Counter\n",
    "from torchvision.models import AlexNet\n",
    "from sklearn.metrics import accuracy_score\n",
    "from torch.utils.data import DataLoader, TensorDataset"
   ]
  },
  {
   "cell_type": "markdown",
   "metadata": {},
   "source": [
    "# Step1: Get dataset"
   ]
  },
  {
   "cell_type": "code",
   "execution_count": 2,
   "metadata": {},
   "outputs": [],
   "source": [
    "reviews = pd.read_csv(\"../data/english_yep_reviews.csv\")"
   ]
  },
  {
   "cell_type": "markdown",
   "metadata": {},
   "source": [
    "# Step2: Count the words"
   ]
  },
  {
   "cell_type": "code",
   "execution_count": 3,
   "metadata": {},
   "outputs": [
    {
     "name": "stdout",
     "output_type": "stream",
     "text": [
      "['someon', 'ha', 'work', 'mani', 'museum', 'wa', 'eager', 'visit', 'thi', 'galleri']\n",
      "Top ten occuring words :  [('wa', 199857), ('thi', 86639), ('place', 55772), ('food', 53489), ('good', 50852), ('great', 44401), ('veri', 44062), ('time', 42695), ('get', 38251), ('would', 38160)]\n"
     ]
    }
   ],
   "source": [
    "all_reviews = list(reviews['cleaned'])\n",
    "all_text = \" \".join(all_reviews)\n",
    "all_words = all_text.split()\n",
    "print(all_words[0:10])\n",
    "\n",
    "# Count all the words using Counter Method\n",
    "count_words = Counter(all_words)\n",
    "total_words = len(all_words)\n",
    "sorted_words=count_words.most_common(total_words)\n",
    "print(\"Top ten occuring words : \", sorted_words[:10])"
   ]
  },
  {
   "cell_type": "markdown",
   "metadata": {},
   "source": [
    "# Step3: Create a dictionary"
   ]
  },
  {
   "cell_type": "code",
   "execution_count": 4,
   "metadata": {},
   "outputs": [],
   "source": [
    "# Create a dictionary\n",
    "# We will start createing dictionary with index 1 because 0 \n",
    "    # is reserved for padding\n",
    "\n",
    "vocab_to_int = {w: i+1 for i, (w, c) in enumerate(sorted_words)}"
   ]
  },
  {
   "cell_type": "markdown",
   "metadata": {},
   "source": [
    "# Step4: Encode the review data"
   ]
  },
  {
   "cell_type": "code",
   "execution_count": 5,
   "metadata": {},
   "outputs": [],
   "source": [
    "# Encode review\n",
    "encoded_reviews = list()\n",
    "for review in all_reviews:\n",
    "    encoded_review = list()\n",
    "    for word in review.split():\n",
    "        if word not in vocab_to_int.keys():\n",
    "            # if word is not available in vocab_to_int put 0 in that place\n",
    "            encoded_review.append(0)\n",
    "        else:\n",
    "            encoded_review.append(vocab_to_int[word])\n",
    "    encoded_reviews.append(encoded_review)"
   ]
  },
  {
   "cell_type": "markdown",
   "metadata": {},
   "source": [
    "# Step5: Make the encode_review of the same length"
   ]
  },
  {
   "cell_type": "code",
   "execution_count": 6,
   "metadata": {},
   "outputs": [],
   "source": [
    "# make all the encoded_review of the same length\n",
    "# this step will return features of review_ints,\n",
    "# where each review is padded with 0's or truncated to the input seq_length.\n",
    "# the longest review has 564 words\n",
    "# sequence_length is 100, but also could be 150, 200, 250 (here just for save energy)\n",
    "\n",
    "sequence_length = 100\n",
    "features = np.zeros((len(encoded_reviews), sequence_length), dtype=int)\n",
    "for i, review in enumerate(encoded_reviews):\n",
    "    review_len = len(review)\n",
    "    if review_len <= sequence_length:\n",
    "        zeros = list(np.zeros(sequence_length-review_len))\n",
    "        new = zeros+review\n",
    "    else:\n",
    "        new = review[:sequence_length]\n",
    "    features[i, :] = np.array(new)"
   ]
  },
  {
   "cell_type": "markdown",
   "metadata": {},
   "source": [
    "# Step6: Create labels"
   ]
  },
  {
   "cell_type": "code",
   "execution_count": 7,
   "metadata": {},
   "outputs": [],
   "source": [
    "# set labels, 0 negative, 1 neutral, 2 positive\n",
    "labels = list(reviews['Review_Labels'])"
   ]
  },
  {
   "cell_type": "markdown",
   "metadata": {},
   "source": [
    "# Step7: Split this feature data into Traning, Testing and Validation set"
   ]
  },
  {
   "cell_type": "code",
   "execution_count": 8,
   "metadata": {},
   "outputs": [
    {
     "name": "stdout",
     "output_type": "stream",
     "text": [
      "79999 10000 10000\n"
     ]
    }
   ],
   "source": [
    "# split this feature data into training and validation set\n",
    "# 80% training, 10% test and 10% validation dataset\n",
    "\n",
    "# However, for cpu running, set 10% of them\n",
    "# features = features[:int(0.5*len(features))]\n",
    "# labels = labels[:int(0.5*len(labels))]\n",
    "train_x = features[:int(0.8*len(features))]\n",
    "train_y = labels[:int(0.8*len(features))]\n",
    "valid_x = features[int(0.8*len(features)):int(0.9*len(features))]\n",
    "valid_y = labels[int(0.8*len(features)):int(0.9*len(features))]\n",
    "test_x = features[int(0.9*len(features)):]\n",
    "test_y = labels[int(0.9*len(features)):]\n",
    "print(len(train_y), len(valid_y), len(test_y))"
   ]
  },
  {
   "cell_type": "markdown",
   "metadata": {},
   "source": [
    "# Step8: Create DataLoader objects for Pytorch model"
   ]
  },
  {
   "cell_type": "code",
   "execution_count": 9,
   "metadata": {},
   "outputs": [],
   "source": [
    "import torch\n",
    "from torch.utils.data import DataLoader, TensorDataset\n",
    "\n",
    "#create Tensor Dataset\n",
    "train_data=TensorDataset(torch.FloatTensor(train_x), torch.FloatTensor(train_y))\n",
    "valid_data=TensorDataset(torch.FloatTensor(valid_x), torch.FloatTensor(valid_y))\n",
    "test_data=TensorDataset(torch.FloatTensor(test_x), torch.FloatTensor(test_y))\n",
    "\n",
    "#dataloader\n",
    "# remember to add drop_last=True, which will delete the last batch of the data if it's size is not equal to batch_size\n",
    "batch_size=100\n",
    "train_loader=DataLoader(train_data, batch_size=batch_size, shuffle=True, drop_last=True)\n",
    "valid_loader=DataLoader(valid_data, batch_size=batch_size, shuffle=True, drop_last=True)\n",
    "test_loader=DataLoader(test_data, batch_size=batch_size, shuffle=True, drop_last=True)"
   ]
  },
  {
   "cell_type": "markdown",
   "metadata": {},
   "source": [
    "# Step9: Analyze the dataloader data"
   ]
  },
  {
   "cell_type": "code",
   "execution_count": 10,
   "metadata": {},
   "outputs": [
    {
     "name": "stdout",
     "output_type": "stream",
     "text": [
      "Sample input size:  torch.Size([100, 100])\n",
      "Sample input: \n",
      " tensor([[0.0000e+00, 0.0000e+00, 0.0000e+00,  ..., 5.6900e+02, 1.2660e+03,\n",
      "         1.8480e+03],\n",
      "        [4.6000e+01, 7.9800e+02, 4.0900e+02,  ..., 1.9000e+01, 5.4900e+02,\n",
      "         4.5000e+01],\n",
      "        [0.0000e+00, 0.0000e+00, 0.0000e+00,  ..., 8.6100e+02, 1.1600e+02,\n",
      "         1.3680e+03],\n",
      "        ...,\n",
      "        [0.0000e+00, 0.0000e+00, 0.0000e+00,  ..., 8.7800e+02, 8.7600e+02,\n",
      "         5.1000e+02],\n",
      "        [0.0000e+00, 0.0000e+00, 0.0000e+00,  ..., 1.9060e+03, 1.0580e+03,\n",
      "         1.7890e+03],\n",
      "        [0.0000e+00, 0.0000e+00, 0.0000e+00,  ..., 1.2000e+01, 1.0000e+00,\n",
      "         3.6240e+03]])\n",
      "Sample label size:  torch.Size([100])\n",
      "Sample label: \n",
      " tensor([2., 2., 0., 2., 2., 0., 2., 2., 0., 2., 1., 2., 2., 2., 2., 2., 2., 2.,\n",
      "        2., 2., 2., 1., 2., 1., 2., 2., 2., 2., 2., 0., 0., 1., 2., 1., 2., 0.,\n",
      "        2., 2., 2., 2., 2., 2., 0., 0., 0., 2., 0., 2., 2., 2., 2., 2., 2., 2.,\n",
      "        0., 0., 2., 1., 2., 2., 2., 2., 2., 2., 2., 1., 2., 2., 2., 0., 2., 0.,\n",
      "        2., 0., 0., 0., 2., 2., 2., 2., 2., 0., 2., 2., 2., 2., 2., 2., 0., 2.,\n",
      "        1., 2., 2., 2., 2., 1., 2., 2., 2., 0.])\n"
     ]
    }
   ],
   "source": [
    "# obtain one batch of training data\n",
    "dataiter = iter(train_loader)\n",
    "sample_x, sample_y = dataiter.next()\n",
    "print('Sample input size: ', sample_x.size()) # batch_size, seq_length\n",
    "print('Sample input: \\n', sample_x)\n",
    "print('Sample label size: ', sample_y.size()) # batch_size\n",
    "print('Sample label: \\n', sample_y)"
   ]
  },
  {
   "cell_type": "markdown",
   "metadata": {},
   "source": [
    "# Step10-1: Create a Bi-LSTM models"
   ]
  },
  {
   "cell_type": "code",
   "execution_count": 11,
   "metadata": {},
   "outputs": [],
   "source": [
    "class LSTM_Model(nn.Module):\n",
    "    def __init__(self, vocab_size, output_size, embed, hidden_size, num_layers, num_classes, dropout, bidirectional):\n",
    "        super(LSTM_Model, self).__init__()\n",
    "        \n",
    "        self.embedding = nn.Embedding(vocab_size, embed)\n",
    "        self.lstm = nn.LSTM(embed, hidden_size, num_layers,\n",
    "                            bidirectional=bidirectional, batch_first=True, dropout=dropout)  # initialize Bi-LSTM model\n",
    "        self.fc = nn.Linear(hidden_size * 2, num_classes)  # This task only has three classes\n",
    "\n",
    "    def forward(self, x):\n",
    "        \n",
    "        out = self.embedding(x)  # [batch_size, seq_len, embeding]=[100, 100, 300]\n",
    "        out, _ = self.lstm(out)  # the output of lstm are out layer, c layer and hidden layer\n",
    "        out = self.fc(out[:, -1, :])  # last hidden state of the sequence\n",
    "        return out"
   ]
  },
  {
   "cell_type": "markdown",
   "metadata": {},
   "source": [
    "# Step11-1: Initialize the Bi-LSTM models"
   ]
  },
  {
   "cell_type": "code",
   "execution_count": 36,
   "metadata": {},
   "outputs": [
    {
     "name": "stdout",
     "output_type": "stream",
     "text": [
      "Bi-LSTM\n",
      "LSTM_Model(\n",
      "  (embedding): Embedding(77398, 300)\n",
      "  (lstm): LSTM(300, 25, num_layers=2, batch_first=True, dropout=0.5, bidirectional=True)\n",
      "  (fc): Linear(in_features=50, out_features=3, bias=True)\n",
      ")\n"
     ]
    }
   ],
   "source": [
    "# Instantiate the model w/ hperparams\n",
    "vocab_size = len(vocab_to_int) + 1  # +1 for the 0 padding, 0.1 for the 10% of the total data (see step7)\n",
    "output_size = 1\n",
    "embed = 300\n",
    "hidden_size = 25\n",
    "num_layers = 2\n",
    "dropout = 0.5\n",
    "num_classes = 3\n",
    "epochs = 10\n",
    "bidirectional = False\n",
    "\n",
    "model_bilstm = LSTM_Model(vocab_size, output_size, embed, hidden_size, num_layers, num_classes, dropout, True)\n",
    "print('Bi-LSTM')\n",
    "print(model_bilstm)\n"
   ]
  },
  {
   "cell_type": "markdown",
   "metadata": {},
   "source": [
    "# Step12: Train the model"
   ]
  },
  {
   "cell_type": "code",
   "execution_count": 37,
   "metadata": {},
   "outputs": [],
   "source": [
    "def train(epoch, model):\n",
    "    lr = 0.0001  # learning rate\n",
    "    model.train()\n",
    "    optimizer = torch.optim.Adam(model.parameters(), lr=lr, weight_decay=0.001)\n",
    "    total_batch = 0\n",
    "    train_loss = 0\n",
    "    result_train_dict = {}\n",
    "    result_valid_dict = {}\n",
    "    epoch_train_list = []\n",
    "    epoch_valid_list = []\n",
    "    batch_train_list = []\n",
    "    batch_valid_list = []\n",
    "    loss_train_list = []\n",
    "    loss_valid_list = []\n",
    "    acc_train_list = []\n",
    "    acc_valid_list = []\n",
    "    f1_train_list = []\n",
    "    f1_valid_list = []\n",
    "    recall_train_list = []\n",
    "    recall_valid_list = []\n",
    "    for batch_idx, (trains, labels) in enumerate(train_loader):\n",
    "        \n",
    "        outputs = model(trains.long())\n",
    "        model.zero_grad()\n",
    "        loss = F.cross_entropy(outputs, labels.long())\n",
    "        loss.backward()\n",
    "        optimizer.step()\n",
    "        train_loss += loss.item()\n",
    "        \n",
    "        \n",
    "        true = labels.data.cpu()\n",
    "        predic = torch.max(outputs.data, 1)[1].cpu()\n",
    "        train_acc = metrics.accuracy_score(true, predic)\n",
    "        train_f1 = metrics.f1_score(true, predic, average='micro')\n",
    "        train_recall = metrics.recall_score(true, predic, average='micro')\n",
    "        loss_value = train_loss/(batch_idx+1)\n",
    "        \n",
    "        epoch_train_list.append(epoch)\n",
    "        batch_train_list.append(batch_idx)\n",
    "        loss_train_list.append(loss_value)\n",
    "        acc_train_list.append(train_acc)\n",
    "        f1_train_list.append(train_f1)\n",
    "        recall_train_list.append(train_recall)\n",
    "\n",
    "        if total_batch % 100 == 0 :\n",
    "            \n",
    "            for trains, labels in valid_loader:\n",
    "                outputs = model(trains.long())\n",
    "                valid_loss = F.cross_entropy(outputs, labels.long())\n",
    "                \n",
    "                true = labels.data.cpu()\n",
    "                predic = torch.max(outputs.data, 1)[1].cpu()\n",
    "                valid_acc = metrics.accuracy_score(true, predic)\n",
    "                valid_f1 = metrics.f1_score(true, predic, average='micro')\n",
    "                valid_recall = metrics.recall_score(true, predic, average='micro')\n",
    "                \n",
    "                epoch_valid_list.append(epoch)\n",
    "                batch_valid_list.append(batch_idx)\n",
    "                loss_valid_list.append(valid_loss.item())\n",
    "                acc_valid_list.append(valid_acc)\n",
    "                f1_valid_list.append(valid_f1)\n",
    "                recall_valid_list.append(valid_recall)\n",
    "                \n",
    "                avg_acc_valid = np.array(acc_valid_list).mean()\n",
    "                avg_loss_valid = np.array(loss_valid_list).mean()\n",
    "                \n",
    "            print('epoch: {}'.format(epoch), 'batch: {}'.format(batch_idx), \n",
    "                  'total train loader: {}'.format(len(train_loader)),\n",
    "                  'T_Loss: %.3f | T_Acc: %.3f |' % (loss_value, train_acc),\n",
    "                  'T_f1: %.3f | T_recall: %.3f ||' % (train_f1, train_recall),\n",
    "                  'V_Loss: %.3f | V_Acc: %.3f' % (avg_loss_valid, avg_acc_valid),\n",
    "                  'V_f1: %.3f | V_recall: %.3f' % (valid_f1, valid_recall))\n",
    "        total_batch += 1\n",
    "        \n",
    "    result_train_dict['epoch'] = epoch_train_list\n",
    "    result_train_dict['batch'] = batch_train_list\n",
    "    result_train_dict['loss'] = loss_train_list\n",
    "    result_train_dict['acc'] = acc_train_list\n",
    "    result_train_dict['f1'] = f1_train_list\n",
    "    result_train_dict['recall'] = recall_train_list\n",
    "    \n",
    "    result_valid_dict['epoch'] = epoch_valid_list\n",
    "    result_valid_dict['batch'] = batch_valid_list\n",
    "    result_valid_dict['loss'] = loss_valid_list\n",
    "    result_valid_dict['acc'] = acc_valid_list\n",
    "    result_valid_dict['f1'] = f1_valid_list\n",
    "    result_valid_dict['recall'] = recall_valid_list\n",
    "    \n",
    "    pd_train = pd.DataFrame(result_train_dict)\n",
    "    pd_valid = pd.DataFrame(result_valid_dict)\n",
    "\n",
    "    return pd_train, pd_valid"
   ]
  },
  {
   "cell_type": "markdown",
   "metadata": {},
   "source": [
    "## Step12-1. Bi-LSTM"
   ]
  },
  {
   "cell_type": "code",
   "execution_count": 38,
   "metadata": {
    "scrolled": true
   },
   "outputs": [
    {
     "name": "stdout",
     "output_type": "stream",
     "text": [
      "epoch: 0 batch: 0 total train loader: 799 T_Loss: 1.136 | T_Acc: 0.190 | T_f1: 0.190 | T_recall: 0.190 || V_Loss: 1.133 | V_Acc: 0.164 V_f1: 0.150 | V_recall: 0.150\n",
      "epoch: 0 batch: 100 total train loader: 799 T_Loss: 1.106 | T_Acc: 0.570 | T_f1: 0.570 | T_recall: 0.570 || V_Loss: 1.106 | V_Acc: 0.337 V_f1: 0.580 | V_recall: 0.580\n",
      "epoch: 0 batch: 200 total train loader: 799 T_Loss: 1.076 | T_Acc: 0.750 | T_f1: 0.750 | T_recall: 0.750 || V_Loss: 1.072 | V_Acc: 0.447 V_f1: 0.700 | V_recall: 0.700\n",
      "epoch: 0 batch: 300 total train loader: 799 T_Loss: 1.032 | T_Acc: 0.710 | T_f1: 0.710 | T_recall: 0.710 || V_Loss: 1.023 | V_Acc: 0.503 V_f1: 0.630 | V_recall: 0.630\n",
      "epoch: 0 batch: 400 total train loader: 799 T_Loss: 0.983 | T_Acc: 0.660 | T_f1: 0.660 | T_recall: 0.660 || V_Loss: 0.984 | V_Acc: 0.536 V_f1: 0.690 | V_recall: 0.690\n",
      "epoch: 0 batch: 500 total train loader: 799 T_Loss: 0.952 | T_Acc: 0.630 | T_f1: 0.630 | T_recall: 0.630 || V_Loss: 0.956 | V_Acc: 0.558 V_f1: 0.680 | V_recall: 0.680\n",
      "epoch: 0 batch: 600 total train loader: 799 T_Loss: 0.928 | T_Acc: 0.640 | T_f1: 0.640 | T_recall: 0.640 || V_Loss: 0.933 | V_Acc: 0.574 V_f1: 0.620 | V_recall: 0.620\n",
      "epoch: 0 batch: 700 total train loader: 799 T_Loss: 0.906 | T_Acc: 0.720 | T_f1: 0.720 | T_recall: 0.720 || V_Loss: 0.910 | V_Acc: 0.586 V_f1: 0.770 | V_recall: 0.770\n",
      "epoch: 1 batch: 0 total train loader: 799 T_Loss: 0.815 | T_Acc: 0.630 | T_f1: 0.630 | T_recall: 0.630 || V_Loss: 0.702 | V_Acc: 0.688 V_f1: 0.680 | V_recall: 0.680\n",
      "epoch: 1 batch: 100 total train loader: 799 T_Loss: 0.703 | T_Acc: 0.660 | T_f1: 0.660 | T_recall: 0.660 || V_Loss: 0.695 | V_Acc: 0.695 V_f1: 0.760 | V_recall: 0.760\n",
      "epoch: 1 batch: 200 total train loader: 799 T_Loss: 0.693 | T_Acc: 0.700 | T_f1: 0.700 | T_recall: 0.700 || V_Loss: 0.688 | V_Acc: 0.701 V_f1: 0.770 | V_recall: 0.770\n",
      "epoch: 1 batch: 300 total train loader: 799 T_Loss: 0.686 | T_Acc: 0.740 | T_f1: 0.740 | T_recall: 0.740 || V_Loss: 0.684 | V_Acc: 0.707 V_f1: 0.650 | V_recall: 0.650\n",
      "epoch: 1 batch: 400 total train loader: 799 T_Loss: 0.681 | T_Acc: 0.730 | T_f1: 0.730 | T_recall: 0.730 || V_Loss: 0.679 | V_Acc: 0.711 V_f1: 0.710 | V_recall: 0.710\n",
      "epoch: 1 batch: 500 total train loader: 799 T_Loss: 0.675 | T_Acc: 0.800 | T_f1: 0.800 | T_recall: 0.800 || V_Loss: 0.673 | V_Acc: 0.716 V_f1: 0.760 | V_recall: 0.760\n",
      "epoch: 1 batch: 600 total train loader: 799 T_Loss: 0.670 | T_Acc: 0.700 | T_f1: 0.700 | T_recall: 0.700 || V_Loss: 0.669 | V_Acc: 0.720 V_f1: 0.720 | V_recall: 0.720\n",
      "epoch: 1 batch: 700 total train loader: 799 T_Loss: 0.666 | T_Acc: 0.810 | T_f1: 0.810 | T_recall: 0.810 || V_Loss: 0.665 | V_Acc: 0.723 V_f1: 0.740 | V_recall: 0.740\n",
      "epoch: 2 batch: 0 total train loader: 799 T_Loss: 0.695 | T_Acc: 0.690 | T_f1: 0.690 | T_recall: 0.690 || V_Loss: 0.628 | V_Acc: 0.756 V_f1: 0.780 | V_recall: 0.780\n",
      "epoch: 2 batch: 100 total train loader: 799 T_Loss: 0.628 | T_Acc: 0.660 | T_f1: 0.660 | T_recall: 0.660 || V_Loss: 0.626 | V_Acc: 0.756 V_f1: 0.820 | V_recall: 0.820\n",
      "epoch: 2 batch: 200 total train loader: 799 T_Loss: 0.623 | T_Acc: 0.730 | T_f1: 0.730 | T_recall: 0.730 || V_Loss: 0.623 | V_Acc: 0.759 V_f1: 0.730 | V_recall: 0.730\n",
      "epoch: 2 batch: 300 total train loader: 799 T_Loss: 0.621 | T_Acc: 0.800 | T_f1: 0.800 | T_recall: 0.800 || V_Loss: 0.621 | V_Acc: 0.761 V_f1: 0.760 | V_recall: 0.760\n",
      "epoch: 2 batch: 400 total train loader: 799 T_Loss: 0.620 | T_Acc: 0.710 | T_f1: 0.710 | T_recall: 0.710 || V_Loss: 0.618 | V_Acc: 0.763 V_f1: 0.770 | V_recall: 0.770\n",
      "epoch: 2 batch: 500 total train loader: 799 T_Loss: 0.615 | T_Acc: 0.810 | T_f1: 0.810 | T_recall: 0.810 || V_Loss: 0.615 | V_Acc: 0.765 V_f1: 0.790 | V_recall: 0.790\n",
      "epoch: 2 batch: 600 total train loader: 799 T_Loss: 0.611 | T_Acc: 0.750 | T_f1: 0.750 | T_recall: 0.750 || V_Loss: 0.612 | V_Acc: 0.767 V_f1: 0.720 | V_recall: 0.720\n",
      "epoch: 2 batch: 700 total train loader: 799 T_Loss: 0.609 | T_Acc: 0.830 | T_f1: 0.830 | T_recall: 0.830 || V_Loss: 0.609 | V_Acc: 0.768 V_f1: 0.770 | V_recall: 0.770\n",
      "epoch: 3 batch: 0 total train loader: 799 T_Loss: 0.494 | T_Acc: 0.820 | T_f1: 0.820 | T_recall: 0.820 || V_Loss: 0.591 | V_Acc: 0.774 V_f1: 0.860 | V_recall: 0.860\n",
      "epoch: 3 batch: 100 total train loader: 799 T_Loss: 0.581 | T_Acc: 0.730 | T_f1: 0.730 | T_recall: 0.730 || V_Loss: 0.590 | V_Acc: 0.774 V_f1: 0.730 | V_recall: 0.730\n",
      "epoch: 3 batch: 200 total train loader: 799 T_Loss: 0.581 | T_Acc: 0.820 | T_f1: 0.820 | T_recall: 0.820 || V_Loss: 0.586 | V_Acc: 0.777 V_f1: 0.700 | V_recall: 0.700\n",
      "epoch: 3 batch: 300 total train loader: 799 T_Loss: 0.581 | T_Acc: 0.730 | T_f1: 0.730 | T_recall: 0.730 || V_Loss: 0.584 | V_Acc: 0.778 V_f1: 0.760 | V_recall: 0.760\n",
      "epoch: 3 batch: 400 total train loader: 799 T_Loss: 0.580 | T_Acc: 0.840 | T_f1: 0.840 | T_recall: 0.840 || V_Loss: 0.582 | V_Acc: 0.779 V_f1: 0.810 | V_recall: 0.810\n",
      "epoch: 3 batch: 500 total train loader: 799 T_Loss: 0.577 | T_Acc: 0.770 | T_f1: 0.770 | T_recall: 0.770 || V_Loss: 0.580 | V_Acc: 0.781 V_f1: 0.800 | V_recall: 0.800\n",
      "epoch: 3 batch: 600 total train loader: 799 T_Loss: 0.576 | T_Acc: 0.740 | T_f1: 0.740 | T_recall: 0.740 || V_Loss: 0.579 | V_Acc: 0.781 V_f1: 0.800 | V_recall: 0.800\n",
      "epoch: 3 batch: 700 total train loader: 799 T_Loss: 0.576 | T_Acc: 0.800 | T_f1: 0.800 | T_recall: 0.800 || V_Loss: 0.577 | V_Acc: 0.782 V_f1: 0.800 | V_recall: 0.800\n",
      "epoch: 4 batch: 0 total train loader: 799 T_Loss: 0.505 | T_Acc: 0.810 | T_f1: 0.810 | T_recall: 0.810 || V_Loss: 0.562 | V_Acc: 0.790 V_f1: 0.740 | V_recall: 0.740\n",
      "epoch: 4 batch: 100 total train loader: 799 T_Loss: 0.554 | T_Acc: 0.790 | T_f1: 0.790 | T_recall: 0.790 || V_Loss: 0.558 | V_Acc: 0.792 V_f1: 0.860 | V_recall: 0.860\n",
      "epoch: 4 batch: 200 total train loader: 799 T_Loss: 0.555 | T_Acc: 0.780 | T_f1: 0.780 | T_recall: 0.780 || V_Loss: 0.557 | V_Acc: 0.792 V_f1: 0.770 | V_recall: 0.770\n",
      "epoch: 4 batch: 300 total train loader: 799 T_Loss: 0.552 | T_Acc: 0.890 | T_f1: 0.890 | T_recall: 0.890 || V_Loss: 0.556 | V_Acc: 0.792 V_f1: 0.840 | V_recall: 0.840\n",
      "epoch: 4 batch: 400 total train loader: 799 T_Loss: 0.550 | T_Acc: 0.770 | T_f1: 0.770 | T_recall: 0.770 || V_Loss: 0.555 | V_Acc: 0.792 V_f1: 0.800 | V_recall: 0.800\n",
      "epoch: 4 batch: 500 total train loader: 799 T_Loss: 0.552 | T_Acc: 0.700 | T_f1: 0.700 | T_recall: 0.700 || V_Loss: 0.554 | V_Acc: 0.793 V_f1: 0.740 | V_recall: 0.740\n",
      "epoch: 4 batch: 600 total train loader: 799 T_Loss: 0.549 | T_Acc: 0.760 | T_f1: 0.760 | T_recall: 0.760 || V_Loss: 0.553 | V_Acc: 0.793 V_f1: 0.840 | V_recall: 0.840\n",
      "epoch: 4 batch: 700 total train loader: 799 T_Loss: 0.548 | T_Acc: 0.780 | T_f1: 0.780 | T_recall: 0.780 || V_Loss: 0.552 | V_Acc: 0.794 V_f1: 0.850 | V_recall: 0.850\n",
      "epoch: 5 batch: 0 total train loader: 799 T_Loss: 0.616 | T_Acc: 0.760 | T_f1: 0.760 | T_recall: 0.760 || V_Loss: 0.541 | V_Acc: 0.798 V_f1: 0.840 | V_recall: 0.840\n",
      "epoch: 5 batch: 100 total train loader: 799 T_Loss: 0.550 | T_Acc: 0.850 | T_f1: 0.850 | T_recall: 0.850 || V_Loss: 0.541 | V_Acc: 0.798 V_f1: 0.820 | V_recall: 0.820\n",
      "epoch: 5 batch: 200 total train loader: 799 T_Loss: 0.537 | T_Acc: 0.870 | T_f1: 0.870 | T_recall: 0.870 || V_Loss: 0.540 | V_Acc: 0.798 V_f1: 0.810 | V_recall: 0.810\n",
      "epoch: 5 batch: 300 total train loader: 799 T_Loss: 0.536 | T_Acc: 0.830 | T_f1: 0.830 | T_recall: 0.830 || V_Loss: 0.538 | V_Acc: 0.799 V_f1: 0.880 | V_recall: 0.880\n",
      "epoch: 5 batch: 400 total train loader: 799 T_Loss: 0.529 | T_Acc: 0.810 | T_f1: 0.810 | T_recall: 0.810 || V_Loss: 0.536 | V_Acc: 0.800 V_f1: 0.760 | V_recall: 0.760\n",
      "epoch: 5 batch: 500 total train loader: 799 T_Loss: 0.529 | T_Acc: 0.860 | T_f1: 0.860 | T_recall: 0.860 || V_Loss: 0.535 | V_Acc: 0.801 V_f1: 0.760 | V_recall: 0.760\n",
      "epoch: 5 batch: 600 total train loader: 799 T_Loss: 0.527 | T_Acc: 0.830 | T_f1: 0.830 | T_recall: 0.830 || V_Loss: 0.534 | V_Acc: 0.801 V_f1: 0.810 | V_recall: 0.810\n",
      "epoch: 5 batch: 700 total train loader: 799 T_Loss: 0.528 | T_Acc: 0.800 | T_f1: 0.800 | T_recall: 0.800 || V_Loss: 0.533 | V_Acc: 0.801 V_f1: 0.840 | V_recall: 0.840\n",
      "epoch: 6 batch: 0 total train loader: 799 T_Loss: 0.485 | T_Acc: 0.830 | T_f1: 0.830 | T_recall: 0.830 || V_Loss: 0.531 | V_Acc: 0.800 V_f1: 0.840 | V_recall: 0.840\n",
      "epoch: 6 batch: 100 total train loader: 799 T_Loss: 0.502 | T_Acc: 0.810 | T_f1: 0.810 | T_recall: 0.810 || V_Loss: 0.526 | V_Acc: 0.805 V_f1: 0.860 | V_recall: 0.860\n"
     ]
    },
    {
     "name": "stdout",
     "output_type": "stream",
     "text": [
      "epoch: 6 batch: 200 total train loader: 799 T_Loss: 0.507 | T_Acc: 0.870 | T_f1: 0.870 | T_recall: 0.870 || V_Loss: 0.524 | V_Acc: 0.805 V_f1: 0.870 | V_recall: 0.870\n",
      "epoch: 6 batch: 300 total train loader: 799 T_Loss: 0.509 | T_Acc: 0.830 | T_f1: 0.830 | T_recall: 0.830 || V_Loss: 0.524 | V_Acc: 0.805 V_f1: 0.730 | V_recall: 0.730\n",
      "epoch: 6 batch: 400 total train loader: 799 T_Loss: 0.508 | T_Acc: 0.810 | T_f1: 0.810 | T_recall: 0.810 || V_Loss: 0.524 | V_Acc: 0.805 V_f1: 0.900 | V_recall: 0.900\n",
      "epoch: 6 batch: 500 total train loader: 799 T_Loss: 0.509 | T_Acc: 0.800 | T_f1: 0.800 | T_recall: 0.800 || V_Loss: 0.523 | V_Acc: 0.805 V_f1: 0.790 | V_recall: 0.790\n",
      "epoch: 6 batch: 600 total train loader: 799 T_Loss: 0.510 | T_Acc: 0.770 | T_f1: 0.770 | T_recall: 0.770 || V_Loss: 0.521 | V_Acc: 0.806 V_f1: 0.780 | V_recall: 0.780\n",
      "epoch: 6 batch: 700 total train loader: 799 T_Loss: 0.512 | T_Acc: 0.810 | T_f1: 0.810 | T_recall: 0.810 || V_Loss: 0.520 | V_Acc: 0.807 V_f1: 0.760 | V_recall: 0.760\n",
      "epoch: 7 batch: 0 total train loader: 799 T_Loss: 0.482 | T_Acc: 0.800 | T_f1: 0.800 | T_recall: 0.800 || V_Loss: 0.516 | V_Acc: 0.809 V_f1: 0.870 | V_recall: 0.870\n",
      "epoch: 7 batch: 100 total train loader: 799 T_Loss: 0.506 | T_Acc: 0.820 | T_f1: 0.820 | T_recall: 0.820 || V_Loss: 0.513 | V_Acc: 0.810 V_f1: 0.800 | V_recall: 0.800\n",
      "epoch: 7 batch: 200 total train loader: 799 T_Loss: 0.501 | T_Acc: 0.890 | T_f1: 0.890 | T_recall: 0.890 || V_Loss: 0.512 | V_Acc: 0.809 V_f1: 0.860 | V_recall: 0.860\n",
      "epoch: 7 batch: 300 total train loader: 799 T_Loss: 0.502 | T_Acc: 0.860 | T_f1: 0.860 | T_recall: 0.860 || V_Loss: 0.510 | V_Acc: 0.810 V_f1: 0.810 | V_recall: 0.810\n",
      "epoch: 7 batch: 400 total train loader: 799 T_Loss: 0.501 | T_Acc: 0.800 | T_f1: 0.800 | T_recall: 0.800 || V_Loss: 0.509 | V_Acc: 0.811 V_f1: 0.750 | V_recall: 0.750\n",
      "epoch: 7 batch: 500 total train loader: 799 T_Loss: 0.499 | T_Acc: 0.830 | T_f1: 0.830 | T_recall: 0.830 || V_Loss: 0.508 | V_Acc: 0.812 V_f1: 0.860 | V_recall: 0.860\n",
      "epoch: 7 batch: 600 total train loader: 799 T_Loss: 0.500 | T_Acc: 0.790 | T_f1: 0.790 | T_recall: 0.790 || V_Loss: 0.507 | V_Acc: 0.812 V_f1: 0.810 | V_recall: 0.810\n",
      "epoch: 7 batch: 700 total train loader: 799 T_Loss: 0.499 | T_Acc: 0.800 | T_f1: 0.800 | T_recall: 0.800 || V_Loss: 0.506 | V_Acc: 0.812 V_f1: 0.830 | V_recall: 0.830\n",
      "epoch: 8 batch: 0 total train loader: 799 T_Loss: 0.481 | T_Acc: 0.780 | T_f1: 0.780 | T_recall: 0.780 || V_Loss: 0.498 | V_Acc: 0.815 V_f1: 0.780 | V_recall: 0.780\n",
      "epoch: 8 batch: 100 total train loader: 799 T_Loss: 0.488 | T_Acc: 0.820 | T_f1: 0.820 | T_recall: 0.820 || V_Loss: 0.501 | V_Acc: 0.813 V_f1: 0.840 | V_recall: 0.840\n",
      "epoch: 8 batch: 200 total train loader: 799 T_Loss: 0.480 | T_Acc: 0.800 | T_f1: 0.800 | T_recall: 0.800 || V_Loss: 0.499 | V_Acc: 0.814 V_f1: 0.810 | V_recall: 0.810\n",
      "epoch: 8 batch: 300 total train loader: 799 T_Loss: 0.483 | T_Acc: 0.800 | T_f1: 0.800 | T_recall: 0.800 || V_Loss: 0.498 | V_Acc: 0.814 V_f1: 0.860 | V_recall: 0.860\n",
      "epoch: 8 batch: 400 total train loader: 799 T_Loss: 0.485 | T_Acc: 0.790 | T_f1: 0.790 | T_recall: 0.790 || V_Loss: 0.497 | V_Acc: 0.814 V_f1: 0.830 | V_recall: 0.830\n",
      "epoch: 8 batch: 500 total train loader: 799 T_Loss: 0.486 | T_Acc: 0.840 | T_f1: 0.840 | T_recall: 0.840 || V_Loss: 0.497 | V_Acc: 0.815 V_f1: 0.870 | V_recall: 0.870\n",
      "epoch: 8 batch: 600 total train loader: 799 T_Loss: 0.487 | T_Acc: 0.830 | T_f1: 0.830 | T_recall: 0.830 || V_Loss: 0.496 | V_Acc: 0.815 V_f1: 0.850 | V_recall: 0.850\n",
      "epoch: 8 batch: 700 total train loader: 799 T_Loss: 0.485 | T_Acc: 0.780 | T_f1: 0.780 | T_recall: 0.780 || V_Loss: 0.496 | V_Acc: 0.815 V_f1: 0.800 | V_recall: 0.800\n",
      "epoch: 9 batch: 0 total train loader: 799 T_Loss: 0.464 | T_Acc: 0.800 | T_f1: 0.800 | T_recall: 0.800 || V_Loss: 0.492 | V_Acc: 0.816 V_f1: 0.810 | V_recall: 0.810\n",
      "epoch: 9 batch: 100 total train loader: 799 T_Loss: 0.472 | T_Acc: 0.840 | T_f1: 0.840 | T_recall: 0.840 || V_Loss: 0.492 | V_Acc: 0.816 V_f1: 0.810 | V_recall: 0.810\n",
      "epoch: 9 batch: 200 total train loader: 799 T_Loss: 0.473 | T_Acc: 0.830 | T_f1: 0.830 | T_recall: 0.830 || V_Loss: 0.491 | V_Acc: 0.816 V_f1: 0.740 | V_recall: 0.740\n",
      "epoch: 9 batch: 300 total train loader: 799 T_Loss: 0.474 | T_Acc: 0.770 | T_f1: 0.770 | T_recall: 0.770 || V_Loss: 0.491 | V_Acc: 0.816 V_f1: 0.820 | V_recall: 0.820\n",
      "epoch: 9 batch: 400 total train loader: 799 T_Loss: 0.476 | T_Acc: 0.810 | T_f1: 0.810 | T_recall: 0.810 || V_Loss: 0.490 | V_Acc: 0.817 V_f1: 0.870 | V_recall: 0.870\n",
      "epoch: 9 batch: 500 total train loader: 799 T_Loss: 0.475 | T_Acc: 0.850 | T_f1: 0.850 | T_recall: 0.850 || V_Loss: 0.490 | V_Acc: 0.817 V_f1: 0.820 | V_recall: 0.820\n",
      "epoch: 9 batch: 600 total train loader: 799 T_Loss: 0.475 | T_Acc: 0.810 | T_f1: 0.810 | T_recall: 0.810 || V_Loss: 0.489 | V_Acc: 0.818 V_f1: 0.800 | V_recall: 0.800\n",
      "epoch: 9 batch: 700 total train loader: 799 T_Loss: 0.477 | T_Acc: 0.870 | T_f1: 0.870 | T_recall: 0.870 || V_Loss: 0.489 | V_Acc: 0.818 V_f1: 0.790 | V_recall: 0.790\n",
      "epoch: 10 batch: 0 total train loader: 799 T_Loss: 0.544 | T_Acc: 0.780 | T_f1: 0.780 | T_recall: 0.780 || V_Loss: 0.486 | V_Acc: 0.817 V_f1: 0.840 | V_recall: 0.840\n",
      "epoch: 10 batch: 100 total train loader: 799 T_Loss: 0.472 | T_Acc: 0.830 | T_f1: 0.830 | T_recall: 0.830 || V_Loss: 0.486 | V_Acc: 0.816 V_f1: 0.810 | V_recall: 0.810\n",
      "epoch: 10 batch: 200 total train loader: 799 T_Loss: 0.474 | T_Acc: 0.870 | T_f1: 0.870 | T_recall: 0.870 || V_Loss: 0.484 | V_Acc: 0.818 V_f1: 0.800 | V_recall: 0.800\n",
      "epoch: 10 batch: 300 total train loader: 799 T_Loss: 0.475 | T_Acc: 0.820 | T_f1: 0.820 | T_recall: 0.820 || V_Loss: 0.484 | V_Acc: 0.818 V_f1: 0.840 | V_recall: 0.840\n",
      "epoch: 10 batch: 400 total train loader: 799 T_Loss: 0.472 | T_Acc: 0.860 | T_f1: 0.860 | T_recall: 0.860 || V_Loss: 0.484 | V_Acc: 0.818 V_f1: 0.780 | V_recall: 0.780\n",
      "epoch: 10 batch: 500 total train loader: 799 T_Loss: 0.472 | T_Acc: 0.790 | T_f1: 0.790 | T_recall: 0.790 || V_Loss: 0.483 | V_Acc: 0.818 V_f1: 0.820 | V_recall: 0.820\n",
      "epoch: 10 batch: 600 total train loader: 799 T_Loss: 0.471 | T_Acc: 0.790 | T_f1: 0.790 | T_recall: 0.790 || V_Loss: 0.483 | V_Acc: 0.818 V_f1: 0.810 | V_recall: 0.810\n",
      "epoch: 10 batch: 700 total train loader: 799 T_Loss: 0.470 | T_Acc: 0.840 | T_f1: 0.840 | T_recall: 0.840 || V_Loss: 0.482 | V_Acc: 0.819 V_f1: 0.790 | V_recall: 0.790\n",
      "epoch: 11 batch: 0 total train loader: 799 T_Loss: 0.394 | T_Acc: 0.850 | T_f1: 0.850 | T_recall: 0.850 || V_Loss: 0.479 | V_Acc: 0.821 V_f1: 0.850 | V_recall: 0.850\n",
      "epoch: 11 batch: 100 total train loader: 799 T_Loss: 0.454 | T_Acc: 0.880 | T_f1: 0.880 | T_recall: 0.880 || V_Loss: 0.480 | V_Acc: 0.821 V_f1: 0.840 | V_recall: 0.840\n",
      "epoch: 11 batch: 200 total train loader: 799 T_Loss: 0.452 | T_Acc: 0.880 | T_f1: 0.880 | T_recall: 0.880 || V_Loss: 0.479 | V_Acc: 0.820 V_f1: 0.850 | V_recall: 0.850\n",
      "epoch: 11 batch: 300 total train loader: 799 T_Loss: 0.455 | T_Acc: 0.840 | T_f1: 0.840 | T_recall: 0.840 || V_Loss: 0.478 | V_Acc: 0.821 V_f1: 0.830 | V_recall: 0.830\n",
      "epoch: 11 batch: 400 total train loader: 799 T_Loss: 0.455 | T_Acc: 0.810 | T_f1: 0.810 | T_recall: 0.810 || V_Loss: 0.478 | V_Acc: 0.821 V_f1: 0.770 | V_recall: 0.770\n",
      "epoch: 11 batch: 500 total train loader: 799 T_Loss: 0.457 | T_Acc: 0.830 | T_f1: 0.830 | T_recall: 0.830 || V_Loss: 0.478 | V_Acc: 0.821 V_f1: 0.780 | V_recall: 0.780\n",
      "epoch: 11 batch: 600 total train loader: 799 T_Loss: 0.457 | T_Acc: 0.850 | T_f1: 0.850 | T_recall: 0.850 || V_Loss: 0.478 | V_Acc: 0.821 V_f1: 0.870 | V_recall: 0.870\n",
      "epoch: 11 batch: 700 total train loader: 799 T_Loss: 0.459 | T_Acc: 0.790 | T_f1: 0.790 | T_recall: 0.790 || V_Loss: 0.478 | V_Acc: 0.821 V_f1: 0.790 | V_recall: 0.790\n",
      "epoch: 12 batch: 0 total train loader: 799 T_Loss: 0.447 | T_Acc: 0.820 | T_f1: 0.820 | T_recall: 0.820 || V_Loss: 0.472 | V_Acc: 0.823 V_f1: 0.820 | V_recall: 0.820\n",
      "epoch: 12 batch: 100 total train loader: 799 T_Loss: 0.459 | T_Acc: 0.820 | T_f1: 0.820 | T_recall: 0.820 || V_Loss: 0.475 | V_Acc: 0.821 V_f1: 0.760 | V_recall: 0.760\n",
      "epoch: 12 batch: 200 total train loader: 799 T_Loss: 0.457 | T_Acc: 0.790 | T_f1: 0.790 | T_recall: 0.790 || V_Loss: 0.475 | V_Acc: 0.821 V_f1: 0.830 | V_recall: 0.830\n",
      "epoch: 12 batch: 300 total train loader: 799 T_Loss: 0.449 | T_Acc: 0.840 | T_f1: 0.840 | T_recall: 0.840 || V_Loss: 0.473 | V_Acc: 0.822 V_f1: 0.840 | V_recall: 0.840\n"
     ]
    },
    {
     "name": "stdout",
     "output_type": "stream",
     "text": [
      "epoch: 12 batch: 400 total train loader: 799 T_Loss: 0.450 | T_Acc: 0.810 | T_f1: 0.810 | T_recall: 0.810 || V_Loss: 0.473 | V_Acc: 0.822 V_f1: 0.790 | V_recall: 0.790\n",
      "epoch: 12 batch: 500 total train loader: 799 T_Loss: 0.452 | T_Acc: 0.800 | T_f1: 0.800 | T_recall: 0.800 || V_Loss: 0.473 | V_Acc: 0.822 V_f1: 0.780 | V_recall: 0.780\n",
      "epoch: 12 batch: 600 total train loader: 799 T_Loss: 0.453 | T_Acc: 0.770 | T_f1: 0.770 | T_recall: 0.770 || V_Loss: 0.473 | V_Acc: 0.822 V_f1: 0.770 | V_recall: 0.770\n",
      "epoch: 12 batch: 700 total train loader: 799 T_Loss: 0.453 | T_Acc: 0.850 | T_f1: 0.850 | T_recall: 0.850 || V_Loss: 0.473 | V_Acc: 0.822 V_f1: 0.850 | V_recall: 0.850\n",
      "epoch: 13 batch: 0 total train loader: 799 T_Loss: 0.337 | T_Acc: 0.860 | T_f1: 0.860 | T_recall: 0.860 || V_Loss: 0.472 | V_Acc: 0.821 V_f1: 0.830 | V_recall: 0.830\n",
      "epoch: 13 batch: 100 total train loader: 799 T_Loss: 0.457 | T_Acc: 0.800 | T_f1: 0.800 | T_recall: 0.800 || V_Loss: 0.476 | V_Acc: 0.820 V_f1: 0.800 | V_recall: 0.800\n",
      "epoch: 13 batch: 200 total train loader: 799 T_Loss: 0.456 | T_Acc: 0.780 | T_f1: 0.780 | T_recall: 0.780 || V_Loss: 0.475 | V_Acc: 0.821 V_f1: 0.850 | V_recall: 0.850\n",
      "epoch: 13 batch: 300 total train loader: 799 T_Loss: 0.457 | T_Acc: 0.810 | T_f1: 0.810 | T_recall: 0.810 || V_Loss: 0.477 | V_Acc: 0.820 V_f1: 0.890 | V_recall: 0.890\n",
      "epoch: 13 batch: 400 total train loader: 799 T_Loss: 0.455 | T_Acc: 0.780 | T_f1: 0.780 | T_recall: 0.780 || V_Loss: 0.477 | V_Acc: 0.820 V_f1: 0.870 | V_recall: 0.870\n",
      "epoch: 13 batch: 500 total train loader: 799 T_Loss: 0.454 | T_Acc: 0.810 | T_f1: 0.810 | T_recall: 0.810 || V_Loss: 0.475 | V_Acc: 0.821 V_f1: 0.840 | V_recall: 0.840\n",
      "epoch: 13 batch: 600 total train loader: 799 T_Loss: 0.454 | T_Acc: 0.830 | T_f1: 0.830 | T_recall: 0.830 || V_Loss: 0.474 | V_Acc: 0.821 V_f1: 0.870 | V_recall: 0.870\n",
      "epoch: 13 batch: 700 total train loader: 799 T_Loss: 0.452 | T_Acc: 0.900 | T_f1: 0.900 | T_recall: 0.900 || V_Loss: 0.474 | V_Acc: 0.821 V_f1: 0.820 | V_recall: 0.820\n",
      "epoch: 14 batch: 0 total train loader: 799 T_Loss: 0.335 | T_Acc: 0.880 | T_f1: 0.880 | T_recall: 0.880 || V_Loss: 0.475 | V_Acc: 0.820 V_f1: 0.770 | V_recall: 0.770\n",
      "epoch: 14 batch: 100 total train loader: 799 T_Loss: 0.452 | T_Acc: 0.870 | T_f1: 0.870 | T_recall: 0.870 || V_Loss: 0.474 | V_Acc: 0.822 V_f1: 0.850 | V_recall: 0.850\n",
      "epoch: 14 batch: 200 total train loader: 799 T_Loss: 0.447 | T_Acc: 0.810 | T_f1: 0.810 | T_recall: 0.810 || V_Loss: 0.473 | V_Acc: 0.822 V_f1: 0.860 | V_recall: 0.860\n",
      "epoch: 14 batch: 300 total train loader: 799 T_Loss: 0.447 | T_Acc: 0.820 | T_f1: 0.820 | T_recall: 0.820 || V_Loss: 0.473 | V_Acc: 0.822 V_f1: 0.860 | V_recall: 0.860\n",
      "epoch: 14 batch: 400 total train loader: 799 T_Loss: 0.447 | T_Acc: 0.820 | T_f1: 0.820 | T_recall: 0.820 || V_Loss: 0.472 | V_Acc: 0.822 V_f1: 0.780 | V_recall: 0.780\n",
      "epoch: 14 batch: 500 total train loader: 799 T_Loss: 0.447 | T_Acc: 0.830 | T_f1: 0.830 | T_recall: 0.830 || V_Loss: 0.471 | V_Acc: 0.822 V_f1: 0.800 | V_recall: 0.800\n",
      "epoch: 14 batch: 600 total train loader: 799 T_Loss: 0.448 | T_Acc: 0.820 | T_f1: 0.820 | T_recall: 0.820 || V_Loss: 0.471 | V_Acc: 0.822 V_f1: 0.850 | V_recall: 0.850\n",
      "epoch: 14 batch: 700 total train loader: 799 T_Loss: 0.448 | T_Acc: 0.840 | T_f1: 0.840 | T_recall: 0.840 || V_Loss: 0.470 | V_Acc: 0.822 V_f1: 0.830 | V_recall: 0.830\n",
      "epoch: 15 batch: 0 total train loader: 799 T_Loss: 0.456 | T_Acc: 0.840 | T_f1: 0.840 | T_recall: 0.840 || V_Loss: 0.465 | V_Acc: 0.825 V_f1: 0.820 | V_recall: 0.820\n",
      "epoch: 15 batch: 100 total train loader: 799 T_Loss: 0.426 | T_Acc: 0.790 | T_f1: 0.790 | T_recall: 0.790 || V_Loss: 0.465 | V_Acc: 0.824 V_f1: 0.810 | V_recall: 0.810\n",
      "epoch: 15 batch: 200 total train loader: 799 T_Loss: 0.432 | T_Acc: 0.830 | T_f1: 0.830 | T_recall: 0.830 || V_Loss: 0.466 | V_Acc: 0.824 V_f1: 0.790 | V_recall: 0.790\n",
      "epoch: 15 batch: 300 total train loader: 799 T_Loss: 0.437 | T_Acc: 0.780 | T_f1: 0.780 | T_recall: 0.780 || V_Loss: 0.470 | V_Acc: 0.822 V_f1: 0.780 | V_recall: 0.780\n",
      "epoch: 15 batch: 400 total train loader: 799 T_Loss: 0.441 | T_Acc: 0.780 | T_f1: 0.780 | T_recall: 0.780 || V_Loss: 0.471 | V_Acc: 0.822 V_f1: 0.770 | V_recall: 0.770\n",
      "epoch: 15 batch: 500 total train loader: 799 T_Loss: 0.441 | T_Acc: 0.810 | T_f1: 0.810 | T_recall: 0.810 || V_Loss: 0.470 | V_Acc: 0.823 V_f1: 0.790 | V_recall: 0.790\n",
      "epoch: 15 batch: 600 total train loader: 799 T_Loss: 0.441 | T_Acc: 0.890 | T_f1: 0.890 | T_recall: 0.890 || V_Loss: 0.469 | V_Acc: 0.823 V_f1: 0.860 | V_recall: 0.860\n",
      "epoch: 15 batch: 700 total train loader: 799 T_Loss: 0.443 | T_Acc: 0.830 | T_f1: 0.830 | T_recall: 0.830 || V_Loss: 0.468 | V_Acc: 0.823 V_f1: 0.850 | V_recall: 0.850\n",
      "epoch: 16 batch: 0 total train loader: 799 T_Loss: 0.487 | T_Acc: 0.800 | T_f1: 0.800 | T_recall: 0.800 || V_Loss: 0.465 | V_Acc: 0.823 V_f1: 0.880 | V_recall: 0.880\n",
      "epoch: 16 batch: 100 total train loader: 799 T_Loss: 0.441 | T_Acc: 0.810 | T_f1: 0.810 | T_recall: 0.810 || V_Loss: 0.464 | V_Acc: 0.822 V_f1: 0.840 | V_recall: 0.840\n",
      "epoch: 16 batch: 200 total train loader: 799 T_Loss: 0.441 | T_Acc: 0.880 | T_f1: 0.880 | T_recall: 0.880 || V_Loss: 0.465 | V_Acc: 0.823 V_f1: 0.830 | V_recall: 0.830\n",
      "epoch: 16 batch: 300 total train loader: 799 T_Loss: 0.442 | T_Acc: 0.810 | T_f1: 0.810 | T_recall: 0.810 || V_Loss: 0.465 | V_Acc: 0.823 V_f1: 0.820 | V_recall: 0.820\n",
      "epoch: 16 batch: 400 total train loader: 799 T_Loss: 0.437 | T_Acc: 0.800 | T_f1: 0.800 | T_recall: 0.800 || V_Loss: 0.465 | V_Acc: 0.824 V_f1: 0.830 | V_recall: 0.830\n",
      "epoch: 16 batch: 500 total train loader: 799 T_Loss: 0.438 | T_Acc: 0.800 | T_f1: 0.800 | T_recall: 0.800 || V_Loss: 0.465 | V_Acc: 0.824 V_f1: 0.780 | V_recall: 0.780\n",
      "epoch: 16 batch: 600 total train loader: 799 T_Loss: 0.438 | T_Acc: 0.830 | T_f1: 0.830 | T_recall: 0.830 || V_Loss: 0.465 | V_Acc: 0.824 V_f1: 0.790 | V_recall: 0.790\n",
      "epoch: 16 batch: 700 total train loader: 799 T_Loss: 0.438 | T_Acc: 0.840 | T_f1: 0.840 | T_recall: 0.840 || V_Loss: 0.464 | V_Acc: 0.824 V_f1: 0.840 | V_recall: 0.840\n",
      "epoch: 17 batch: 0 total train loader: 799 T_Loss: 0.336 | T_Acc: 0.930 | T_f1: 0.930 | T_recall: 0.930 || V_Loss: 0.461 | V_Acc: 0.824 V_f1: 0.800 | V_recall: 0.800\n",
      "epoch: 17 batch: 100 total train loader: 799 T_Loss: 0.425 | T_Acc: 0.850 | T_f1: 0.850 | T_recall: 0.850 || V_Loss: 0.462 | V_Acc: 0.823 V_f1: 0.900 | V_recall: 0.900\n",
      "epoch: 17 batch: 200 total train loader: 799 T_Loss: 0.436 | T_Acc: 0.870 | T_f1: 0.870 | T_recall: 0.870 || V_Loss: 0.464 | V_Acc: 0.823 V_f1: 0.780 | V_recall: 0.780\n",
      "epoch: 17 batch: 300 total train loader: 799 T_Loss: 0.433 | T_Acc: 0.760 | T_f1: 0.760 | T_recall: 0.760 || V_Loss: 0.465 | V_Acc: 0.823 V_f1: 0.870 | V_recall: 0.870\n",
      "epoch: 17 batch: 400 total train loader: 799 T_Loss: 0.431 | T_Acc: 0.850 | T_f1: 0.850 | T_recall: 0.850 || V_Loss: 0.465 | V_Acc: 0.823 V_f1: 0.880 | V_recall: 0.880\n",
      "epoch: 17 batch: 500 total train loader: 799 T_Loss: 0.432 | T_Acc: 0.780 | T_f1: 0.780 | T_recall: 0.780 || V_Loss: 0.465 | V_Acc: 0.823 V_f1: 0.780 | V_recall: 0.780\n",
      "epoch: 17 batch: 600 total train loader: 799 T_Loss: 0.433 | T_Acc: 0.840 | T_f1: 0.840 | T_recall: 0.840 || V_Loss: 0.464 | V_Acc: 0.823 V_f1: 0.850 | V_recall: 0.850\n",
      "epoch: 17 batch: 700 total train loader: 799 T_Loss: 0.434 | T_Acc: 0.830 | T_f1: 0.830 | T_recall: 0.830 || V_Loss: 0.463 | V_Acc: 0.824 V_f1: 0.820 | V_recall: 0.820\n",
      "epoch: 18 batch: 0 total train loader: 799 T_Loss: 0.358 | T_Acc: 0.840 | T_f1: 0.840 | T_recall: 0.840 || V_Loss: 0.472 | V_Acc: 0.823 V_f1: 0.790 | V_recall: 0.790\n",
      "epoch: 18 batch: 100 total train loader: 799 T_Loss: 0.430 | T_Acc: 0.830 | T_f1: 0.830 | T_recall: 0.830 || V_Loss: 0.464 | V_Acc: 0.824 V_f1: 0.870 | V_recall: 0.870\n",
      "epoch: 18 batch: 200 total train loader: 799 T_Loss: 0.430 | T_Acc: 0.860 | T_f1: 0.860 | T_recall: 0.860 || V_Loss: 0.465 | V_Acc: 0.824 V_f1: 0.840 | V_recall: 0.840\n",
      "epoch: 18 batch: 300 total train loader: 799 T_Loss: 0.429 | T_Acc: 0.810 | T_f1: 0.810 | T_recall: 0.810 || V_Loss: 0.462 | V_Acc: 0.824 V_f1: 0.800 | V_recall: 0.800\n",
      "epoch: 18 batch: 400 total train loader: 799 T_Loss: 0.431 | T_Acc: 0.830 | T_f1: 0.830 | T_recall: 0.830 || V_Loss: 0.461 | V_Acc: 0.825 V_f1: 0.910 | V_recall: 0.910\n"
     ]
    },
    {
     "name": "stdout",
     "output_type": "stream",
     "text": [
      "epoch: 18 batch: 500 total train loader: 799 T_Loss: 0.432 | T_Acc: 0.860 | T_f1: 0.860 | T_recall: 0.860 || V_Loss: 0.460 | V_Acc: 0.825 V_f1: 0.850 | V_recall: 0.850\n",
      "epoch: 18 batch: 600 total train loader: 799 T_Loss: 0.432 | T_Acc: 0.840 | T_f1: 0.840 | T_recall: 0.840 || V_Loss: 0.461 | V_Acc: 0.825 V_f1: 0.830 | V_recall: 0.830\n",
      "epoch: 18 batch: 700 total train loader: 799 T_Loss: 0.433 | T_Acc: 0.830 | T_f1: 0.830 | T_recall: 0.830 || V_Loss: 0.460 | V_Acc: 0.825 V_f1: 0.830 | V_recall: 0.830\n",
      "epoch: 19 batch: 0 total train loader: 799 T_Loss: 0.392 | T_Acc: 0.880 | T_f1: 0.880 | T_recall: 0.880 || V_Loss: 0.457 | V_Acc: 0.826 V_f1: 0.780 | V_recall: 0.780\n",
      "epoch: 19 batch: 100 total train loader: 799 T_Loss: 0.425 | T_Acc: 0.860 | T_f1: 0.860 | T_recall: 0.860 || V_Loss: 0.459 | V_Acc: 0.825 V_f1: 0.830 | V_recall: 0.830\n",
      "epoch: 19 batch: 200 total train loader: 799 T_Loss: 0.431 | T_Acc: 0.800 | T_f1: 0.800 | T_recall: 0.800 || V_Loss: 0.460 | V_Acc: 0.825 V_f1: 0.830 | V_recall: 0.830\n",
      "epoch: 19 batch: 300 total train loader: 799 T_Loss: 0.427 | T_Acc: 0.820 | T_f1: 0.820 | T_recall: 0.820 || V_Loss: 0.460 | V_Acc: 0.825 V_f1: 0.830 | V_recall: 0.830\n",
      "epoch: 19 batch: 400 total train loader: 799 T_Loss: 0.430 | T_Acc: 0.800 | T_f1: 0.800 | T_recall: 0.800 || V_Loss: 0.459 | V_Acc: 0.826 V_f1: 0.790 | V_recall: 0.790\n",
      "epoch: 19 batch: 500 total train loader: 799 T_Loss: 0.431 | T_Acc: 0.850 | T_f1: 0.850 | T_recall: 0.850 || V_Loss: 0.459 | V_Acc: 0.825 V_f1: 0.780 | V_recall: 0.780\n",
      "epoch: 19 batch: 600 total train loader: 799 T_Loss: 0.431 | T_Acc: 0.810 | T_f1: 0.810 | T_recall: 0.810 || V_Loss: 0.458 | V_Acc: 0.825 V_f1: 0.890 | V_recall: 0.890\n",
      "epoch: 19 batch: 700 total train loader: 799 T_Loss: 0.428 | T_Acc: 0.810 | T_f1: 0.810 | T_recall: 0.810 || V_Loss: 0.457 | V_Acc: 0.826 V_f1: 0.870 | V_recall: 0.870\n",
      "epoch: 20 batch: 0 total train loader: 799 T_Loss: 0.387 | T_Acc: 0.860 | T_f1: 0.860 | T_recall: 0.860 || V_Loss: 0.483 | V_Acc: 0.819 V_f1: 0.830 | V_recall: 0.830\n",
      "epoch: 20 batch: 100 total train loader: 799 T_Loss: 0.424 | T_Acc: 0.870 | T_f1: 0.870 | T_recall: 0.870 || V_Loss: 0.469 | V_Acc: 0.822 V_f1: 0.780 | V_recall: 0.780\n",
      "epoch: 20 batch: 200 total train loader: 799 T_Loss: 0.425 | T_Acc: 0.770 | T_f1: 0.770 | T_recall: 0.770 || V_Loss: 0.464 | V_Acc: 0.823 V_f1: 0.800 | V_recall: 0.800\n",
      "epoch: 20 batch: 300 total train loader: 799 T_Loss: 0.425 | T_Acc: 0.850 | T_f1: 0.850 | T_recall: 0.850 || V_Loss: 0.463 | V_Acc: 0.824 V_f1: 0.820 | V_recall: 0.820\n",
      "epoch: 20 batch: 400 total train loader: 799 T_Loss: 0.425 | T_Acc: 0.820 | T_f1: 0.820 | T_recall: 0.820 || V_Loss: 0.462 | V_Acc: 0.825 V_f1: 0.830 | V_recall: 0.830\n",
      "epoch: 20 batch: 500 total train loader: 799 T_Loss: 0.429 | T_Acc: 0.760 | T_f1: 0.760 | T_recall: 0.760 || V_Loss: 0.460 | V_Acc: 0.825 V_f1: 0.830 | V_recall: 0.830\n",
      "epoch: 20 batch: 600 total train loader: 799 T_Loss: 0.426 | T_Acc: 0.840 | T_f1: 0.840 | T_recall: 0.840 || V_Loss: 0.460 | V_Acc: 0.825 V_f1: 0.810 | V_recall: 0.810\n",
      "epoch: 20 batch: 700 total train loader: 799 T_Loss: 0.426 | T_Acc: 0.840 | T_f1: 0.840 | T_recall: 0.840 || V_Loss: 0.459 | V_Acc: 0.825 V_f1: 0.800 | V_recall: 0.800\n",
      "epoch: 21 batch: 0 total train loader: 799 T_Loss: 0.452 | T_Acc: 0.810 | T_f1: 0.810 | T_recall: 0.810 || V_Loss: 0.453 | V_Acc: 0.828 V_f1: 0.850 | V_recall: 0.850\n",
      "epoch: 21 batch: 100 total train loader: 799 T_Loss: 0.414 | T_Acc: 0.850 | T_f1: 0.850 | T_recall: 0.850 || V_Loss: 0.451 | V_Acc: 0.828 V_f1: 0.850 | V_recall: 0.850\n",
      "epoch: 21 batch: 200 total train loader: 799 T_Loss: 0.419 | T_Acc: 0.870 | T_f1: 0.870 | T_recall: 0.870 || V_Loss: 0.453 | V_Acc: 0.828 V_f1: 0.820 | V_recall: 0.820\n",
      "epoch: 21 batch: 300 total train loader: 799 T_Loss: 0.419 | T_Acc: 0.860 | T_f1: 0.860 | T_recall: 0.860 || V_Loss: 0.451 | V_Acc: 0.828 V_f1: 0.810 | V_recall: 0.810\n",
      "epoch: 21 batch: 400 total train loader: 799 T_Loss: 0.418 | T_Acc: 0.880 | T_f1: 0.880 | T_recall: 0.880 || V_Loss: 0.452 | V_Acc: 0.828 V_f1: 0.850 | V_recall: 0.850\n",
      "epoch: 21 batch: 500 total train loader: 799 T_Loss: 0.420 | T_Acc: 0.830 | T_f1: 0.830 | T_recall: 0.830 || V_Loss: 0.452 | V_Acc: 0.827 V_f1: 0.910 | V_recall: 0.910\n",
      "epoch: 21 batch: 600 total train loader: 799 T_Loss: 0.420 | T_Acc: 0.860 | T_f1: 0.860 | T_recall: 0.860 || V_Loss: 0.451 | V_Acc: 0.828 V_f1: 0.880 | V_recall: 0.880\n",
      "epoch: 21 batch: 700 total train loader: 799 T_Loss: 0.419 | T_Acc: 0.840 | T_f1: 0.840 | T_recall: 0.840 || V_Loss: 0.450 | V_Acc: 0.828 V_f1: 0.820 | V_recall: 0.820\n",
      "epoch: 22 batch: 0 total train loader: 799 T_Loss: 0.433 | T_Acc: 0.830 | T_f1: 0.830 | T_recall: 0.830 || V_Loss: 0.442 | V_Acc: 0.830 V_f1: 0.810 | V_recall: 0.810\n",
      "epoch: 22 batch: 100 total train loader: 799 T_Loss: 0.405 | T_Acc: 0.820 | T_f1: 0.820 | T_recall: 0.820 || V_Loss: 0.457 | V_Acc: 0.826 V_f1: 0.810 | V_recall: 0.810\n",
      "epoch: 22 batch: 200 total train loader: 799 T_Loss: 0.410 | T_Acc: 0.870 | T_f1: 0.870 | T_recall: 0.870 || V_Loss: 0.454 | V_Acc: 0.827 V_f1: 0.790 | V_recall: 0.790\n",
      "epoch: 22 batch: 300 total train loader: 799 T_Loss: 0.408 | T_Acc: 0.850 | T_f1: 0.850 | T_recall: 0.850 || V_Loss: 0.452 | V_Acc: 0.827 V_f1: 0.790 | V_recall: 0.790\n",
      "epoch: 22 batch: 400 total train loader: 799 T_Loss: 0.409 | T_Acc: 0.820 | T_f1: 0.820 | T_recall: 0.820 || V_Loss: 0.451 | V_Acc: 0.827 V_f1: 0.820 | V_recall: 0.820\n",
      "epoch: 22 batch: 500 total train loader: 799 T_Loss: 0.412 | T_Acc: 0.830 | T_f1: 0.830 | T_recall: 0.830 || V_Loss: 0.451 | V_Acc: 0.827 V_f1: 0.790 | V_recall: 0.790\n",
      "epoch: 22 batch: 600 total train loader: 799 T_Loss: 0.415 | T_Acc: 0.840 | T_f1: 0.840 | T_recall: 0.840 || V_Loss: 0.450 | V_Acc: 0.827 V_f1: 0.850 | V_recall: 0.850\n",
      "epoch: 22 batch: 700 total train loader: 799 T_Loss: 0.416 | T_Acc: 0.800 | T_f1: 0.800 | T_recall: 0.800 || V_Loss: 0.449 | V_Acc: 0.828 V_f1: 0.870 | V_recall: 0.870\n",
      "epoch: 23 batch: 0 total train loader: 799 T_Loss: 0.381 | T_Acc: 0.840 | T_f1: 0.840 | T_recall: 0.840 || V_Loss: 0.437 | V_Acc: 0.831 V_f1: 0.850 | V_recall: 0.850\n",
      "epoch: 23 batch: 100 total train loader: 799 T_Loss: 0.400 | T_Acc: 0.890 | T_f1: 0.890 | T_recall: 0.890 || V_Loss: 0.441 | V_Acc: 0.830 V_f1: 0.820 | V_recall: 0.820\n",
      "epoch: 23 batch: 200 total train loader: 799 T_Loss: 0.405 | T_Acc: 0.840 | T_f1: 0.840 | T_recall: 0.840 || V_Loss: 0.442 | V_Acc: 0.829 V_f1: 0.890 | V_recall: 0.890\n",
      "epoch: 23 batch: 300 total train loader: 799 T_Loss: 0.404 | T_Acc: 0.850 | T_f1: 0.850 | T_recall: 0.850 || V_Loss: 0.441 | V_Acc: 0.829 V_f1: 0.870 | V_recall: 0.870\n",
      "epoch: 23 batch: 400 total train loader: 799 T_Loss: 0.405 | T_Acc: 0.810 | T_f1: 0.810 | T_recall: 0.810 || V_Loss: 0.439 | V_Acc: 0.830 V_f1: 0.830 | V_recall: 0.830\n",
      "epoch: 23 batch: 500 total train loader: 799 T_Loss: 0.407 | T_Acc: 0.880 | T_f1: 0.880 | T_recall: 0.880 || V_Loss: 0.439 | V_Acc: 0.830 V_f1: 0.830 | V_recall: 0.830\n",
      "epoch: 23 batch: 600 total train loader: 799 T_Loss: 0.409 | T_Acc: 0.850 | T_f1: 0.850 | T_recall: 0.850 || V_Loss: 0.438 | V_Acc: 0.831 V_f1: 0.820 | V_recall: 0.820\n",
      "epoch: 23 batch: 700 total train loader: 799 T_Loss: 0.410 | T_Acc: 0.910 | T_f1: 0.910 | T_recall: 0.910 || V_Loss: 0.438 | V_Acc: 0.831 V_f1: 0.870 | V_recall: 0.870\n",
      "epoch: 24 batch: 0 total train loader: 799 T_Loss: 0.547 | T_Acc: 0.790 | T_f1: 0.790 | T_recall: 0.790 || V_Loss: 0.451 | V_Acc: 0.826 V_f1: 0.810 | V_recall: 0.810\n",
      "epoch: 24 batch: 100 total train loader: 799 T_Loss: 0.397 | T_Acc: 0.840 | T_f1: 0.840 | T_recall: 0.840 || V_Loss: 0.448 | V_Acc: 0.829 V_f1: 0.860 | V_recall: 0.860\n",
      "epoch: 24 batch: 200 total train loader: 799 T_Loss: 0.400 | T_Acc: 0.810 | T_f1: 0.810 | T_recall: 0.810 || V_Loss: 0.443 | V_Acc: 0.829 V_f1: 0.760 | V_recall: 0.760\n",
      "epoch: 24 batch: 300 total train loader: 799 T_Loss: 0.402 | T_Acc: 0.790 | T_f1: 0.790 | T_recall: 0.790 || V_Loss: 0.441 | V_Acc: 0.830 V_f1: 0.880 | V_recall: 0.880\n",
      "epoch: 24 batch: 400 total train loader: 799 T_Loss: 0.403 | T_Acc: 0.830 | T_f1: 0.830 | T_recall: 0.830 || V_Loss: 0.441 | V_Acc: 0.831 V_f1: 0.850 | V_recall: 0.850\n",
      "epoch: 24 batch: 500 total train loader: 799 T_Loss: 0.403 | T_Acc: 0.800 | T_f1: 0.800 | T_recall: 0.800 || V_Loss: 0.440 | V_Acc: 0.831 V_f1: 0.830 | V_recall: 0.830\n"
     ]
    },
    {
     "name": "stdout",
     "output_type": "stream",
     "text": [
      "epoch: 24 batch: 600 total train loader: 799 T_Loss: 0.403 | T_Acc: 0.810 | T_f1: 0.810 | T_recall: 0.810 || V_Loss: 0.439 | V_Acc: 0.831 V_f1: 0.830 | V_recall: 0.830\n",
      "epoch: 24 batch: 700 total train loader: 799 T_Loss: 0.404 | T_Acc: 0.860 | T_f1: 0.860 | T_recall: 0.860 || V_Loss: 0.438 | V_Acc: 0.831 V_f1: 0.830 | V_recall: 0.830\n",
      "epoch: 25 batch: 0 total train loader: 799 T_Loss: 0.373 | T_Acc: 0.840 | T_f1: 0.840 | T_recall: 0.840 || V_Loss: 0.439 | V_Acc: 0.832 V_f1: 0.790 | V_recall: 0.790\n",
      "epoch: 25 batch: 100 total train loader: 799 T_Loss: 0.377 | T_Acc: 0.860 | T_f1: 0.860 | T_recall: 0.860 || V_Loss: 0.436 | V_Acc: 0.832 V_f1: 0.810 | V_recall: 0.810\n",
      "epoch: 25 batch: 200 total train loader: 799 T_Loss: 0.380 | T_Acc: 0.840 | T_f1: 0.840 | T_recall: 0.840 || V_Loss: 0.435 | V_Acc: 0.833 V_f1: 0.810 | V_recall: 0.810\n",
      "epoch: 25 batch: 300 total train loader: 799 T_Loss: 0.386 | T_Acc: 0.830 | T_f1: 0.830 | T_recall: 0.830 || V_Loss: 0.436 | V_Acc: 0.832 V_f1: 0.850 | V_recall: 0.850\n",
      "epoch: 25 batch: 400 total train loader: 799 T_Loss: 0.389 | T_Acc: 0.890 | T_f1: 0.890 | T_recall: 0.890 || V_Loss: 0.435 | V_Acc: 0.833 V_f1: 0.790 | V_recall: 0.790\n",
      "epoch: 25 batch: 500 total train loader: 799 T_Loss: 0.393 | T_Acc: 0.900 | T_f1: 0.900 | T_recall: 0.900 || V_Loss: 0.434 | V_Acc: 0.833 V_f1: 0.860 | V_recall: 0.860\n",
      "epoch: 25 batch: 600 total train loader: 799 T_Loss: 0.396 | T_Acc: 0.790 | T_f1: 0.790 | T_recall: 0.790 || V_Loss: 0.433 | V_Acc: 0.834 V_f1: 0.820 | V_recall: 0.820\n",
      "epoch: 25 batch: 700 total train loader: 799 T_Loss: 0.398 | T_Acc: 0.830 | T_f1: 0.830 | T_recall: 0.830 || V_Loss: 0.432 | V_Acc: 0.834 V_f1: 0.860 | V_recall: 0.860\n",
      "epoch: 26 batch: 0 total train loader: 799 T_Loss: 0.313 | T_Acc: 0.890 | T_f1: 0.890 | T_recall: 0.890 || V_Loss: 0.433 | V_Acc: 0.834 V_f1: 0.830 | V_recall: 0.830\n",
      "epoch: 26 batch: 100 total train loader: 799 T_Loss: 0.392 | T_Acc: 0.820 | T_f1: 0.820 | T_recall: 0.820 || V_Loss: 0.428 | V_Acc: 0.835 V_f1: 0.810 | V_recall: 0.810\n",
      "epoch: 26 batch: 200 total train loader: 799 T_Loss: 0.395 | T_Acc: 0.800 | T_f1: 0.800 | T_recall: 0.800 || V_Loss: 0.428 | V_Acc: 0.834 V_f1: 0.780 | V_recall: 0.780\n",
      "epoch: 26 batch: 300 total train loader: 799 T_Loss: 0.396 | T_Acc: 0.830 | T_f1: 0.830 | T_recall: 0.830 || V_Loss: 0.426 | V_Acc: 0.835 V_f1: 0.850 | V_recall: 0.850\n",
      "epoch: 26 batch: 400 total train loader: 799 T_Loss: 0.396 | T_Acc: 0.850 | T_f1: 0.850 | T_recall: 0.850 || V_Loss: 0.424 | V_Acc: 0.836 V_f1: 0.890 | V_recall: 0.890\n",
      "epoch: 26 batch: 500 total train loader: 799 T_Loss: 0.394 | T_Acc: 0.820 | T_f1: 0.820 | T_recall: 0.820 || V_Loss: 0.424 | V_Acc: 0.837 V_f1: 0.790 | V_recall: 0.790\n",
      "epoch: 26 batch: 600 total train loader: 799 T_Loss: 0.394 | T_Acc: 0.790 | T_f1: 0.790 | T_recall: 0.790 || V_Loss: 0.424 | V_Acc: 0.837 V_f1: 0.860 | V_recall: 0.860\n",
      "epoch: 26 batch: 700 total train loader: 799 T_Loss: 0.394 | T_Acc: 0.810 | T_f1: 0.810 | T_recall: 0.810 || V_Loss: 0.423 | V_Acc: 0.837 V_f1: 0.860 | V_recall: 0.860\n",
      "epoch: 27 batch: 0 total train loader: 799 T_Loss: 0.308 | T_Acc: 0.890 | T_f1: 0.890 | T_recall: 0.890 || V_Loss: 0.426 | V_Acc: 0.834 V_f1: 0.830 | V_recall: 0.830\n",
      "epoch: 27 batch: 100 total train loader: 799 T_Loss: 0.382 | T_Acc: 0.860 | T_f1: 0.860 | T_recall: 0.860 || V_Loss: 0.423 | V_Acc: 0.838 V_f1: 0.900 | V_recall: 0.900\n",
      "epoch: 27 batch: 200 total train loader: 799 T_Loss: 0.382 | T_Acc: 0.860 | T_f1: 0.860 | T_recall: 0.860 || V_Loss: 0.424 | V_Acc: 0.839 V_f1: 0.830 | V_recall: 0.830\n",
      "epoch: 27 batch: 300 total train loader: 799 T_Loss: 0.383 | T_Acc: 0.860 | T_f1: 0.860 | T_recall: 0.860 || V_Loss: 0.423 | V_Acc: 0.839 V_f1: 0.820 | V_recall: 0.820\n",
      "epoch: 27 batch: 400 total train loader: 799 T_Loss: 0.387 | T_Acc: 0.830 | T_f1: 0.830 | T_recall: 0.830 || V_Loss: 0.425 | V_Acc: 0.838 V_f1: 0.870 | V_recall: 0.870\n",
      "epoch: 27 batch: 500 total train loader: 799 T_Loss: 0.388 | T_Acc: 0.820 | T_f1: 0.820 | T_recall: 0.820 || V_Loss: 0.424 | V_Acc: 0.838 V_f1: 0.910 | V_recall: 0.910\n",
      "epoch: 27 batch: 600 total train loader: 799 T_Loss: 0.389 | T_Acc: 0.870 | T_f1: 0.870 | T_recall: 0.870 || V_Loss: 0.423 | V_Acc: 0.838 V_f1: 0.810 | V_recall: 0.810\n",
      "epoch: 27 batch: 700 total train loader: 799 T_Loss: 0.389 | T_Acc: 0.850 | T_f1: 0.850 | T_recall: 0.850 || V_Loss: 0.422 | V_Acc: 0.839 V_f1: 0.870 | V_recall: 0.870\n",
      "epoch: 28 batch: 0 total train loader: 799 T_Loss: 0.381 | T_Acc: 0.860 | T_f1: 0.860 | T_recall: 0.860 || V_Loss: 0.412 | V_Acc: 0.842 V_f1: 0.880 | V_recall: 0.880\n",
      "epoch: 28 batch: 100 total train loader: 799 T_Loss: 0.385 | T_Acc: 0.790 | T_f1: 0.790 | T_recall: 0.790 || V_Loss: 0.418 | V_Acc: 0.840 V_f1: 0.890 | V_recall: 0.890\n",
      "epoch: 28 batch: 200 total train loader: 799 T_Loss: 0.381 | T_Acc: 0.890 | T_f1: 0.890 | T_recall: 0.890 || V_Loss: 0.419 | V_Acc: 0.840 V_f1: 0.830 | V_recall: 0.830\n",
      "epoch: 28 batch: 300 total train loader: 799 T_Loss: 0.381 | T_Acc: 0.820 | T_f1: 0.820 | T_recall: 0.820 || V_Loss: 0.419 | V_Acc: 0.840 V_f1: 0.870 | V_recall: 0.870\n",
      "epoch: 28 batch: 400 total train loader: 799 T_Loss: 0.387 | T_Acc: 0.810 | T_f1: 0.810 | T_recall: 0.810 || V_Loss: 0.419 | V_Acc: 0.840 V_f1: 0.890 | V_recall: 0.890\n",
      "epoch: 28 batch: 500 total train loader: 799 T_Loss: 0.386 | T_Acc: 0.790 | T_f1: 0.790 | T_recall: 0.790 || V_Loss: 0.419 | V_Acc: 0.840 V_f1: 0.760 | V_recall: 0.760\n",
      "epoch: 28 batch: 600 total train loader: 799 T_Loss: 0.387 | T_Acc: 0.850 | T_f1: 0.850 | T_recall: 0.850 || V_Loss: 0.418 | V_Acc: 0.840 V_f1: 0.840 | V_recall: 0.840\n",
      "epoch: 28 batch: 700 total train loader: 799 T_Loss: 0.387 | T_Acc: 0.880 | T_f1: 0.880 | T_recall: 0.880 || V_Loss: 0.418 | V_Acc: 0.840 V_f1: 0.830 | V_recall: 0.830\n",
      "epoch: 29 batch: 0 total train loader: 799 T_Loss: 0.273 | T_Acc: 0.920 | T_f1: 0.920 | T_recall: 0.920 || V_Loss: 0.420 | V_Acc: 0.838 V_f1: 0.840 | V_recall: 0.840\n",
      "epoch: 29 batch: 100 total train loader: 799 T_Loss: 0.379 | T_Acc: 0.840 | T_f1: 0.840 | T_recall: 0.840 || V_Loss: 0.418 | V_Acc: 0.841 V_f1: 0.860 | V_recall: 0.860\n",
      "epoch: 29 batch: 200 total train loader: 799 T_Loss: 0.389 | T_Acc: 0.790 | T_f1: 0.790 | T_recall: 0.790 || V_Loss: 0.416 | V_Acc: 0.842 V_f1: 0.830 | V_recall: 0.830\n",
      "epoch: 29 batch: 300 total train loader: 799 T_Loss: 0.386 | T_Acc: 0.790 | T_f1: 0.790 | T_recall: 0.790 || V_Loss: 0.415 | V_Acc: 0.841 V_f1: 0.870 | V_recall: 0.870\n",
      "epoch: 29 batch: 400 total train loader: 799 T_Loss: 0.383 | T_Acc: 0.790 | T_f1: 0.790 | T_recall: 0.790 || V_Loss: 0.416 | V_Acc: 0.841 V_f1: 0.860 | V_recall: 0.860\n",
      "epoch: 29 batch: 500 total train loader: 799 T_Loss: 0.385 | T_Acc: 0.800 | T_f1: 0.800 | T_recall: 0.800 || V_Loss: 0.415 | V_Acc: 0.841 V_f1: 0.830 | V_recall: 0.830\n",
      "epoch: 29 batch: 600 total train loader: 799 T_Loss: 0.384 | T_Acc: 0.890 | T_f1: 0.890 | T_recall: 0.890 || V_Loss: 0.415 | V_Acc: 0.841 V_f1: 0.810 | V_recall: 0.810\n",
      "epoch: 29 batch: 700 total train loader: 799 T_Loss: 0.383 | T_Acc: 0.750 | T_f1: 0.750 | T_recall: 0.750 || V_Loss: 0.415 | V_Acc: 0.840 V_f1: 0.840 | V_recall: 0.840\n"
     ]
    }
   ],
   "source": [
    "epochs = 30\n",
    "bilstm_train_result = pd.DataFrame()\n",
    "bilstm_valid_result = pd.DataFrame()\n",
    "for epoch in range(epochs):\n",
    "    train_result, valid_result = train(epoch, model_bilstm)\n",
    "    bilstm_train_result = bilstm_train_result.append(train_result, ignore_index=True)\n",
    "    bilstm_valid_result = bilstm_valid_result.append(train_result, ignore_index=True)"
   ]
  },
  {
   "cell_type": "code",
   "execution_count": 49,
   "metadata": {},
   "outputs": [],
   "source": [
    "bilstm_train_result['roll_730_acc'] = bilstm_train_result['acc'].rolling(730).mean()\n",
    "bilstm_valid_result['roll_730_acc'] = bilstm_valid_result['acc'].rolling(730).mean()\n",
    "bilstm_train_result['roll_730_loss'] = bilstm_train_result['loss'].rolling(730).mean()\n",
    "bilstm_valid_result['roll_730_loss'] = bilstm_valid_result['loss'].rolling(730).mean()"
   ]
  },
  {
   "cell_type": "code",
   "execution_count": 50,
   "metadata": {},
   "outputs": [],
   "source": [
    "bilstm_train_result.to_csv('../result/Bi-LSTM/bilstm_train_result.csv')\n",
    "bilstm_valid_result.to_csv('../result/Bi-LSTM/bilstm_valid_result.csv')"
   ]
  },
  {
   "cell_type": "code",
   "execution_count": 60,
   "metadata": {},
   "outputs": [
    {
     "data": {
      "text/plain": [
       "epoch             29.000000\n",
       "batch            798.000000\n",
       "loss               0.384338\n",
       "acc                0.890000\n",
       "f1                 0.890000\n",
       "recall             0.890000\n",
       "roll_730_acc       0.847507\n",
       "roll_730_loss      0.384324\n",
       "Name: 23969, dtype: float64"
      ]
     },
     "execution_count": 60,
     "metadata": {},
     "output_type": "execute_result"
    }
   ],
   "source": [
    "bilstm_valid_result.iloc[-1]"
   ]
  },
  {
   "cell_type": "markdown",
   "metadata": {},
   "source": [
    "# Step13: Test the model"
   ]
  },
  {
   "cell_type": "code",
   "execution_count": 51,
   "metadata": {},
   "outputs": [],
   "source": [
    "def test(epoch, model):\n",
    "    lr = 0.001  # learning rate\n",
    "    model.train()\n",
    "    optimizer = torch.optim.Adam(model.parameters(), lr=lr)\n",
    "    total_batch = 0\n",
    "    train_loss = 0\n",
    "    result_dict = {}\n",
    "    epoch_list = []\n",
    "    batch_list = []\n",
    "    loss_list = []\n",
    "    acc_list = []\n",
    "    recall_list = []\n",
    "    f1_list = []\n",
    "    \n",
    "    for batch_idx, (trains, labels) in enumerate(test_loader):\n",
    "\n",
    "        outputs = model(trains.long())\n",
    "        test_loss = F.cross_entropy(outputs, labels.long())\n",
    "\n",
    "        \n",
    "        true = labels.data.cpu()\n",
    "        predic = torch.max(outputs.data, 1)[1].cpu()\n",
    "        test_acc = metrics.accuracy_score(true, predic)\n",
    "        test_f1 = metrics.f1_score(true, predic, average='micro')\n",
    "        test_recall = metrics.recall_score(true, predic, average='micro')\n",
    "        \n",
    "        epoch_list.append(epoch)\n",
    "        batch_list.append(batch_idx)\n",
    "        loss_list.append(test_loss.item())\n",
    "        acc_list.append(test_acc)\n",
    "        recall_list.append(test_recall)\n",
    "        f1_list.append(test_f1)\n",
    "            \n",
    "        if total_batch % 50 == 0 :\n",
    "            print('epoch: {}'.format(epoch), 'batch: {}'.format(batch_idx), \n",
    "                  'total train loader: {}'.format(len(test_loader)),\n",
    "                  'Loss: %.3f | Acc: %.3f |' % (test_loss, test_acc),\n",
    "                  'F1: %.3f | Recall: %.3f ' % (test_f1, test_recall))\n",
    "        \n",
    "#         total_batch += 1\n",
    "        \n",
    "    result_dict['epoch'] = epoch_list\n",
    "    result_dict['batch'] = batch_list\n",
    "    result_dict['loss'] = loss_list\n",
    "    result_dict['acc'] = acc_list\n",
    "    result_dict['f1'] = f1_list\n",
    "    result_dict['recall'] = recall_list\n",
    "    \n",
    "    return pd.DataFrame(result_dict)"
   ]
  },
  {
   "cell_type": "code",
   "execution_count": null,
   "metadata": {},
   "outputs": [],
   "source": []
  },
  {
   "cell_type": "markdown",
   "metadata": {},
   "source": [
    "### Step13-1 Bi-LSTM model"
   ]
  },
  {
   "cell_type": "code",
   "execution_count": 52,
   "metadata": {
    "scrolled": true
   },
   "outputs": [
    {
     "name": "stdout",
     "output_type": "stream",
     "text": [
      "epoch: 0 batch: 0 total train loader: 100 Loss: 0.270 | Acc: 0.900 | F1: 0.900 | Recall: 0.900 \n",
      "epoch: 0 batch: 1 total train loader: 100 Loss: 0.432 | Acc: 0.860 | F1: 0.860 | Recall: 0.860 \n",
      "epoch: 0 batch: 2 total train loader: 100 Loss: 0.325 | Acc: 0.860 | F1: 0.860 | Recall: 0.860 \n",
      "epoch: 0 batch: 3 total train loader: 100 Loss: 0.515 | Acc: 0.790 | F1: 0.790 | Recall: 0.790 \n",
      "epoch: 0 batch: 4 total train loader: 100 Loss: 0.473 | Acc: 0.810 | F1: 0.810 | Recall: 0.810 \n",
      "epoch: 0 batch: 5 total train loader: 100 Loss: 0.351 | Acc: 0.880 | F1: 0.880 | Recall: 0.880 \n",
      "epoch: 0 batch: 6 total train loader: 100 Loss: 0.406 | Acc: 0.850 | F1: 0.850 | Recall: 0.850 \n",
      "epoch: 0 batch: 7 total train loader: 100 Loss: 0.310 | Acc: 0.880 | F1: 0.880 | Recall: 0.880 \n",
      "epoch: 0 batch: 8 total train loader: 100 Loss: 0.434 | Acc: 0.830 | F1: 0.830 | Recall: 0.830 \n",
      "epoch: 0 batch: 9 total train loader: 100 Loss: 0.381 | Acc: 0.840 | F1: 0.840 | Recall: 0.840 \n",
      "epoch: 0 batch: 10 total train loader: 100 Loss: 0.394 | Acc: 0.850 | F1: 0.850 | Recall: 0.850 \n",
      "epoch: 0 batch: 11 total train loader: 100 Loss: 0.447 | Acc: 0.820 | F1: 0.820 | Recall: 0.820 \n",
      "epoch: 0 batch: 12 total train loader: 100 Loss: 0.383 | Acc: 0.850 | F1: 0.850 | Recall: 0.850 \n",
      "epoch: 0 batch: 13 total train loader: 100 Loss: 0.504 | Acc: 0.770 | F1: 0.770 | Recall: 0.770 \n",
      "epoch: 0 batch: 14 total train loader: 100 Loss: 0.319 | Acc: 0.890 | F1: 0.890 | Recall: 0.890 \n",
      "epoch: 0 batch: 15 total train loader: 100 Loss: 0.381 | Acc: 0.830 | F1: 0.830 | Recall: 0.830 \n",
      "epoch: 0 batch: 16 total train loader: 100 Loss: 0.411 | Acc: 0.830 | F1: 0.830 | Recall: 0.830 \n",
      "epoch: 0 batch: 17 total train loader: 100 Loss: 0.410 | Acc: 0.830 | F1: 0.830 | Recall: 0.830 \n",
      "epoch: 0 batch: 18 total train loader: 100 Loss: 0.313 | Acc: 0.840 | F1: 0.840 | Recall: 0.840 \n",
      "epoch: 0 batch: 19 total train loader: 100 Loss: 0.413 | Acc: 0.840 | F1: 0.840 | Recall: 0.840 \n",
      "epoch: 0 batch: 20 total train loader: 100 Loss: 0.481 | Acc: 0.800 | F1: 0.800 | Recall: 0.800 \n",
      "epoch: 0 batch: 21 total train loader: 100 Loss: 0.486 | Acc: 0.780 | F1: 0.780 | Recall: 0.780 \n",
      "epoch: 0 batch: 22 total train loader: 100 Loss: 0.410 | Acc: 0.870 | F1: 0.870 | Recall: 0.870 \n",
      "epoch: 0 batch: 23 total train loader: 100 Loss: 0.470 | Acc: 0.800 | F1: 0.800 | Recall: 0.800 \n",
      "epoch: 0 batch: 24 total train loader: 100 Loss: 0.405 | Acc: 0.820 | F1: 0.820 | Recall: 0.820 \n",
      "epoch: 0 batch: 25 total train loader: 100 Loss: 0.517 | Acc: 0.810 | F1: 0.810 | Recall: 0.810 \n",
      "epoch: 0 batch: 26 total train loader: 100 Loss: 0.449 | Acc: 0.820 | F1: 0.820 | Recall: 0.820 \n",
      "epoch: 0 batch: 27 total train loader: 100 Loss: 0.411 | Acc: 0.880 | F1: 0.880 | Recall: 0.880 \n",
      "epoch: 0 batch: 28 total train loader: 100 Loss: 0.364 | Acc: 0.870 | F1: 0.870 | Recall: 0.870 \n",
      "epoch: 0 batch: 29 total train loader: 100 Loss: 0.340 | Acc: 0.900 | F1: 0.900 | Recall: 0.900 \n",
      "epoch: 0 batch: 30 total train loader: 100 Loss: 0.492 | Acc: 0.840 | F1: 0.840 | Recall: 0.840 \n",
      "epoch: 0 batch: 31 total train loader: 100 Loss: 0.392 | Acc: 0.820 | F1: 0.820 | Recall: 0.820 \n",
      "epoch: 0 batch: 32 total train loader: 100 Loss: 0.412 | Acc: 0.840 | F1: 0.840 | Recall: 0.840 \n",
      "epoch: 0 batch: 33 total train loader: 100 Loss: 0.363 | Acc: 0.870 | F1: 0.870 | Recall: 0.870 \n",
      "epoch: 0 batch: 34 total train loader: 100 Loss: 0.445 | Acc: 0.830 | F1: 0.830 | Recall: 0.830 \n",
      "epoch: 0 batch: 35 total train loader: 100 Loss: 0.476 | Acc: 0.820 | F1: 0.820 | Recall: 0.820 \n",
      "epoch: 0 batch: 36 total train loader: 100 Loss: 0.376 | Acc: 0.870 | F1: 0.870 | Recall: 0.870 \n",
      "epoch: 0 batch: 37 total train loader: 100 Loss: 0.547 | Acc: 0.830 | F1: 0.830 | Recall: 0.830 \n",
      "epoch: 0 batch: 38 total train loader: 100 Loss: 0.502 | Acc: 0.790 | F1: 0.790 | Recall: 0.790 \n",
      "epoch: 0 batch: 39 total train loader: 100 Loss: 0.534 | Acc: 0.810 | F1: 0.810 | Recall: 0.810 \n",
      "epoch: 0 batch: 40 total train loader: 100 Loss: 0.381 | Acc: 0.850 | F1: 0.850 | Recall: 0.850 \n",
      "epoch: 0 batch: 41 total train loader: 100 Loss: 0.431 | Acc: 0.830 | F1: 0.830 | Recall: 0.830 \n",
      "epoch: 0 batch: 42 total train loader: 100 Loss: 0.411 | Acc: 0.800 | F1: 0.800 | Recall: 0.800 \n",
      "epoch: 0 batch: 43 total train loader: 100 Loss: 0.421 | Acc: 0.830 | F1: 0.830 | Recall: 0.830 \n",
      "epoch: 0 batch: 44 total train loader: 100 Loss: 0.421 | Acc: 0.850 | F1: 0.850 | Recall: 0.850 \n",
      "epoch: 0 batch: 45 total train loader: 100 Loss: 0.340 | Acc: 0.890 | F1: 0.890 | Recall: 0.890 \n",
      "epoch: 0 batch: 46 total train loader: 100 Loss: 0.460 | Acc: 0.770 | F1: 0.770 | Recall: 0.770 \n",
      "epoch: 0 batch: 47 total train loader: 100 Loss: 0.459 | Acc: 0.830 | F1: 0.830 | Recall: 0.830 \n",
      "epoch: 0 batch: 48 total train loader: 100 Loss: 0.475 | Acc: 0.800 | F1: 0.800 | Recall: 0.800 \n",
      "epoch: 0 batch: 49 total train loader: 100 Loss: 0.418 | Acc: 0.830 | F1: 0.830 | Recall: 0.830 \n",
      "epoch: 0 batch: 50 total train loader: 100 Loss: 0.460 | Acc: 0.830 | F1: 0.830 | Recall: 0.830 \n",
      "epoch: 0 batch: 51 total train loader: 100 Loss: 0.414 | Acc: 0.840 | F1: 0.840 | Recall: 0.840 \n",
      "epoch: 0 batch: 52 total train loader: 100 Loss: 0.363 | Acc: 0.810 | F1: 0.810 | Recall: 0.810 \n",
      "epoch: 0 batch: 53 total train loader: 100 Loss: 0.474 | Acc: 0.810 | F1: 0.810 | Recall: 0.810 \n",
      "epoch: 0 batch: 54 total train loader: 100 Loss: 0.331 | Acc: 0.880 | F1: 0.880 | Recall: 0.880 \n",
      "epoch: 0 batch: 55 total train loader: 100 Loss: 0.390 | Acc: 0.860 | F1: 0.860 | Recall: 0.860 \n",
      "epoch: 0 batch: 56 total train loader: 100 Loss: 0.465 | Acc: 0.810 | F1: 0.810 | Recall: 0.810 \n",
      "epoch: 0 batch: 57 total train loader: 100 Loss: 0.514 | Acc: 0.830 | F1: 0.830 | Recall: 0.830 \n",
      "epoch: 0 batch: 58 total train loader: 100 Loss: 0.314 | Acc: 0.930 | F1: 0.930 | Recall: 0.930 \n",
      "epoch: 0 batch: 59 total train loader: 100 Loss: 0.481 | Acc: 0.810 | F1: 0.810 | Recall: 0.810 \n",
      "epoch: 0 batch: 60 total train loader: 100 Loss: 0.518 | Acc: 0.800 | F1: 0.800 | Recall: 0.800 \n",
      "epoch: 0 batch: 61 total train loader: 100 Loss: 0.433 | Acc: 0.840 | F1: 0.840 | Recall: 0.840 \n",
      "epoch: 0 batch: 62 total train loader: 100 Loss: 0.396 | Acc: 0.870 | F1: 0.870 | Recall: 0.870 \n",
      "epoch: 0 batch: 63 total train loader: 100 Loss: 0.404 | Acc: 0.840 | F1: 0.840 | Recall: 0.840 \n",
      "epoch: 0 batch: 64 total train loader: 100 Loss: 0.384 | Acc: 0.870 | F1: 0.870 | Recall: 0.870 \n",
      "epoch: 0 batch: 65 total train loader: 100 Loss: 0.501 | Acc: 0.830 | F1: 0.830 | Recall: 0.830 \n",
      "epoch: 0 batch: 66 total train loader: 100 Loss: 0.522 | Acc: 0.800 | F1: 0.800 | Recall: 0.800 \n",
      "epoch: 0 batch: 67 total train loader: 100 Loss: 0.356 | Acc: 0.850 | F1: 0.850 | Recall: 0.850 \n",
      "epoch: 0 batch: 68 total train loader: 100 Loss: 0.366 | Acc: 0.870 | F1: 0.870 | Recall: 0.870 \n",
      "epoch: 0 batch: 69 total train loader: 100 Loss: 0.471 | Acc: 0.810 | F1: 0.810 | Recall: 0.810 \n",
      "epoch: 0 batch: 70 total train loader: 100 Loss: 0.365 | Acc: 0.860 | F1: 0.860 | Recall: 0.860 \n",
      "epoch: 0 batch: 71 total train loader: 100 Loss: 0.343 | Acc: 0.860 | F1: 0.860 | Recall: 0.860 \n",
      "epoch: 0 batch: 72 total train loader: 100 Loss: 0.321 | Acc: 0.880 | F1: 0.880 | Recall: 0.880 \n",
      "epoch: 0 batch: 73 total train loader: 100 Loss: 0.608 | Acc: 0.820 | F1: 0.820 | Recall: 0.820 \n",
      "epoch: 0 batch: 74 total train loader: 100 Loss: 0.422 | Acc: 0.870 | F1: 0.870 | Recall: 0.870 \n",
      "epoch: 0 batch: 75 total train loader: 100 Loss: 0.510 | Acc: 0.790 | F1: 0.790 | Recall: 0.790 \n",
      "epoch: 0 batch: 76 total train loader: 100 Loss: 0.593 | Acc: 0.750 | F1: 0.750 | Recall: 0.750 \n",
      "epoch: 0 batch: 77 total train loader: 100 Loss: 0.381 | Acc: 0.860 | F1: 0.860 | Recall: 0.860 \n",
      "epoch: 0 batch: 78 total train loader: 100 Loss: 0.421 | Acc: 0.830 | F1: 0.830 | Recall: 0.830 \n",
      "epoch: 0 batch: 79 total train loader: 100 Loss: 0.460 | Acc: 0.850 | F1: 0.850 | Recall: 0.850 \n",
      "epoch: 0 batch: 80 total train loader: 100 Loss: 0.457 | Acc: 0.810 | F1: 0.810 | Recall: 0.810 \n",
      "epoch: 0 batch: 81 total train loader: 100 Loss: 0.421 | Acc: 0.850 | F1: 0.850 | Recall: 0.850 \n",
      "epoch: 0 batch: 82 total train loader: 100 Loss: 0.654 | Acc: 0.730 | F1: 0.730 | Recall: 0.730 \n",
      "epoch: 0 batch: 83 total train loader: 100 Loss: 0.354 | Acc: 0.890 | F1: 0.890 | Recall: 0.890 \n",
      "epoch: 0 batch: 84 total train loader: 100 Loss: 0.406 | Acc: 0.860 | F1: 0.860 | Recall: 0.860 \n"
     ]
    },
    {
     "name": "stdout",
     "output_type": "stream",
     "text": [
      "epoch: 0 batch: 85 total train loader: 100 Loss: 0.333 | Acc: 0.880 | F1: 0.880 | Recall: 0.880 \n",
      "epoch: 0 batch: 86 total train loader: 100 Loss: 0.327 | Acc: 0.900 | F1: 0.900 | Recall: 0.900 \n",
      "epoch: 0 batch: 87 total train loader: 100 Loss: 0.422 | Acc: 0.820 | F1: 0.820 | Recall: 0.820 \n",
      "epoch: 0 batch: 88 total train loader: 100 Loss: 0.540 | Acc: 0.780 | F1: 0.780 | Recall: 0.780 \n",
      "epoch: 0 batch: 89 total train loader: 100 Loss: 0.599 | Acc: 0.820 | F1: 0.820 | Recall: 0.820 \n",
      "epoch: 0 batch: 90 total train loader: 100 Loss: 0.394 | Acc: 0.850 | F1: 0.850 | Recall: 0.850 \n",
      "epoch: 0 batch: 91 total train loader: 100 Loss: 0.384 | Acc: 0.840 | F1: 0.840 | Recall: 0.840 \n",
      "epoch: 0 batch: 92 total train loader: 100 Loss: 0.358 | Acc: 0.840 | F1: 0.840 | Recall: 0.840 \n",
      "epoch: 0 batch: 93 total train loader: 100 Loss: 0.436 | Acc: 0.830 | F1: 0.830 | Recall: 0.830 \n",
      "epoch: 0 batch: 94 total train loader: 100 Loss: 0.440 | Acc: 0.840 | F1: 0.840 | Recall: 0.840 \n",
      "epoch: 0 batch: 95 total train loader: 100 Loss: 0.425 | Acc: 0.810 | F1: 0.810 | Recall: 0.810 \n",
      "epoch: 0 batch: 96 total train loader: 100 Loss: 0.337 | Acc: 0.850 | F1: 0.850 | Recall: 0.850 \n",
      "epoch: 0 batch: 97 total train loader: 100 Loss: 0.466 | Acc: 0.840 | F1: 0.840 | Recall: 0.840 \n",
      "epoch: 0 batch: 98 total train loader: 100 Loss: 0.607 | Acc: 0.750 | F1: 0.750 | Recall: 0.750 \n",
      "epoch: 0 batch: 99 total train loader: 100 Loss: 0.385 | Acc: 0.860 | F1: 0.860 | Recall: 0.860 \n"
     ]
    }
   ],
   "source": [
    "bilstm_test_result = pd.DataFrame()\n",
    "bilstm_test_result = bilstm_test_result.append(test(0, model_bilstm), ignore_index=True)\n"
   ]
  },
  {
   "cell_type": "code",
   "execution_count": 53,
   "metadata": {},
   "outputs": [],
   "source": [
    "bilstm_test_result.to_csv('../result/Bi-LSTM/bilstm_test_result.csv')"
   ]
  },
  {
   "cell_type": "code",
   "execution_count": 54,
   "metadata": {},
   "outputs": [
    {
     "data": {
      "text/plain": [
       "0.8360999999999998"
      ]
     },
     "execution_count": 54,
     "metadata": {},
     "output_type": "execute_result"
    }
   ],
   "source": [
    "bilstm_test_result['acc'].mean()"
   ]
  },
  {
   "cell_type": "code",
   "execution_count": 57,
   "metadata": {
    "scrolled": true
   },
   "outputs": [
    {
     "data": {
      "text/plain": [
       "0.8360999999999997"
      ]
     },
     "execution_count": 57,
     "metadata": {},
     "output_type": "execute_result"
    }
   ],
   "source": [
    "bilstm_test_result['f1'].mean()"
   ]
  },
  {
   "cell_type": "code",
   "execution_count": 58,
   "metadata": {},
   "outputs": [
    {
     "data": {
      "text/plain": [
       "0.8360999999999998"
      ]
     },
     "execution_count": 58,
     "metadata": {},
     "output_type": "execute_result"
    }
   ],
   "source": [
    "bilstm_test_result['recall'].mean()"
   ]
  },
  {
   "cell_type": "markdown",
   "metadata": {},
   "source": [
    "# Step14: plot the result"
   ]
  },
  {
   "cell_type": "code",
   "execution_count": 62,
   "metadata": {},
   "outputs": [
    {
     "data": {
      "image/png": "[encoded data removed]",
      "text/plain": [
       "<Figure size 720x468 with 1 Axes>"
      ]
     },
     "metadata": {},
     "output_type": "display_data"
    }
   ],
   "source": [
    "import matplotlib.pyplot as plt\n",
    "import numpy as np\n",
    "import seaborn as sns\n",
    "sns.set()\n",
    "\n",
    "y1 = np.array(bilstm_train_result['roll_730_acc'])\n",
    "y2 = np.array(bilstm_train_result['roll_730_loss'])\n",
    "\n",
    "x = np.arange(len(y1))\n",
    "\n",
    "plt.figure(figsize=(10, 6.5))\n",
    "\n",
    "plt.plot(x, y1, color=\"r\", linewidth=1, label='accuracy')\n",
    "plt.plot(x, y2, color=\"b\", linewidth=1, label='loss')\n",
    "\n",
    "plt.legend(loc='best')\n",
    "plt.xlabel('Iterations')\n",
    "plt.ylabel('Value')\n",
    "plt.title('BiLSTM')\n",
    "\n",
    "plt.show()"
   ]
  },
  {
   "cell_type": "code",
   "execution_count": null,
   "metadata": {},
   "outputs": [],
   "source": []
  },
  {
   "cell_type": "code",
   "execution_count": null,
   "metadata": {},
   "outputs": [],
   "source": []
  }
 ],
 "metadata": {
  "kernelspec": {
   "display_name": "Python 3",
   "language": "python",
   "name": "python3"
  },
  "language_info": {
   "codemirror_mode": {
    "name": "ipython",
    "version": 3
   },
   "file_extension": ".py",
   "mimetype": "text/x-python",
   "name": "python",
   "nbconvert_exporter": "python",
   "pygments_lexer": "ipython3",
   "version": "3.8.3"
  }
 },
 "nbformat": 4,
 "nbformat_minor": 4
}
