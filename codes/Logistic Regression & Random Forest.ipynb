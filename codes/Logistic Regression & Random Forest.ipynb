{
 "cells": [
  {
   "cell_type": "code",
   "execution_count": 1,
   "metadata": {},
   "outputs": [],
   "source": [
    "%load_ext lab_black\n",
    "import pandas as pd\n",
    "import numpy as np\n",
    "import time\n",
    "import ast\n",
    "from sklearn.model_selection import GridSearchCV\n",
    "from sklearn.linear_model import LogisticRegression\n",
    "from sklearn.ensemble import RandomForestClassifier\n",
    "from sklearn.model_selection import train_test_split\n",
    "from sklearn.model_selection import GridSearchCV\n",
    "from sklearn.feature_extraction.text import CountVectorizer, TfidfVectorizer\n",
    "from sklearn import metrics"
   ]
  },
  {
   "cell_type": "code",
   "execution_count": 2,
   "metadata": {},
   "outputs": [],
   "source": [
    "df_reviews = pd.read_csv(\"../data/w2v_yelp.csv\")"
   ]
  },
  {
   "cell_type": "code",
   "execution_count": 3,
   "metadata": {},
   "outputs": [
    {
     "data": {
      "text/html": [
       "<div>\n",
       "<style scoped>\n",
       "    .dataframe tbody tr th:only-of-type {\n",
       "        vertical-align: middle;\n",
       "    }\n",
       "\n",
       "    .dataframe tbody tr th {\n",
       "        vertical-align: top;\n",
       "    }\n",
       "\n",
       "    .dataframe thead th {\n",
       "        text-align: right;\n",
       "    }\n",
       "</style>\n",
       "<table border=\"1\" class=\"dataframe\">\n",
       "  <thead>\n",
       "    <tr style=\"text-align: right;\">\n",
       "      <th></th>\n",
       "      <th>stars</th>\n",
       "      <th>Review_Labels</th>\n",
       "      <th>cleaned</th>\n",
       "      <th>w2v</th>\n",
       "    </tr>\n",
       "  </thead>\n",
       "  <tbody>\n",
       "    <tr>\n",
       "      <th>0</th>\n",
       "      <td>2.0</td>\n",
       "      <td>0</td>\n",
       "      <td>someon ha work mani museum wa eager visit thi ...</td>\n",
       "      <td>[-0.7833308577537537, -0.6459603905677795, 1.5...</td>\n",
       "    </tr>\n",
       "    <tr>\n",
       "      <th>1</th>\n",
       "      <td>1.0</td>\n",
       "      <td>0</td>\n",
       "      <td>actual horrifi thi place still busi year old s...</td>\n",
       "      <td>[2.3488664627075195, 0.18374943733215332, 1.44...</td>\n",
       "    </tr>\n",
       "    <tr>\n",
       "      <th>2</th>\n",
       "      <td>5.0</td>\n",
       "      <td>2</td>\n",
       "      <td>love deagan realli atmospher cozi festiv shrim...</td>\n",
       "      <td>[0.10850790143013, 0.16999416053295135, 0.9217...</td>\n",
       "    </tr>\n",
       "    <tr>\n",
       "      <th>3</th>\n",
       "      <td>1.0</td>\n",
       "      <td>0</td>\n",
       "      <td>dismal lukewarm defrostedtast texmex glop mumb...</td>\n",
       "      <td>[-0.7600313425064087, -0.5083361864089966, 0.9...</td>\n",
       "    </tr>\n",
       "    <tr>\n",
       "      <th>4</th>\n",
       "      <td>4.0</td>\n",
       "      <td>2</td>\n",
       "      <td>oh happi day final cane near casa ye gripe dri...</td>\n",
       "      <td>[0.5988718867301941, 0.927848756313324, 0.2136...</td>\n",
       "    </tr>\n",
       "  </tbody>\n",
       "</table>\n",
       "</div>"
      ],
      "text/plain": [
       "   stars  Review_Labels                                            cleaned  \\\n",
       "0    2.0              0  someon ha work mani museum wa eager visit thi ...   \n",
       "1    1.0              0  actual horrifi thi place still busi year old s...   \n",
       "2    5.0              2  love deagan realli atmospher cozi festiv shrim...   \n",
       "3    1.0              0  dismal lukewarm defrostedtast texmex glop mumb...   \n",
       "4    4.0              2  oh happi day final cane near casa ye gripe dri...   \n",
       "\n",
       "                                                 w2v  \n",
       "0  [-0.7833308577537537, -0.6459603905677795, 1.5...  \n",
       "1  [2.3488664627075195, 0.18374943733215332, 1.44...  \n",
       "2  [0.10850790143013, 0.16999416053295135, 0.9217...  \n",
       "3  [-0.7600313425064087, -0.5083361864089966, 0.9...  \n",
       "4  [0.5988718867301941, 0.927848756313324, 0.2136...  "
      ]
     },
     "execution_count": 3,
     "metadata": {},
     "output_type": "execute_result"
    }
   ],
   "source": [
    "df_reviews.head()"
   ]
  },
  {
   "cell_type": "code",
   "execution_count": 4,
   "metadata": {},
   "outputs": [],
   "source": [
    "train, test = train_test_split(\n",
    "    df_reviews, test_size=0.3, stratify=df_reviews[\"Review_Labels\"], random_state=42\n",
    ")"
   ]
  },
  {
   "cell_type": "code",
   "execution_count": 5,
   "metadata": {},
   "outputs": [],
   "source": [
    "y_train = train[\"Review_Labels\"].values\n",
    "y_test = test[\"Review_Labels\"].values\n",
    "x_train = train[\"w2v\"].values\n",
    "x_test = test[\"w2v\"].values"
   ]
  },
  {
   "cell_type": "code",
   "execution_count": 6,
   "metadata": {},
   "outputs": [],
   "source": [
    "x_train_cleaned = []\n",
    "for x in x_train:\n",
    "    i = ast.literal_eval(x)\n",
    "    x_train_cleaned.append(list(np.array(i).astype(float)))"
   ]
  },
  {
   "cell_type": "code",
   "execution_count": 7,
   "metadata": {},
   "outputs": [],
   "source": [
    "x_test_cleaned = []\n",
    "for x in x_test:\n",
    "    i = ast.literal_eval(x)\n",
    "    x_test_cleaned.append(list(np.array(i).astype(float)))"
   ]
  },
  {
   "cell_type": "markdown",
   "metadata": {},
   "source": [
    "### Logistic Regression: Word2Vec"
   ]
  },
  {
   "cell_type": "code",
   "execution_count": 8,
   "metadata": {},
   "outputs": [
    {
     "name": "stdout",
     "output_type": "stream",
     "text": [
      "Time takes to train model and make predictions:  0.11  mins\n",
      "Test Accuracy:  0.738\n",
      "Test F1:  0.738\n"
     ]
    }
   ],
   "source": [
    "start_time = time.time()\n",
    "lr = LogisticRegression(solver=\"liblinear\", random_state=42, max_iter=1000)\n",
    "lr.fit(x_train_cleaned, y_train)\n",
    "y_pred = lr.predict(x_test_cleaned)\n",
    "print(\n",
    "    \"Time takes to train model and make predictions: \",\n",
    "    round((time.time() - start_time) / 60, 2),\n",
    "    \" mins\",\n",
    ")\n",
    "print(\"Test Accuracy: \", round(metrics.accuracy_score(y_test, y_pred), 3))\n",
    "print(\"Test F1: \", round(metrics.f1_score(y_test, y_pred, average=\"micro\"), 3))"
   ]
  },
  {
   "cell_type": "code",
   "execution_count": 10,
   "metadata": {},
   "outputs": [
    {
     "name": "stdout",
     "output_type": "stream",
     "text": [
      "Time takes to train model and make predictions:  0.12  mins\n",
      "Train Accuracy:  0.738\n",
      "Train F1:  0.738\n"
     ]
    }
   ],
   "source": [
    "start_time = time.time()\n",
    "lr = LogisticRegression(solver=\"liblinear\", random_state=42, max_iter=1000)\n",
    "lr.fit(x_train_cleaned, y_train)\n",
    "y_pred = lr.predict(x_train_cleaned)\n",
    "print(\n",
    "    \"Time takes to train model and make predictions: \",\n",
    "    round((time.time() - start_time) / 60, 2),\n",
    "    \" mins\",\n",
    ")\n",
    "print(\"Train Accuracy: \", round(metrics.accuracy_score(y_train, y_pred), 3))\n",
    "print(\"Train F1: \", round(metrics.f1_score(y_train, y_pred, average=\"micro\"), 3))"
   ]
  },
  {
   "cell_type": "markdown",
   "metadata": {},
   "source": [
    "### Logistic Regression: BOW"
   ]
  },
  {
   "cell_type": "code",
   "execution_count": 11,
   "metadata": {},
   "outputs": [],
   "source": [
    "cv = CountVectorizer(binary=True)\n",
    "cv.fit_transform(train[\"cleaned\"].values)\n",
    "train_feature_set = cv.transform(train[\"cleaned\"].values)\n",
    "test_feature_set = cv.transform(test[\"cleaned\"].values)"
   ]
  },
  {
   "cell_type": "code",
   "execution_count": 13,
   "metadata": {},
   "outputs": [
    {
     "name": "stdout",
     "output_type": "stream",
     "text": [
      "Time takes to train model and make predictions:  0.28  mins\n",
      "Test Accuracy:  0.842\n",
      "Test F1:  0.842\n"
     ]
    }
   ],
   "source": [
    "start_time = time.time()\n",
    "lr = LogisticRegression(solver=\"liblinear\", random_state=42, max_iter=1000)\n",
    "lr.fit(train_feature_set, y_train)\n",
    "y_pred = lr.predict(test_feature_set)\n",
    "print(\n",
    "    \"Time takes to train model and make predictions: \",\n",
    "    round((time.time() - start_time) / 60, 2),\n",
    "    \" mins\",\n",
    ")\n",
    "print(\"Test Accuracy: \", round(metrics.accuracy_score(y_test, y_pred), 3))\n",
    "print(\"Test F1: \", round(metrics.f1_score(y_test, y_pred, average=\"micro\"), 3))"
   ]
  },
  {
   "cell_type": "code",
   "execution_count": 14,
   "metadata": {},
   "outputs": [
    {
     "name": "stdout",
     "output_type": "stream",
     "text": [
      "Time takes to train model and make predictions:  0.28  mins\n",
      "Train Accuracy:  0.927\n",
      "Train F1:  0.927\n"
     ]
    }
   ],
   "source": [
    "start_time = time.time()\n",
    "lr = LogisticRegression(solver=\"liblinear\", random_state=42, max_iter=1000)\n",
    "lr.fit(train_feature_set, y_train)\n",
    "y_pred = lr.predict(train_feature_set)\n",
    "print(\n",
    "    \"Time takes to train model and make predictions: \",\n",
    "    round((time.time() - start_time) / 60, 2),\n",
    "    \" mins\",\n",
    ")\n",
    "print(\"Train Accuracy: \", round(metrics.accuracy_score(y_train, y_pred), 3))\n",
    "print(\"Train F1: \", round(metrics.f1_score(y_train, y_pred, average=\"micro\"), 3))"
   ]
  },
  {
   "cell_type": "markdown",
   "metadata": {},
   "source": [
    "### Logistic Regression: TFIDF"
   ]
  },
  {
   "cell_type": "code",
   "execution_count": 16,
   "metadata": {},
   "outputs": [
    {
     "name": "stdout",
     "output_type": "stream",
     "text": [
      "Time takes to convert text input into feature vector:  0.13  mins\n"
     ]
    }
   ],
   "source": [
    "start_time = time.time()\n",
    "tfidf_v = TfidfVectorizer(use_idf=True, min_df=10, max_df=0.95)\n",
    "tfidf_v.fit_transform(train[\"cleaned\"].values)\n",
    "train_feature_set_tfidf = tfidf_v.transform(train[\"cleaned\"].values)\n",
    "test_feature_set_tfidf = tfidf_v.transform(test[\"cleaned\"].values)\n",
    "print(\n",
    "    \"Time takes to convert text input into feature vector: \",\n",
    "    round((time.time() - start_time) / 60, 2),\n",
    "    \" mins\",\n",
    ")"
   ]
  },
  {
   "cell_type": "code",
   "execution_count": 17,
   "metadata": {},
   "outputs": [
    {
     "name": "stdout",
     "output_type": "stream",
     "text": [
      "Time takes to train model and make predictions:  0.04  mins\n",
      "Test Accuracy:  0.849\n",
      "Test F1:  0.849\n"
     ]
    }
   ],
   "source": [
    "start_time = time.time()\n",
    "lr = LogisticRegression(solver=\"liblinear\", random_state=42, max_iter=1000)\n",
    "lr.fit(train_feature_set_tfidf, y_train)\n",
    "y_pred = lr.predict(test_feature_set_tfidf)\n",
    "print(\n",
    "    \"Time takes to train model and make predictions: \",\n",
    "    round((time.time() - start_time) / 60, 2),\n",
    "    \" mins\",\n",
    ")\n",
    "print(\"Test Accuracy: \", round(metrics.accuracy_score(y_test, y_pred), 3))\n",
    "print(\"Test F1: \", round(metrics.f1_score(y_test, y_pred, average=\"micro\"), 3))"
   ]
  },
  {
   "cell_type": "code",
   "execution_count": 18,
   "metadata": {},
   "outputs": [
    {
     "name": "stdout",
     "output_type": "stream",
     "text": [
      "Time takes to train model and make predictions:  0.04  mins\n",
      "Train Accuracy:  0.868\n",
      "Train F1:  0.868\n"
     ]
    }
   ],
   "source": [
    "start_time = time.time()\n",
    "lr = LogisticRegression(solver=\"liblinear\", random_state=42, max_iter=1000)\n",
    "lr.fit(train_feature_set_tfidf, y_train)\n",
    "y_pred = lr.predict(train_feature_set_tfidf)\n",
    "print(\n",
    "    \"Time takes to train model and make predictions: \",\n",
    "    round((time.time() - start_time) / 60, 2),\n",
    "    \" mins\",\n",
    ")\n",
    "print(\"Train Accuracy: \", round(metrics.accuracy_score(y_train, y_pred), 3))\n",
    "print(\"Train F1: \", round(metrics.f1_score(y_train, y_pred, average=\"micro\"), 3))"
   ]
  },
  {
   "cell_type": "markdown",
   "metadata": {},
   "source": [
    "### Random Forest: Word2Vec"
   ]
  },
  {
   "cell_type": "code",
   "execution_count": 20,
   "metadata": {},
   "outputs": [
    {
     "name": "stdout",
     "output_type": "stream",
     "text": [
      "Time takes to train model and make predictions:  3.63  mins\n",
      "Test Accuracy:  0.7\n",
      "Test F1:  0.7\n"
     ]
    }
   ],
   "source": [
    "start_time = time.time()\n",
    "rf = RandomForestClassifier(n_estimators=200, random_state=0)\n",
    "rf.fit(x_train_cleaned, y_train)\n",
    "y_pred = rf.predict(x_test_cleaned)\n",
    "print(\n",
    "    \"Time takes to train model and make predictions: \",\n",
    "    round((time.time() - start_time) / 60, 2),\n",
    "    \" mins\",\n",
    ")\n",
    "print(\"Test Accuracy: \", round(metrics.accuracy_score(y_test, y_pred), 3))\n",
    "print(\"Test F1: \", round(metrics.f1_score(y_test, y_pred, average=\"micro\"), 3))"
   ]
  },
  {
   "cell_type": "code",
   "execution_count": 21,
   "metadata": {},
   "outputs": [
    {
     "name": "stdout",
     "output_type": "stream",
     "text": [
      "Time takes to train model and make predictions:  3.64  mins\n",
      "Train Accuracy:  1.0\n",
      "Train F1:  1.0\n"
     ]
    }
   ],
   "source": [
    "start_time = time.time()\n",
    "rf = RandomForestClassifier(n_estimators=200, random_state=0)\n",
    "rf.fit(x_train_cleaned, y_train)\n",
    "y_pred = rf.predict(x_train_cleaned)\n",
    "print(\n",
    "    \"Time takes to train model and make predictions: \",\n",
    "    round((time.time() - start_time) / 60, 2),\n",
    "    \" mins\",\n",
    ")\n",
    "print(\"Train Accuracy: \", round(metrics.accuracy_score(y_train, y_pred), 3))\n",
    "print(\"Train F1: \", round(metrics.f1_score(y_train, y_pred, average=\"micro\"), 3))"
   ]
  },
  {
   "cell_type": "markdown",
   "metadata": {},
   "source": [
    "### Random Forest: BOW"
   ]
  },
  {
   "cell_type": "code",
   "execution_count": 22,
   "metadata": {},
   "outputs": [],
   "source": [
    "cv = CountVectorizer(binary=True)\n",
    "cv.fit_transform(train[\"cleaned\"].values)\n",
    "train_feature_set = cv.transform(train[\"cleaned\"].values)\n",
    "test_feature_set = cv.transform(test[\"cleaned\"].values)"
   ]
  },
  {
   "cell_type": "code",
   "execution_count": 23,
   "metadata": {},
   "outputs": [
    {
     "name": "stdout",
     "output_type": "stream",
     "text": [
      "Time takes to train model and make predictions:  8.12  mins\n",
      "Test Accuracy:  0.791\n",
      "Test F1:  0.791\n"
     ]
    }
   ],
   "source": [
    "start_time = time.time()\n",
    "rf = RandomForestClassifier(n_estimators=200, random_state=0)\n",
    "rf.fit(train_feature_set, y_train)\n",
    "y_pred = rf.predict(test_feature_set)\n",
    "print(\n",
    "    \"Time takes to train model and make predictions: \",\n",
    "    round((time.time() - start_time) / 60, 2),\n",
    "    \" mins\",\n",
    ")\n",
    "print(\"Test Accuracy: \", round(metrics.accuracy_score(y_test, y_pred), 3))\n",
    "print(\"Test F1: \", round(metrics.f1_score(y_test, y_pred, average=\"micro\"), 3))"
   ]
  },
  {
   "cell_type": "code",
   "execution_count": 24,
   "metadata": {},
   "outputs": [
    {
     "name": "stdout",
     "output_type": "stream",
     "text": [
      "Time takes to train model and make predictions:  8.45  mins\n",
      "Train Accuracy:  1.0\n",
      "Train F1:  1.0\n"
     ]
    }
   ],
   "source": [
    "start_time = time.time()\n",
    "rf = RandomForestClassifier(n_estimators=200, random_state=0)\n",
    "rf.fit(train_feature_set, y_train)\n",
    "y_pred = rf.predict(train_feature_set)\n",
    "print(\n",
    "    \"Time takes to train model and make predictions: \",\n",
    "    round((time.time() - start_time) / 60, 2),\n",
    "    \" mins\",\n",
    ")\n",
    "print(\"Train Accuracy: \", round(metrics.accuracy_score(y_train, y_pred), 3))\n",
    "print(\"Train F1: \", round(metrics.f1_score(y_train, y_pred, average=\"micro\"), 3))"
   ]
  },
  {
   "cell_type": "markdown",
   "metadata": {},
   "source": [
    "### Random Forest: TFIDF"
   ]
  },
  {
   "cell_type": "code",
   "execution_count": 25,
   "metadata": {},
   "outputs": [
    {
     "name": "stdout",
     "output_type": "stream",
     "text": [
      "Time takes to convert text input into feature vector:  0.14  mins\n"
     ]
    }
   ],
   "source": [
    "start_time = time.time()\n",
    "tfidf_v = TfidfVectorizer(use_idf=True, min_df=10, max_df=0.95)\n",
    "tfidf_v.fit_transform(train[\"cleaned\"].values)\n",
    "train_feature_set_tfidf = tfidf_v.transform(train[\"cleaned\"].values)\n",
    "test_feature_set_tfidf = tfidf_v.transform(test[\"cleaned\"].values)\n",
    "print(\n",
    "    \"Time takes to convert text input into feature vector: \",\n",
    "    round((time.time() - start_time) / 60, 2),\n",
    "    \" mins\",\n",
    ")"
   ]
  },
  {
   "cell_type": "code",
   "execution_count": 26,
   "metadata": {},
   "outputs": [
    {
     "name": "stdout",
     "output_type": "stream",
     "text": [
      "Time takes to train model and make predictions:  6.5  mins\n",
      "Test Accuracy:  0.805\n",
      "Test F1:  0.805\n"
     ]
    }
   ],
   "source": [
    "start_time = time.time()\n",
    "rf = RandomForestClassifier(n_estimators=200, random_state=0)\n",
    "rf.fit(train_feature_set_tfidf, y_train)\n",
    "y_pred = rf.predict(test_feature_set_tfidf)\n",
    "print(\n",
    "    \"Time takes to train model and make predictions: \",\n",
    "    round((time.time() - start_time) / 60, 2),\n",
    "    \" mins\",\n",
    ")\n",
    "print(\"Test Accuracy: \", round(metrics.accuracy_score(y_test, y_pred), 3))\n",
    "print(\"Test F1: \", round(metrics.f1_score(y_test, y_pred, average=\"micro\"), 3))"
   ]
  },
  {
   "cell_type": "code",
   "execution_count": 27,
   "metadata": {},
   "outputs": [
    {
     "name": "stdout",
     "output_type": "stream",
     "text": [
      "Time takes to train model and make predictions:  6.48  mins\n",
      "Train Accuracy:  1.0\n",
      "Train F1:  1.0\n"
     ]
    }
   ],
   "source": [
    "start_time = time.time()\n",
    "rf = RandomForestClassifier(n_estimators=200, random_state=0)\n",
    "rf.fit(train_feature_set_tfidf, y_train)\n",
    "y_pred = rf.predict(train_feature_set_tfidf)\n",
    "print(\n",
    "    \"Time takes to train model and make predictions: \",\n",
    "    round((time.time() - start_time) / 60, 2),\n",
    "    \" mins\",\n",
    ")\n",
    "print(\"Train Accuracy: \", round(metrics.accuracy_score(y_train, y_pred), 3))\n",
    "print(\"Train F1: \", round(metrics.f1_score(y_train, y_pred, average=\"micro\"), 3))"
   ]
  },
  {
   "cell_type": "code",
   "execution_count": null,
   "metadata": {},
   "outputs": [],
   "source": []
  }
 ],
 "metadata": {
  "kernelspec": {
   "display_name": "Python 3",
   "language": "python",
   "name": "python3"
  },
  "language_info": {
   "codemirror_mode": {
    "name": "ipython",
    "version": 3
   },
   "file_extension": ".py",
   "mimetype": "text/x-python",
   "name": "python",
   "nbconvert_exporter": "python",
   "pygments_lexer": "ipython3",
   "version": "3.8.5"
  }
 },
 "nbformat": 4,
 "nbformat_minor": 4
}
