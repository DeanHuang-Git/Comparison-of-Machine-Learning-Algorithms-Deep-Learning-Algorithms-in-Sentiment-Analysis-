{
 "cells": [
  {
   "cell_type": "markdown",
   "metadata": {},
   "source": [
    "# Step0: Import Packages"
   ]
  },
  {
   "cell_type": "code",
   "execution_count": 1,
   "metadata": {},
   "outputs": [],
   "source": [
    "import torch\n",
    "import numpy as np\n",
    "import pandas as pd\n",
    "import torch.nn as nn\n",
    "import tensorwatch as tw\n",
    "from sklearn import metrics\n",
    "from torchviz import make_dot\n",
    "from string import punctuation\n",
    "import torch.nn.functional as F\n",
    "from collections import Counter\n",
    "from torchvision.models import AlexNet\n",
    "from sklearn.metrics import accuracy_score\n",
    "from torch.utils.data import DataLoader, TensorDataset"
   ]
  },
  {
   "cell_type": "markdown",
   "metadata": {},
   "source": [
    "# Step1: Get dataset"
   ]
  },
  {
   "cell_type": "code",
   "execution_count": 2,
   "metadata": {},
   "outputs": [],
   "source": [
    "reviews = pd.read_csv(\"../data/english_yep_reviews.csv\")"
   ]
  },
  {
   "cell_type": "markdown",
   "metadata": {},
   "source": [
    "# Step2: Count the words"
   ]
  },
  {
   "cell_type": "code",
   "execution_count": 3,
   "metadata": {},
   "outputs": [
    {
     "name": "stdout",
     "output_type": "stream",
     "text": [
      "['someon', 'ha', 'work', 'mani', 'museum', 'wa', 'eager', 'visit', 'thi', 'galleri']\n",
      "Top ten occuring words :  [('wa', 199857), ('thi', 86639), ('place', 55772), ('food', 53489), ('good', 50852), ('great', 44401), ('veri', 44062), ('time', 42695), ('get', 38251), ('would', 38160)]\n"
     ]
    }
   ],
   "source": [
    "all_reviews = list(reviews['cleaned'])\n",
    "all_text = \" \".join(all_reviews)\n",
    "all_words = all_text.split()\n",
    "print(all_words[0:10])\n",
    "\n",
    "# Count all the words using Counter Method\n",
    "count_words = Counter(all_words)\n",
    "total_words = len(all_words)\n",
    "sorted_words=count_words.most_common(total_words)\n",
    "print(\"Top ten occuring words : \", sorted_words[:10])"
   ]
  },
  {
   "cell_type": "markdown",
   "metadata": {},
   "source": [
    "# Step3: Create a dictionary"
   ]
  },
  {
   "cell_type": "code",
   "execution_count": 4,
   "metadata": {},
   "outputs": [],
   "source": [
    "# Create a dictionary\n",
    "# We will start createing dictionary with index 1 because 0 \n",
    "    # is reserved for padding\n",
    "\n",
    "vocab_to_int = {w: i+1 for i, (w, c) in enumerate(sorted_words)}"
   ]
  },
  {
   "cell_type": "markdown",
   "metadata": {},
   "source": [
    "# Step4: Encode the review data"
   ]
  },
  {
   "cell_type": "code",
   "execution_count": 5,
   "metadata": {},
   "outputs": [],
   "source": [
    "# Encode review\n",
    "encoded_reviews = list()\n",
    "for review in all_reviews:\n",
    "    encoded_review = list()\n",
    "    for word in review.split():\n",
    "        if word not in vocab_to_int.keys():\n",
    "            # if word is not available in vocab_to_int put 0 in that place\n",
    "            encoded_review.append(0)\n",
    "        else:\n",
    "            encoded_review.append(vocab_to_int[word])\n",
    "    encoded_reviews.append(encoded_review)"
   ]
  },
  {
   "cell_type": "markdown",
   "metadata": {},
   "source": [
    "# Step5: Make the encode_review of the same length"
   ]
  },
  {
   "cell_type": "code",
   "execution_count": 6,
   "metadata": {},
   "outputs": [],
   "source": [
    "# make all the encoded_review of the same length\n",
    "# this step will return features of review_ints,\n",
    "# where each review is padded with 0's or truncated to the input seq_length.\n",
    "# the longest review has 564 words\n",
    "# sequence_length is 100, but also could be 150, 200, 250 (here just for save energy)\n",
    "\n",
    "sequence_length = 100\n",
    "features = np.zeros((len(encoded_reviews), sequence_length), dtype=int)\n",
    "for i, review in enumerate(encoded_reviews):\n",
    "    review_len = len(review)\n",
    "    if review_len <= sequence_length:\n",
    "        zeros = list(np.zeros(sequence_length-review_len))\n",
    "        new = zeros+review\n",
    "    else:\n",
    "        new = review[:sequence_length]\n",
    "    features[i, :] = np.array(new)"
   ]
  },
  {
   "cell_type": "markdown",
   "metadata": {},
   "source": [
    "# Step6: Create labels"
   ]
  },
  {
   "cell_type": "code",
   "execution_count": 7,
   "metadata": {},
   "outputs": [],
   "source": [
    "# set labels, 0 negative, 1 neutral, 2 positive\n",
    "labels = list(reviews['Review_Labels'])"
   ]
  },
  {
   "cell_type": "markdown",
   "metadata": {},
   "source": [
    "# Step7: Split this feature data into Traning, Testing and Validation set"
   ]
  },
  {
   "cell_type": "code",
   "execution_count": 8,
   "metadata": {},
   "outputs": [
    {
     "name": "stdout",
     "output_type": "stream",
     "text": [
      "79999 10000 10000\n"
     ]
    }
   ],
   "source": [
    "# split this feature data into training and validation set\n",
    "# 80% training, 10% test and 10% validation dataset\n",
    "\n",
    "# However, for cpu running, set 10% of them\n",
    "# features = features[:int(0.5*len(features))]\n",
    "# labels = labels[:int(0.5*len(labels))]\n",
    "train_x = features[:int(0.8*len(features))]\n",
    "train_y = labels[:int(0.8*len(features))]\n",
    "valid_x = features[int(0.8*len(features)):int(0.9*len(features))]\n",
    "valid_y = labels[int(0.8*len(features)):int(0.9*len(features))]\n",
    "test_x = features[int(0.9*len(features)):]\n",
    "test_y = labels[int(0.9*len(features)):]\n",
    "print(len(train_y), len(valid_y), len(test_y))"
   ]
  },
  {
   "cell_type": "markdown",
   "metadata": {},
   "source": [
    "# Step8: Create DataLoader objects for Pytorch model"
   ]
  },
  {
   "cell_type": "code",
   "execution_count": 9,
   "metadata": {},
   "outputs": [],
   "source": [
    "import torch\n",
    "from torch.utils.data import DataLoader, TensorDataset\n",
    "\n",
    "#create Tensor Dataset\n",
    "train_data=TensorDataset(torch.FloatTensor(train_x), torch.FloatTensor(train_y))\n",
    "valid_data=TensorDataset(torch.FloatTensor(valid_x), torch.FloatTensor(valid_y))\n",
    "test_data=TensorDataset(torch.FloatTensor(test_x), torch.FloatTensor(test_y))\n",
    "\n",
    "#dataloader\n",
    "# remember to add drop_last=True, which will delete the last batch of the data if it's size is not equal to batch_size\n",
    "batch_size=100\n",
    "train_loader=DataLoader(train_data, batch_size=batch_size, shuffle=True, drop_last=True)\n",
    "valid_loader=DataLoader(valid_data, batch_size=batch_size, shuffle=True, drop_last=True)\n",
    "test_loader=DataLoader(test_data, batch_size=batch_size, shuffle=True, drop_last=True)"
   ]
  },
  {
   "cell_type": "markdown",
   "metadata": {},
   "source": [
    "# Step9: Analyze the dataloader data"
   ]
  },
  {
   "cell_type": "code",
   "execution_count": 10,
   "metadata": {},
   "outputs": [
    {
     "name": "stdout",
     "output_type": "stream",
     "text": [
      "Sample input size:  torch.Size([100, 100])\n",
      "Sample input: \n",
      " tensor([[   0.,    0.,    0.,  ..., 5899.,  371.,   35.],\n",
      "        [   0.,    0.,    0.,  ...,   47.,   20.,   16.],\n",
      "        [   0.,    0.,    0.,  ...,  125., 2599., 7442.],\n",
      "        ...,\n",
      "        [   0.,    0.,    0.,  ...,  242.,   58., 1307.],\n",
      "        [   0.,    0.,    0.,  ...,  203.,  128.,  198.],\n",
      "        [   0.,    0.,    0.,  ...,  130., 1242.,   13.]])\n",
      "Sample label size:  torch.Size([100])\n",
      "Sample label: \n",
      " tensor([2., 2., 2., 2., 2., 2., 1., 0., 0., 2., 2., 2., 2., 2., 2., 0., 0., 2.,\n",
      "        2., 2., 0., 0., 2., 2., 2., 0., 2., 2., 2., 2., 2., 2., 2., 2., 2., 0.,\n",
      "        2., 0., 2., 2., 1., 0., 2., 2., 1., 1., 2., 2., 0., 0., 2., 1., 2., 0.,\n",
      "        2., 0., 2., 0., 2., 0., 2., 2., 0., 2., 1., 2., 1., 2., 2., 2., 0., 2.,\n",
      "        1., 0., 0., 0., 2., 2., 2., 1., 2., 2., 2., 0., 0., 1., 2., 2., 2., 2.,\n",
      "        0., 0., 2., 1., 2., 0., 0., 0., 2., 2.])\n"
     ]
    }
   ],
   "source": [
    "# obtain one batch of training data\n",
    "dataiter = iter(train_loader)\n",
    "sample_x, sample_y = dataiter.next()\n",
    "print('Sample input size: ', sample_x.size()) # batch_size, seq_length\n",
    "print('Sample input: \\n', sample_x)\n",
    "print('Sample label size: ', sample_y.size()) # batch_size\n",
    "print('Sample label: \\n', sample_y)"
   ]
  },
  {
   "cell_type": "markdown",
   "metadata": {},
   "source": [
    "# Step10: Create an Attention-Based Bi-LSTM model"
   ]
  },
  {
   "cell_type": "code",
   "execution_count": 12,
   "metadata": {},
   "outputs": [],
   "source": [
    "class Att_LSTM_Model(nn.Module):\n",
    "    def __init__(self, vocab_size, output_size, embed, hidden_size, hidden_size2, num_layers, num_classes, dropout, bidirectional):\n",
    "        super(Att_LSTM_Model, self).__init__()\n",
    "        \n",
    "        self.embedding = nn.Embedding(vocab_size, embed)\n",
    "        self.lstm = nn.LSTM(embed, hidden_size, num_layers,\n",
    "                            bidirectional=bidirectional, batch_first=True, dropout=dropout)  # initialize Bi-LSTM model\n",
    "        self.tanh1 = nn.Tanh()\n",
    "        self.w = nn.Parameter(torch.zeros(hidden_size * 2))\n",
    "        self.tanh2 = nn.Tanh()\n",
    "        self.fc1 = nn.Linear(hidden_size * 2, hidden_size2)\n",
    "        self.fc = nn.Linear(hidden_size2, num_classes)\n",
    "        \n",
    "    def forward(self, x):\n",
    "        emb = self.embedding(x)  # [batch_size, seq_len, embeding]=[100, 100, 300]\n",
    "        H, _ = self.lstm(emb)  # batch_size, seq_len, hidden_size * num_direction]=[100, 100, 256]\n",
    "        \n",
    "        M = self.tanh1(H)  # [100, 100, 256]\n",
    "        alpha = F.softmax(torch.matmul(M, self.w), dim=1).unsqueeze(-1)  # [100, 100, 1]\n",
    "        out = H * alpha  # [100, 100, 256]\n",
    "        out = torch.sum(out, 1)  # [100, 256]\n",
    "        out = F.relu(out)\n",
    "        out = self.fc1(out)\n",
    "        out = self.fc(out)  # [128, 64]\n",
    "        \n",
    "        return out\n",
    "        "
   ]
  },
  {
   "cell_type": "markdown",
   "metadata": {},
   "source": [
    "# Step11: Initialize the Attention-Based Bi-LSTM models"
   ]
  },
  {
   "cell_type": "code",
   "execution_count": 20,
   "metadata": {},
   "outputs": [
    {
     "name": "stdout",
     "output_type": "stream",
     "text": [
      "Att-Bi-LSTM\n",
      "Att_LSTM_Model(\n",
      "  (embedding): Embedding(77398, 300)\n",
      "  (lstm): LSTM(300, 128, num_layers=2, batch_first=True, dropout=0.5, bidirectional=True)\n",
      "  (tanh1): Tanh()\n",
      "  (tanh2): Tanh()\n",
      "  (fc1): Linear(in_features=256, out_features=64, bias=True)\n",
      "  (fc): Linear(in_features=64, out_features=3, bias=True)\n",
      ")\n"
     ]
    }
   ],
   "source": [
    "# Instantiate the model w/ hperparams\n",
    "vocab_size = len(vocab_to_int) + 1  # +1 for the 0 padding, 0.1 for the 10% of the total data (see step7)\n",
    "output_size = 1\n",
    "embed = 300\n",
    "hidden_size = 128\n",
    "hidden_size2 = 64\n",
    "num_layers = 2\n",
    "dropout = 0.5\n",
    "num_classes = 3\n",
    "epochs = 10\n",
    "bidirectional = False\n",
    "\n",
    "model_att_bilstm = Att_LSTM_Model(vocab_size, output_size, embed, hidden_size, hidden_size2, num_layers, num_classes, dropout, True)\n",
    "print('Att-Bi-LSTM')\n",
    "print(model_att_bilstm)\n"
   ]
  },
  {
   "cell_type": "markdown",
   "metadata": {},
   "source": [
    "# Step12: Train the model"
   ]
  },
  {
   "cell_type": "code",
   "execution_count": 21,
   "metadata": {},
   "outputs": [],
   "source": [
    "def train(epoch, model):\n",
    "    lr = 0.0001  # learning rate\n",
    "    model.train()\n",
    "    optimizer = torch.optim.Adam(model.parameters(), lr=lr, weight_decay=0.001)\n",
    "    total_batch = 0\n",
    "    train_loss = 0\n",
    "    result_train_dict = {}\n",
    "    result_valid_dict = {}\n",
    "    epoch_train_list = []\n",
    "    epoch_valid_list = []\n",
    "    batch_train_list = []\n",
    "    batch_valid_list = []\n",
    "    loss_train_list = []\n",
    "    loss_valid_list = []\n",
    "    acc_train_list = []\n",
    "    acc_valid_list = []\n",
    "    f1_train_list = []\n",
    "    f1_valid_list = []\n",
    "    recall_train_list = []\n",
    "    recall_valid_list = []\n",
    "    for batch_idx, (trains, labels) in enumerate(train_loader):\n",
    "        \n",
    "        outputs = model(trains.long())\n",
    "        model.zero_grad()\n",
    "        loss = F.cross_entropy(outputs, labels.long())\n",
    "        loss.backward()\n",
    "        optimizer.step()\n",
    "        train_loss += loss.item()\n",
    "        \n",
    "        \n",
    "        true = labels.data.cpu()\n",
    "        predic = torch.max(outputs.data, 1)[1].cpu()\n",
    "        train_acc = metrics.accuracy_score(true, predic)\n",
    "        train_f1 = metrics.f1_score(true, predic, average='micro')\n",
    "        train_recall = metrics.recall_score(true, predic, average='micro')\n",
    "        loss_value = train_loss/(batch_idx+1)\n",
    "        \n",
    "        epoch_train_list.append(epoch)\n",
    "        batch_train_list.append(batch_idx)\n",
    "        loss_train_list.append(loss_value)\n",
    "        acc_train_list.append(train_acc)\n",
    "        f1_train_list.append(train_f1)\n",
    "        recall_train_list.append(train_recall)\n",
    "\n",
    "        if total_batch % 100 == 0 :\n",
    "            \n",
    "            for trains, labels in valid_loader:\n",
    "                outputs = model(trains.long())\n",
    "                valid_loss = F.cross_entropy(outputs, labels.long())\n",
    "                \n",
    "                true = labels.data.cpu()\n",
    "                predic = torch.max(outputs.data, 1)[1].cpu()\n",
    "                valid_acc = metrics.accuracy_score(true, predic)\n",
    "                valid_f1 = metrics.f1_score(true, predic, average='micro')\n",
    "                valid_recall = metrics.recall_score(true, predic, average='micro')\n",
    "                \n",
    "                epoch_valid_list.append(epoch)\n",
    "                batch_valid_list.append(batch_idx)\n",
    "                loss_valid_list.append(valid_loss.item())\n",
    "                acc_valid_list.append(valid_acc)\n",
    "                f1_valid_list.append(valid_f1)\n",
    "                recall_valid_list.append(valid_recall)\n",
    "                \n",
    "                avg_acc_valid = np.array(acc_valid_list).mean()\n",
    "                avg_loss_valid = np.array(loss_valid_list).mean()\n",
    "                \n",
    "            print('epoch: {}'.format(epoch), 'batch: {}'.format(batch_idx), \n",
    "                  'total train loader: {}'.format(len(train_loader)),\n",
    "                  'T_Loss: %.3f | T_Acc: %.3f |' % (loss_value, train_acc),\n",
    "                  'T_f1: %.3f | T_recall: %.3f ||' % (train_f1, train_recall),\n",
    "                  'V_Loss: %.3f | V_Acc: %.3f' % (avg_loss_valid, avg_acc_valid),\n",
    "                  'V_f1: %.3f | V_recall: %.3f' % (valid_f1, valid_recall))\n",
    "        total_batch += 1\n",
    "        \n",
    "    result_train_dict['epoch'] = epoch_train_list\n",
    "    result_train_dict['batch'] = batch_train_list\n",
    "    result_train_dict['loss'] = loss_train_list\n",
    "    result_train_dict['acc'] = acc_train_list\n",
    "    result_train_dict['f1'] = f1_train_list\n",
    "    result_train_dict['recall'] = recall_train_list\n",
    "    \n",
    "    result_valid_dict['epoch'] = epoch_valid_list\n",
    "    result_valid_dict['batch'] = batch_valid_list\n",
    "    result_valid_dict['loss'] = loss_valid_list\n",
    "    result_valid_dict['acc'] = acc_valid_list\n",
    "    result_valid_dict['f1'] = f1_valid_list\n",
    "    result_valid_dict['recall'] = recall_valid_list\n",
    "    \n",
    "    pd_train = pd.DataFrame(result_train_dict)\n",
    "    pd_valid = pd.DataFrame(result_valid_dict)\n",
    "\n",
    "    return pd_train, pd_valid"
   ]
  },
  {
   "cell_type": "code",
   "execution_count": 22,
   "metadata": {
    "scrolled": true
   },
   "outputs": [
    {
     "name": "stdout",
     "output_type": "stream",
     "text": [
      "epoch: 0 batch: 0 total train loader: 799 T_Loss: 1.077 | T_Acc: 0.610 | T_f1: 0.610 | T_recall: 0.610 || V_Loss: 1.062 | V_Acc: 0.669 V_f1: 0.720 | V_recall: 0.720\n",
      "epoch: 0 batch: 100 total train loader: 799 T_Loss: 0.899 | T_Acc: 0.720 | T_f1: 0.720 | T_recall: 0.720 || V_Loss: 0.951 | V_Acc: 0.669 V_f1: 0.720 | V_recall: 0.720\n",
      "epoch: 0 batch: 200 total train loader: 799 T_Loss: 0.863 | T_Acc: 0.650 | T_f1: 0.650 | T_recall: 0.650 || V_Loss: 0.911 | V_Acc: 0.669 V_f1: 0.660 | V_recall: 0.660\n",
      "epoch: 0 batch: 300 total train loader: 799 T_Loss: 0.848 | T_Acc: 0.690 | T_f1: 0.690 | T_recall: 0.690 || V_Loss: 0.889 | V_Acc: 0.669 V_f1: 0.700 | V_recall: 0.700\n",
      "epoch: 0 batch: 400 total train loader: 799 T_Loss: 0.842 | T_Acc: 0.670 | T_f1: 0.670 | T_recall: 0.670 || V_Loss: 0.870 | V_Acc: 0.669 V_f1: 0.670 | V_recall: 0.670\n",
      "epoch: 0 batch: 500 total train loader: 799 T_Loss: 0.819 | T_Acc: 0.770 | T_f1: 0.770 | T_recall: 0.770 || V_Loss: 0.832 | V_Acc: 0.684 V_f1: 0.750 | V_recall: 0.750\n",
      "epoch: 0 batch: 600 total train loader: 799 T_Loss: 0.784 | T_Acc: 0.730 | T_f1: 0.730 | T_recall: 0.730 || V_Loss: 0.795 | V_Acc: 0.697 V_f1: 0.780 | V_recall: 0.780\n",
      "epoch: 0 batch: 700 total train loader: 799 T_Loss: 0.753 | T_Acc: 0.790 | T_f1: 0.790 | T_recall: 0.790 || V_Loss: 0.766 | V_Acc: 0.709 V_f1: 0.850 | V_recall: 0.850\n",
      "epoch: 1 batch: 0 total train loader: 799 T_Loss: 0.640 | T_Acc: 0.730 | T_f1: 0.730 | T_recall: 0.730 || V_Loss: 0.540 | V_Acc: 0.794 V_f1: 0.730 | V_recall: 0.730\n",
      "epoch: 1 batch: 100 total train loader: 799 T_Loss: 0.535 | T_Acc: 0.840 | T_f1: 0.840 | T_recall: 0.840 || V_Loss: 0.548 | V_Acc: 0.794 V_f1: 0.790 | V_recall: 0.790\n",
      "epoch: 1 batch: 200 total train loader: 799 T_Loss: 0.534 | T_Acc: 0.680 | T_f1: 0.680 | T_recall: 0.680 || V_Loss: 0.537 | V_Acc: 0.798 V_f1: 0.880 | V_recall: 0.880\n",
      "epoch: 1 batch: 300 total train loader: 799 T_Loss: 0.529 | T_Acc: 0.760 | T_f1: 0.760 | T_recall: 0.760 || V_Loss: 0.529 | V_Acc: 0.801 V_f1: 0.860 | V_recall: 0.860\n",
      "epoch: 1 batch: 400 total train loader: 799 T_Loss: 0.523 | T_Acc: 0.860 | T_f1: 0.860 | T_recall: 0.860 || V_Loss: 0.525 | V_Acc: 0.802 V_f1: 0.870 | V_recall: 0.870\n",
      "epoch: 1 batch: 500 total train loader: 799 T_Loss: 0.518 | T_Acc: 0.840 | T_f1: 0.840 | T_recall: 0.840 || V_Loss: 0.519 | V_Acc: 0.804 V_f1: 0.750 | V_recall: 0.750\n",
      "epoch: 1 batch: 600 total train loader: 799 T_Loss: 0.513 | T_Acc: 0.810 | T_f1: 0.810 | T_recall: 0.810 || V_Loss: 0.515 | V_Acc: 0.806 V_f1: 0.810 | V_recall: 0.810\n",
      "epoch: 1 batch: 700 total train loader: 799 T_Loss: 0.510 | T_Acc: 0.760 | T_f1: 0.760 | T_recall: 0.760 || V_Loss: 0.510 | V_Acc: 0.807 V_f1: 0.840 | V_recall: 0.840\n",
      "epoch: 2 batch: 0 total train loader: 799 T_Loss: 0.601 | T_Acc: 0.760 | T_f1: 0.760 | T_recall: 0.760 || V_Loss: 0.477 | V_Acc: 0.819 V_f1: 0.820 | V_recall: 0.820\n",
      "epoch: 2 batch: 100 total train loader: 799 T_Loss: 0.466 | T_Acc: 0.830 | T_f1: 0.830 | T_recall: 0.830 || V_Loss: 0.474 | V_Acc: 0.819 V_f1: 0.790 | V_recall: 0.790\n",
      "epoch: 2 batch: 200 total train loader: 799 T_Loss: 0.464 | T_Acc: 0.810 | T_f1: 0.810 | T_recall: 0.810 || V_Loss: 0.470 | V_Acc: 0.821 V_f1: 0.690 | V_recall: 0.690\n",
      "epoch: 2 batch: 300 total train loader: 799 T_Loss: 0.460 | T_Acc: 0.820 | T_f1: 0.820 | T_recall: 0.820 || V_Loss: 0.469 | V_Acc: 0.821 V_f1: 0.810 | V_recall: 0.810\n",
      "epoch: 2 batch: 400 total train loader: 799 T_Loss: 0.457 | T_Acc: 0.820 | T_f1: 0.820 | T_recall: 0.820 || V_Loss: 0.467 | V_Acc: 0.822 V_f1: 0.780 | V_recall: 0.780\n",
      "epoch: 2 batch: 500 total train loader: 799 T_Loss: 0.456 | T_Acc: 0.900 | T_f1: 0.900 | T_recall: 0.900 || V_Loss: 0.464 | V_Acc: 0.823 V_f1: 0.860 | V_recall: 0.860\n",
      "epoch: 2 batch: 600 total train loader: 799 T_Loss: 0.454 | T_Acc: 0.810 | T_f1: 0.810 | T_recall: 0.810 || V_Loss: 0.463 | V_Acc: 0.824 V_f1: 0.810 | V_recall: 0.810\n",
      "epoch: 2 batch: 700 total train loader: 799 T_Loss: 0.453 | T_Acc: 0.810 | T_f1: 0.810 | T_recall: 0.810 || V_Loss: 0.461 | V_Acc: 0.824 V_f1: 0.840 | V_recall: 0.840\n",
      "epoch: 3 batch: 0 total train loader: 799 T_Loss: 0.588 | T_Acc: 0.760 | T_f1: 0.760 | T_recall: 0.760 || V_Loss: 0.445 | V_Acc: 0.830 V_f1: 0.770 | V_recall: 0.770\n",
      "epoch: 3 batch: 100 total train loader: 799 T_Loss: 0.442 | T_Acc: 0.800 | T_f1: 0.800 | T_recall: 0.800 || V_Loss: 0.447 | V_Acc: 0.828 V_f1: 0.810 | V_recall: 0.810\n",
      "epoch: 3 batch: 200 total train loader: 799 T_Loss: 0.433 | T_Acc: 0.830 | T_f1: 0.830 | T_recall: 0.830 || V_Loss: 0.445 | V_Acc: 0.829 V_f1: 0.820 | V_recall: 0.820\n",
      "epoch: 3 batch: 300 total train loader: 799 T_Loss: 0.426 | T_Acc: 0.860 | T_f1: 0.860 | T_recall: 0.860 || V_Loss: 0.443 | V_Acc: 0.829 V_f1: 0.870 | V_recall: 0.870\n",
      "epoch: 3 batch: 400 total train loader: 799 T_Loss: 0.425 | T_Acc: 0.820 | T_f1: 0.820 | T_recall: 0.820 || V_Loss: 0.442 | V_Acc: 0.829 V_f1: 0.860 | V_recall: 0.860\n",
      "epoch: 3 batch: 500 total train loader: 799 T_Loss: 0.426 | T_Acc: 0.830 | T_f1: 0.830 | T_recall: 0.830 || V_Loss: 0.440 | V_Acc: 0.830 V_f1: 0.820 | V_recall: 0.820\n",
      "epoch: 3 batch: 600 total train loader: 799 T_Loss: 0.427 | T_Acc: 0.810 | T_f1: 0.810 | T_recall: 0.810 || V_Loss: 0.439 | V_Acc: 0.830 V_f1: 0.940 | V_recall: 0.940\n",
      "epoch: 3 batch: 700 total train loader: 799 T_Loss: 0.424 | T_Acc: 0.870 | T_f1: 0.870 | T_recall: 0.870 || V_Loss: 0.439 | V_Acc: 0.830 V_f1: 0.850 | V_recall: 0.850\n",
      "epoch: 4 batch: 0 total train loader: 799 T_Loss: 0.481 | T_Acc: 0.800 | T_f1: 0.800 | T_recall: 0.800 || V_Loss: 0.429 | V_Acc: 0.835 V_f1: 0.830 | V_recall: 0.830\n",
      "epoch: 4 batch: 100 total train loader: 799 T_Loss: 0.407 | T_Acc: 0.810 | T_f1: 0.810 | T_recall: 0.810 || V_Loss: 0.428 | V_Acc: 0.836 V_f1: 0.860 | V_recall: 0.860\n",
      "epoch: 4 batch: 200 total train loader: 799 T_Loss: 0.403 | T_Acc: 0.780 | T_f1: 0.780 | T_recall: 0.780 || V_Loss: 0.431 | V_Acc: 0.835 V_f1: 0.820 | V_recall: 0.820\n",
      "epoch: 4 batch: 300 total train loader: 799 T_Loss: 0.403 | T_Acc: 0.810 | T_f1: 0.810 | T_recall: 0.810 || V_Loss: 0.430 | V_Acc: 0.834 V_f1: 0.780 | V_recall: 0.780\n",
      "epoch: 4 batch: 400 total train loader: 799 T_Loss: 0.403 | T_Acc: 0.860 | T_f1: 0.860 | T_recall: 0.860 || V_Loss: 0.430 | V_Acc: 0.834 V_f1: 0.830 | V_recall: 0.830\n",
      "epoch: 4 batch: 500 total train loader: 799 T_Loss: 0.405 | T_Acc: 0.900 | T_f1: 0.900 | T_recall: 0.900 || V_Loss: 0.430 | V_Acc: 0.834 V_f1: 0.820 | V_recall: 0.820\n",
      "epoch: 4 batch: 600 total train loader: 799 T_Loss: 0.404 | T_Acc: 0.810 | T_f1: 0.810 | T_recall: 0.810 || V_Loss: 0.429 | V_Acc: 0.834 V_f1: 0.860 | V_recall: 0.860\n",
      "epoch: 4 batch: 700 total train loader: 799 T_Loss: 0.405 | T_Acc: 0.840 | T_f1: 0.840 | T_recall: 0.840 || V_Loss: 0.430 | V_Acc: 0.833 V_f1: 0.860 | V_recall: 0.860\n",
      "epoch: 5 batch: 0 total train loader: 799 T_Loss: 0.372 | T_Acc: 0.840 | T_f1: 0.840 | T_recall: 0.840 || V_Loss: 0.438 | V_Acc: 0.831 V_f1: 0.750 | V_recall: 0.750\n",
      "epoch: 5 batch: 100 total train loader: 799 T_Loss: 0.385 | T_Acc: 0.840 | T_f1: 0.840 | T_recall: 0.840 || V_Loss: 0.431 | V_Acc: 0.832 V_f1: 0.780 | V_recall: 0.780\n",
      "epoch: 5 batch: 200 total train loader: 799 T_Loss: 0.393 | T_Acc: 0.880 | T_f1: 0.880 | T_recall: 0.880 || V_Loss: 0.430 | V_Acc: 0.833 V_f1: 0.790 | V_recall: 0.790\n",
      "epoch: 5 batch: 300 total train loader: 799 T_Loss: 0.390 | T_Acc: 0.850 | T_f1: 0.850 | T_recall: 0.850 || V_Loss: 0.428 | V_Acc: 0.833 V_f1: 0.800 | V_recall: 0.800\n",
      "epoch: 5 batch: 400 total train loader: 799 T_Loss: 0.391 | T_Acc: 0.870 | T_f1: 0.870 | T_recall: 0.870 || V_Loss: 0.429 | V_Acc: 0.834 V_f1: 0.810 | V_recall: 0.810\n",
      "epoch: 5 batch: 500 total train loader: 799 T_Loss: 0.392 | T_Acc: 0.860 | T_f1: 0.860 | T_recall: 0.860 || V_Loss: 0.428 | V_Acc: 0.834 V_f1: 0.870 | V_recall: 0.870\n",
      "epoch: 5 batch: 600 total train loader: 799 T_Loss: 0.391 | T_Acc: 0.850 | T_f1: 0.850 | T_recall: 0.850 || V_Loss: 0.427 | V_Acc: 0.835 V_f1: 0.870 | V_recall: 0.870\n",
      "epoch: 5 batch: 700 total train loader: 799 T_Loss: 0.392 | T_Acc: 0.770 | T_f1: 0.770 | T_recall: 0.770 || V_Loss: 0.430 | V_Acc: 0.834 V_f1: 0.890 | V_recall: 0.890\n",
      "epoch: 6 batch: 0 total train loader: 799 T_Loss: 0.384 | T_Acc: 0.850 | T_f1: 0.850 | T_recall: 0.850 || V_Loss: 0.436 | V_Acc: 0.831 V_f1: 0.920 | V_recall: 0.920\n",
      "epoch: 6 batch: 100 total train loader: 799 T_Loss: 0.378 | T_Acc: 0.910 | T_f1: 0.910 | T_recall: 0.910 || V_Loss: 0.427 | V_Acc: 0.835 V_f1: 0.750 | V_recall: 0.750\n"
     ]
    },
    {
     "name": "stdout",
     "output_type": "stream",
     "text": [
      "epoch: 6 batch: 200 total train loader: 799 T_Loss: 0.377 | T_Acc: 0.850 | T_f1: 0.850 | T_recall: 0.850 || V_Loss: 0.424 | V_Acc: 0.837 V_f1: 0.860 | V_recall: 0.860\n",
      "epoch: 6 batch: 300 total train loader: 799 T_Loss: 0.378 | T_Acc: 0.880 | T_f1: 0.880 | T_recall: 0.880 || V_Loss: 0.426 | V_Acc: 0.837 V_f1: 0.820 | V_recall: 0.820\n",
      "epoch: 6 batch: 400 total train loader: 799 T_Loss: 0.382 | T_Acc: 0.850 | T_f1: 0.850 | T_recall: 0.850 || V_Loss: 0.425 | V_Acc: 0.837 V_f1: 0.810 | V_recall: 0.810\n",
      "epoch: 6 batch: 500 total train loader: 799 T_Loss: 0.382 | T_Acc: 0.830 | T_f1: 0.830 | T_recall: 0.830 || V_Loss: 0.425 | V_Acc: 0.837 V_f1: 0.810 | V_recall: 0.810\n",
      "epoch: 6 batch: 600 total train loader: 799 T_Loss: 0.383 | T_Acc: 0.890 | T_f1: 0.890 | T_recall: 0.890 || V_Loss: 0.424 | V_Acc: 0.837 V_f1: 0.900 | V_recall: 0.900\n",
      "epoch: 6 batch: 700 total train loader: 799 T_Loss: 0.383 | T_Acc: 0.820 | T_f1: 0.820 | T_recall: 0.820 || V_Loss: 0.424 | V_Acc: 0.837 V_f1: 0.810 | V_recall: 0.810\n",
      "epoch: 7 batch: 0 total train loader: 799 T_Loss: 0.363 | T_Acc: 0.890 | T_f1: 0.890 | T_recall: 0.890 || V_Loss: 0.425 | V_Acc: 0.835 V_f1: 0.790 | V_recall: 0.790\n",
      "epoch: 7 batch: 100 total train loader: 799 T_Loss: 0.386 | T_Acc: 0.780 | T_f1: 0.780 | T_recall: 0.780 || V_Loss: 0.423 | V_Acc: 0.834 V_f1: 0.750 | V_recall: 0.750\n",
      "epoch: 7 batch: 200 total train loader: 799 T_Loss: 0.374 | T_Acc: 0.830 | T_f1: 0.830 | T_recall: 0.830 || V_Loss: 0.423 | V_Acc: 0.834 V_f1: 0.760 | V_recall: 0.760\n",
      "epoch: 7 batch: 300 total train loader: 799 T_Loss: 0.375 | T_Acc: 0.800 | T_f1: 0.800 | T_recall: 0.800 || V_Loss: 0.422 | V_Acc: 0.834 V_f1: 0.890 | V_recall: 0.890\n",
      "epoch: 7 batch: 400 total train loader: 799 T_Loss: 0.378 | T_Acc: 0.880 | T_f1: 0.880 | T_recall: 0.880 || V_Loss: 0.421 | V_Acc: 0.835 V_f1: 0.820 | V_recall: 0.820\n",
      "epoch: 7 batch: 500 total train loader: 799 T_Loss: 0.376 | T_Acc: 0.870 | T_f1: 0.870 | T_recall: 0.870 || V_Loss: 0.423 | V_Acc: 0.835 V_f1: 0.770 | V_recall: 0.770\n",
      "epoch: 7 batch: 600 total train loader: 799 T_Loss: 0.376 | T_Acc: 0.840 | T_f1: 0.840 | T_recall: 0.840 || V_Loss: 0.423 | V_Acc: 0.835 V_f1: 0.790 | V_recall: 0.790\n",
      "epoch: 7 batch: 700 total train loader: 799 T_Loss: 0.378 | T_Acc: 0.800 | T_f1: 0.800 | T_recall: 0.800 || V_Loss: 0.422 | V_Acc: 0.835 V_f1: 0.780 | V_recall: 0.780\n",
      "epoch: 8 batch: 0 total train loader: 799 T_Loss: 0.395 | T_Acc: 0.840 | T_f1: 0.840 | T_recall: 0.840 || V_Loss: 0.468 | V_Acc: 0.827 V_f1: 0.880 | V_recall: 0.880\n",
      "epoch: 8 batch: 100 total train loader: 799 T_Loss: 0.386 | T_Acc: 0.900 | T_f1: 0.900 | T_recall: 0.900 || V_Loss: 0.450 | V_Acc: 0.828 V_f1: 0.810 | V_recall: 0.810\n",
      "epoch: 8 batch: 200 total train loader: 799 T_Loss: 0.377 | T_Acc: 0.860 | T_f1: 0.860 | T_recall: 0.860 || V_Loss: 0.443 | V_Acc: 0.832 V_f1: 0.900 | V_recall: 0.900\n",
      "epoch: 8 batch: 300 total train loader: 799 T_Loss: 0.372 | T_Acc: 0.830 | T_f1: 0.830 | T_recall: 0.830 || V_Loss: 0.444 | V_Acc: 0.833 V_f1: 0.850 | V_recall: 0.850\n",
      "epoch: 8 batch: 400 total train loader: 799 T_Loss: 0.373 | T_Acc: 0.810 | T_f1: 0.810 | T_recall: 0.810 || V_Loss: 0.442 | V_Acc: 0.833 V_f1: 0.890 | V_recall: 0.890\n",
      "epoch: 8 batch: 500 total train loader: 799 T_Loss: 0.375 | T_Acc: 0.800 | T_f1: 0.800 | T_recall: 0.800 || V_Loss: 0.441 | V_Acc: 0.831 V_f1: 0.860 | V_recall: 0.860\n",
      "epoch: 8 batch: 600 total train loader: 799 T_Loss: 0.374 | T_Acc: 0.800 | T_f1: 0.800 | T_recall: 0.800 || V_Loss: 0.439 | V_Acc: 0.832 V_f1: 0.740 | V_recall: 0.740\n",
      "epoch: 8 batch: 700 total train loader: 799 T_Loss: 0.375 | T_Acc: 0.850 | T_f1: 0.850 | T_recall: 0.850 || V_Loss: 0.438 | V_Acc: 0.832 V_f1: 0.850 | V_recall: 0.850\n",
      "epoch: 9 batch: 0 total train loader: 799 T_Loss: 0.431 | T_Acc: 0.820 | T_f1: 0.820 | T_recall: 0.820 || V_Loss: 0.468 | V_Acc: 0.823 V_f1: 0.840 | V_recall: 0.840\n",
      "epoch: 9 batch: 100 total train loader: 799 T_Loss: 0.373 | T_Acc: 0.910 | T_f1: 0.910 | T_recall: 0.910 || V_Loss: 0.453 | V_Acc: 0.826 V_f1: 0.800 | V_recall: 0.800\n",
      "epoch: 9 batch: 200 total train loader: 799 T_Loss: 0.366 | T_Acc: 0.820 | T_f1: 0.820 | T_recall: 0.820 || V_Loss: 0.447 | V_Acc: 0.828 V_f1: 0.780 | V_recall: 0.780\n",
      "epoch: 9 batch: 300 total train loader: 799 T_Loss: 0.369 | T_Acc: 0.850 | T_f1: 0.850 | T_recall: 0.850 || V_Loss: 0.442 | V_Acc: 0.830 V_f1: 0.790 | V_recall: 0.790\n",
      "epoch: 9 batch: 400 total train loader: 799 T_Loss: 0.370 | T_Acc: 0.790 | T_f1: 0.790 | T_recall: 0.790 || V_Loss: 0.438 | V_Acc: 0.832 V_f1: 0.800 | V_recall: 0.800\n",
      "epoch: 9 batch: 500 total train loader: 799 T_Loss: 0.373 | T_Acc: 0.790 | T_f1: 0.790 | T_recall: 0.790 || V_Loss: 0.436 | V_Acc: 0.833 V_f1: 0.860 | V_recall: 0.860\n",
      "epoch: 9 batch: 600 total train loader: 799 T_Loss: 0.372 | T_Acc: 0.810 | T_f1: 0.810 | T_recall: 0.810 || V_Loss: 0.435 | V_Acc: 0.833 V_f1: 0.850 | V_recall: 0.850\n",
      "epoch: 9 batch: 700 total train loader: 799 T_Loss: 0.373 | T_Acc: 0.880 | T_f1: 0.880 | T_recall: 0.880 || V_Loss: 0.433 | V_Acc: 0.833 V_f1: 0.810 | V_recall: 0.810\n",
      "epoch: 10 batch: 0 total train loader: 799 T_Loss: 0.363 | T_Acc: 0.840 | T_f1: 0.840 | T_recall: 0.840 || V_Loss: 0.425 | V_Acc: 0.837 V_f1: 0.830 | V_recall: 0.830\n",
      "epoch: 10 batch: 100 total train loader: 799 T_Loss: 0.371 | T_Acc: 0.880 | T_f1: 0.880 | T_recall: 0.880 || V_Loss: 0.423 | V_Acc: 0.837 V_f1: 0.870 | V_recall: 0.870\n",
      "epoch: 10 batch: 200 total train loader: 799 T_Loss: 0.370 | T_Acc: 0.880 | T_f1: 0.880 | T_recall: 0.880 || V_Loss: 0.423 | V_Acc: 0.837 V_f1: 0.860 | V_recall: 0.860\n",
      "epoch: 10 batch: 300 total train loader: 799 T_Loss: 0.365 | T_Acc: 0.850 | T_f1: 0.850 | T_recall: 0.850 || V_Loss: 0.424 | V_Acc: 0.838 V_f1: 0.800 | V_recall: 0.800\n",
      "epoch: 10 batch: 400 total train loader: 799 T_Loss: 0.364 | T_Acc: 0.840 | T_f1: 0.840 | T_recall: 0.840 || V_Loss: 0.425 | V_Acc: 0.837 V_f1: 0.870 | V_recall: 0.870\n",
      "epoch: 10 batch: 500 total train loader: 799 T_Loss: 0.363 | T_Acc: 0.890 | T_f1: 0.890 | T_recall: 0.890 || V_Loss: 0.426 | V_Acc: 0.836 V_f1: 0.830 | V_recall: 0.830\n",
      "epoch: 10 batch: 600 total train loader: 799 T_Loss: 0.365 | T_Acc: 0.850 | T_f1: 0.850 | T_recall: 0.850 || V_Loss: 0.426 | V_Acc: 0.837 V_f1: 0.850 | V_recall: 0.850\n",
      "epoch: 10 batch: 700 total train loader: 799 T_Loss: 0.365 | T_Acc: 0.820 | T_f1: 0.820 | T_recall: 0.820 || V_Loss: 0.427 | V_Acc: 0.836 V_f1: 0.860 | V_recall: 0.860\n",
      "epoch: 11 batch: 0 total train loader: 799 T_Loss: 0.471 | T_Acc: 0.780 | T_f1: 0.780 | T_recall: 0.780 || V_Loss: 0.428 | V_Acc: 0.836 V_f1: 0.870 | V_recall: 0.870\n",
      "epoch: 11 batch: 100 total train loader: 799 T_Loss: 0.372 | T_Acc: 0.870 | T_f1: 0.870 | T_recall: 0.870 || V_Loss: 0.430 | V_Acc: 0.834 V_f1: 0.810 | V_recall: 0.810\n",
      "epoch: 11 batch: 200 total train loader: 799 T_Loss: 0.369 | T_Acc: 0.910 | T_f1: 0.910 | T_recall: 0.910 || V_Loss: 0.434 | V_Acc: 0.832 V_f1: 0.850 | V_recall: 0.850\n",
      "epoch: 11 batch: 300 total train loader: 799 T_Loss: 0.370 | T_Acc: 0.810 | T_f1: 0.810 | T_recall: 0.810 || V_Loss: 0.434 | V_Acc: 0.831 V_f1: 0.810 | V_recall: 0.810\n",
      "epoch: 11 batch: 400 total train loader: 799 T_Loss: 0.368 | T_Acc: 0.840 | T_f1: 0.840 | T_recall: 0.840 || V_Loss: 0.433 | V_Acc: 0.832 V_f1: 0.820 | V_recall: 0.820\n",
      "epoch: 11 batch: 500 total train loader: 799 T_Loss: 0.369 | T_Acc: 0.890 | T_f1: 0.890 | T_recall: 0.890 || V_Loss: 0.432 | V_Acc: 0.834 V_f1: 0.860 | V_recall: 0.860\n",
      "epoch: 11 batch: 600 total train loader: 799 T_Loss: 0.369 | T_Acc: 0.930 | T_f1: 0.930 | T_recall: 0.930 || V_Loss: 0.432 | V_Acc: 0.833 V_f1: 0.820 | V_recall: 0.820\n",
      "epoch: 11 batch: 700 total train loader: 799 T_Loss: 0.368 | T_Acc: 0.790 | T_f1: 0.790 | T_recall: 0.790 || V_Loss: 0.430 | V_Acc: 0.834 V_f1: 0.830 | V_recall: 0.830\n",
      "epoch: 12 batch: 0 total train loader: 799 T_Loss: 0.396 | T_Acc: 0.860 | T_f1: 0.860 | T_recall: 0.860 || V_Loss: 0.527 | V_Acc: 0.793 V_f1: 0.740 | V_recall: 0.740\n",
      "epoch: 12 batch: 100 total train loader: 799 T_Loss: 0.357 | T_Acc: 0.840 | T_f1: 0.840 | T_recall: 0.840 || V_Loss: 0.480 | V_Acc: 0.810 V_f1: 0.850 | V_recall: 0.850\n",
      "epoch: 12 batch: 200 total train loader: 799 T_Loss: 0.360 | T_Acc: 0.840 | T_f1: 0.840 | T_recall: 0.840 || V_Loss: 0.467 | V_Acc: 0.817 V_f1: 0.850 | V_recall: 0.850\n",
      "epoch: 12 batch: 300 total train loader: 799 T_Loss: 0.361 | T_Acc: 0.810 | T_f1: 0.810 | T_recall: 0.810 || V_Loss: 0.457 | V_Acc: 0.821 V_f1: 0.810 | V_recall: 0.810\n"
     ]
    },
    {
     "name": "stdout",
     "output_type": "stream",
     "text": [
      "epoch: 12 batch: 400 total train loader: 799 T_Loss: 0.362 | T_Acc: 0.820 | T_f1: 0.820 | T_recall: 0.820 || V_Loss: 0.453 | V_Acc: 0.823 V_f1: 0.740 | V_recall: 0.740\n",
      "epoch: 12 batch: 500 total train loader: 799 T_Loss: 0.364 | T_Acc: 0.820 | T_f1: 0.820 | T_recall: 0.820 || V_Loss: 0.449 | V_Acc: 0.826 V_f1: 0.860 | V_recall: 0.860\n",
      "epoch: 12 batch: 600 total train loader: 799 T_Loss: 0.365 | T_Acc: 0.870 | T_f1: 0.870 | T_recall: 0.870 || V_Loss: 0.450 | V_Acc: 0.826 V_f1: 0.790 | V_recall: 0.790\n",
      "epoch: 12 batch: 700 total train loader: 799 T_Loss: 0.367 | T_Acc: 0.870 | T_f1: 0.870 | T_recall: 0.870 || V_Loss: 0.448 | V_Acc: 0.827 V_f1: 0.870 | V_recall: 0.870\n",
      "epoch: 13 batch: 0 total train loader: 799 T_Loss: 0.345 | T_Acc: 0.860 | T_f1: 0.860 | T_recall: 0.860 || V_Loss: 0.472 | V_Acc: 0.811 V_f1: 0.780 | V_recall: 0.780\n",
      "epoch: 13 batch: 100 total train loader: 799 T_Loss: 0.373 | T_Acc: 0.860 | T_f1: 0.860 | T_recall: 0.860 || V_Loss: 0.451 | V_Acc: 0.821 V_f1: 0.890 | V_recall: 0.890\n",
      "epoch: 13 batch: 200 total train loader: 799 T_Loss: 0.369 | T_Acc: 0.780 | T_f1: 0.780 | T_recall: 0.780 || V_Loss: 0.445 | V_Acc: 0.827 V_f1: 0.810 | V_recall: 0.810\n",
      "epoch: 13 batch: 300 total train loader: 799 T_Loss: 0.370 | T_Acc: 0.780 | T_f1: 0.780 | T_recall: 0.780 || V_Loss: 0.444 | V_Acc: 0.828 V_f1: 0.830 | V_recall: 0.830\n",
      "epoch: 13 batch: 400 total train loader: 799 T_Loss: 0.365 | T_Acc: 0.840 | T_f1: 0.840 | T_recall: 0.840 || V_Loss: 0.450 | V_Acc: 0.829 V_f1: 0.840 | V_recall: 0.840\n",
      "epoch: 13 batch: 500 total train loader: 799 T_Loss: 0.369 | T_Acc: 0.810 | T_f1: 0.810 | T_recall: 0.810 || V_Loss: 0.446 | V_Acc: 0.830 V_f1: 0.840 | V_recall: 0.840\n",
      "epoch: 13 batch: 600 total train loader: 799 T_Loss: 0.373 | T_Acc: 0.820 | T_f1: 0.820 | T_recall: 0.820 || V_Loss: 0.444 | V_Acc: 0.830 V_f1: 0.760 | V_recall: 0.760\n",
      "epoch: 13 batch: 700 total train loader: 799 T_Loss: 0.373 | T_Acc: 0.750 | T_f1: 0.750 | T_recall: 0.750 || V_Loss: 0.441 | V_Acc: 0.831 V_f1: 0.870 | V_recall: 0.870\n",
      "epoch: 14 batch: 0 total train loader: 799 T_Loss: 0.366 | T_Acc: 0.820 | T_f1: 0.820 | T_recall: 0.820 || V_Loss: 0.548 | V_Acc: 0.805 V_f1: 0.700 | V_recall: 0.700\n",
      "epoch: 14 batch: 100 total train loader: 799 T_Loss: 0.366 | T_Acc: 0.820 | T_f1: 0.820 | T_recall: 0.820 || V_Loss: 0.495 | V_Acc: 0.820 V_f1: 0.890 | V_recall: 0.890\n",
      "epoch: 14 batch: 200 total train loader: 799 T_Loss: 0.371 | T_Acc: 0.840 | T_f1: 0.840 | T_recall: 0.840 || V_Loss: 0.475 | V_Acc: 0.824 V_f1: 0.850 | V_recall: 0.850\n",
      "epoch: 14 batch: 300 total train loader: 799 T_Loss: 0.373 | T_Acc: 0.820 | T_f1: 0.820 | T_recall: 0.820 || V_Loss: 0.466 | V_Acc: 0.826 V_f1: 0.890 | V_recall: 0.890\n",
      "epoch: 14 batch: 400 total train loader: 799 T_Loss: 0.373 | T_Acc: 0.890 | T_f1: 0.890 | T_recall: 0.890 || V_Loss: 0.463 | V_Acc: 0.826 V_f1: 0.780 | V_recall: 0.780\n",
      "epoch: 14 batch: 500 total train loader: 799 T_Loss: 0.374 | T_Acc: 0.840 | T_f1: 0.840 | T_recall: 0.840 || V_Loss: 0.458 | V_Acc: 0.828 V_f1: 0.910 | V_recall: 0.910\n",
      "epoch: 14 batch: 600 total train loader: 799 T_Loss: 0.375 | T_Acc: 0.820 | T_f1: 0.820 | T_recall: 0.820 || V_Loss: 0.455 | V_Acc: 0.828 V_f1: 0.840 | V_recall: 0.840\n",
      "epoch: 14 batch: 700 total train loader: 799 T_Loss: 0.376 | T_Acc: 0.860 | T_f1: 0.860 | T_recall: 0.860 || V_Loss: 0.451 | V_Acc: 0.829 V_f1: 0.830 | V_recall: 0.830\n"
     ]
    }
   ],
   "source": [
    "epochs = 15\n",
    "att_bilstm_train_result = pd.DataFrame()\n",
    "att_bilstm_valid_result = pd.DataFrame()\n",
    "for epoch in range(epochs):\n",
    "    train_result, valid_result = train(epoch, model_att_bilstm)\n",
    "    att_bilstm_train_result = att_bilstm_train_result.append(train_result, ignore_index=True)\n",
    "    att_bilstm_valid_result = att_bilstm_valid_result.append(train_result, ignore_index=True)"
   ]
  },
  {
   "cell_type": "code",
   "execution_count": 23,
   "metadata": {},
   "outputs": [
    {
     "data": {
      "text/html": [
       "<div>\n",
       "<style scoped>\n",
       "    .dataframe tbody tr th:only-of-type {\n",
       "        vertical-align: middle;\n",
       "    }\n",
       "\n",
       "    .dataframe tbody tr th {\n",
       "        vertical-align: top;\n",
       "    }\n",
       "\n",
       "    .dataframe thead th {\n",
       "        text-align: right;\n",
       "    }\n",
       "</style>\n",
       "<table border=\"1\" class=\"dataframe\">\n",
       "  <thead>\n",
       "    <tr style=\"text-align: right;\">\n",
       "      <th></th>\n",
       "      <th>epoch</th>\n",
       "      <th>batch</th>\n",
       "      <th>loss</th>\n",
       "      <th>acc</th>\n",
       "      <th>f1</th>\n",
       "      <th>recall</th>\n",
       "    </tr>\n",
       "  </thead>\n",
       "  <tbody>\n",
       "    <tr>\n",
       "      <th>0</th>\n",
       "      <td>0</td>\n",
       "      <td>0</td>\n",
       "      <td>1.077081</td>\n",
       "      <td>0.61</td>\n",
       "      <td>0.61</td>\n",
       "      <td>0.61</td>\n",
       "    </tr>\n",
       "    <tr>\n",
       "      <th>1</th>\n",
       "      <td>0</td>\n",
       "      <td>1</td>\n",
       "      <td>1.070047</td>\n",
       "      <td>0.66</td>\n",
       "      <td>0.66</td>\n",
       "      <td>0.66</td>\n",
       "    </tr>\n",
       "    <tr>\n",
       "      <th>2</th>\n",
       "      <td>0</td>\n",
       "      <td>2</td>\n",
       "      <td>1.068034</td>\n",
       "      <td>0.61</td>\n",
       "      <td>0.61</td>\n",
       "      <td>0.61</td>\n",
       "    </tr>\n",
       "    <tr>\n",
       "      <th>3</th>\n",
       "      <td>0</td>\n",
       "      <td>3</td>\n",
       "      <td>1.063703</td>\n",
       "      <td>0.63</td>\n",
       "      <td>0.63</td>\n",
       "      <td>0.63</td>\n",
       "    </tr>\n",
       "    <tr>\n",
       "      <th>4</th>\n",
       "      <td>0</td>\n",
       "      <td>4</td>\n",
       "      <td>1.061141</td>\n",
       "      <td>0.65</td>\n",
       "      <td>0.65</td>\n",
       "      <td>0.65</td>\n",
       "    </tr>\n",
       "    <tr>\n",
       "      <th>...</th>\n",
       "      <td>...</td>\n",
       "      <td>...</td>\n",
       "      <td>...</td>\n",
       "      <td>...</td>\n",
       "      <td>...</td>\n",
       "      <td>...</td>\n",
       "    </tr>\n",
       "    <tr>\n",
       "      <th>11980</th>\n",
       "      <td>14</td>\n",
       "      <td>794</td>\n",
       "      <td>0.377253</td>\n",
       "      <td>0.83</td>\n",
       "      <td>0.83</td>\n",
       "      <td>0.83</td>\n",
       "    </tr>\n",
       "    <tr>\n",
       "      <th>11981</th>\n",
       "      <td>14</td>\n",
       "      <td>795</td>\n",
       "      <td>0.377299</td>\n",
       "      <td>0.80</td>\n",
       "      <td>0.80</td>\n",
       "      <td>0.80</td>\n",
       "    </tr>\n",
       "    <tr>\n",
       "      <th>11982</th>\n",
       "      <td>14</td>\n",
       "      <td>796</td>\n",
       "      <td>0.377405</td>\n",
       "      <td>0.80</td>\n",
       "      <td>0.80</td>\n",
       "      <td>0.80</td>\n",
       "    </tr>\n",
       "    <tr>\n",
       "      <th>11983</th>\n",
       "      <td>14</td>\n",
       "      <td>797</td>\n",
       "      <td>0.377343</td>\n",
       "      <td>0.88</td>\n",
       "      <td>0.88</td>\n",
       "      <td>0.88</td>\n",
       "    </tr>\n",
       "    <tr>\n",
       "      <th>11984</th>\n",
       "      <td>14</td>\n",
       "      <td>798</td>\n",
       "      <td>0.377267</td>\n",
       "      <td>0.91</td>\n",
       "      <td>0.91</td>\n",
       "      <td>0.91</td>\n",
       "    </tr>\n",
       "  </tbody>\n",
       "</table>\n",
       "<p>11985 rows × 6 columns</p>\n",
       "</div>"
      ],
      "text/plain": [
       "       epoch  batch      loss   acc    f1  recall\n",
       "0          0      0  1.077081  0.61  0.61    0.61\n",
       "1          0      1  1.070047  0.66  0.66    0.66\n",
       "2          0      2  1.068034  0.61  0.61    0.61\n",
       "3          0      3  1.063703  0.63  0.63    0.63\n",
       "4          0      4  1.061141  0.65  0.65    0.65\n",
       "...      ...    ...       ...   ...   ...     ...\n",
       "11980     14    794  0.377253  0.83  0.83    0.83\n",
       "11981     14    795  0.377299  0.80  0.80    0.80\n",
       "11982     14    796  0.377405  0.80  0.80    0.80\n",
       "11983     14    797  0.377343  0.88  0.88    0.88\n",
       "11984     14    798  0.377267  0.91  0.91    0.91\n",
       "\n",
       "[11985 rows x 6 columns]"
      ]
     },
     "execution_count": 23,
     "metadata": {},
     "output_type": "execute_result"
    }
   ],
   "source": [
    "att_bilstm_train_result"
   ]
  },
  {
   "cell_type": "code",
   "execution_count": 75,
   "metadata": {},
   "outputs": [],
   "source": [
    "att_bilstm_train_result['roll_730_acc'] = att_bilstm_train_result['acc'].rolling(730).mean()\n",
    "att_bilstm_valid_result['roll_730_acc'] = att_bilstm_valid_result['acc'].rolling(730).mean()\n",
    "att_bilstm_train_result['roll_730_loss'] = att_bilstm_train_result['loss'].rolling(730).mean()\n",
    "att_bilstm_valid_result['roll_730_loss'] = att_bilstm_valid_result['loss'].rolling(730).mean()"
   ]
  },
  {
   "cell_type": "code",
   "execution_count": 76,
   "metadata": {},
   "outputs": [],
   "source": [
    "att_bilstm_train_result.to_csv('../result/Attention-Based-Bi-LSTM/att_bilstm_train_result.csv')\n",
    "att_bilstm_valid_result.to_csv('../result/Attention-Based-Bi-LSTM/att_bilstm_valid_result.csv')"
   ]
  },
  {
   "cell_type": "code",
   "execution_count": 77,
   "metadata": {},
   "outputs": [
    {
     "data": {
      "text/html": [
       "<div>\n",
       "<style scoped>\n",
       "    .dataframe tbody tr th:only-of-type {\n",
       "        vertical-align: middle;\n",
       "    }\n",
       "\n",
       "    .dataframe tbody tr th {\n",
       "        vertical-align: top;\n",
       "    }\n",
       "\n",
       "    .dataframe thead th {\n",
       "        text-align: right;\n",
       "    }\n",
       "</style>\n",
       "<table border=\"1\" class=\"dataframe\">\n",
       "  <thead>\n",
       "    <tr style=\"text-align: right;\">\n",
       "      <th></th>\n",
       "      <th>epoch</th>\n",
       "      <th>batch</th>\n",
       "      <th>loss</th>\n",
       "      <th>acc</th>\n",
       "      <th>f1</th>\n",
       "      <th>recall</th>\n",
       "      <th>roll_40_acc</th>\n",
       "      <th>roll_730_acc</th>\n",
       "      <th>roll_730_loss</th>\n",
       "    </tr>\n",
       "  </thead>\n",
       "  <tbody>\n",
       "    <tr>\n",
       "      <th>0</th>\n",
       "      <td>0</td>\n",
       "      <td>0</td>\n",
       "      <td>1.077081</td>\n",
       "      <td>0.61</td>\n",
       "      <td>0.61</td>\n",
       "      <td>0.61</td>\n",
       "      <td>NaN</td>\n",
       "      <td>NaN</td>\n",
       "      <td>NaN</td>\n",
       "    </tr>\n",
       "    <tr>\n",
       "      <th>1</th>\n",
       "      <td>0</td>\n",
       "      <td>1</td>\n",
       "      <td>1.070047</td>\n",
       "      <td>0.66</td>\n",
       "      <td>0.66</td>\n",
       "      <td>0.66</td>\n",
       "      <td>NaN</td>\n",
       "      <td>NaN</td>\n",
       "      <td>NaN</td>\n",
       "    </tr>\n",
       "    <tr>\n",
       "      <th>2</th>\n",
       "      <td>0</td>\n",
       "      <td>2</td>\n",
       "      <td>1.068034</td>\n",
       "      <td>0.61</td>\n",
       "      <td>0.61</td>\n",
       "      <td>0.61</td>\n",
       "      <td>NaN</td>\n",
       "      <td>NaN</td>\n",
       "      <td>NaN</td>\n",
       "    </tr>\n",
       "    <tr>\n",
       "      <th>3</th>\n",
       "      <td>0</td>\n",
       "      <td>3</td>\n",
       "      <td>1.063703</td>\n",
       "      <td>0.63</td>\n",
       "      <td>0.63</td>\n",
       "      <td>0.63</td>\n",
       "      <td>NaN</td>\n",
       "      <td>NaN</td>\n",
       "      <td>NaN</td>\n",
       "    </tr>\n",
       "    <tr>\n",
       "      <th>4</th>\n",
       "      <td>0</td>\n",
       "      <td>4</td>\n",
       "      <td>1.061141</td>\n",
       "      <td>0.65</td>\n",
       "      <td>0.65</td>\n",
       "      <td>0.65</td>\n",
       "      <td>NaN</td>\n",
       "      <td>NaN</td>\n",
       "      <td>NaN</td>\n",
       "    </tr>\n",
       "  </tbody>\n",
       "</table>\n",
       "</div>"
      ],
      "text/plain": [
       "   epoch  batch      loss   acc    f1  recall  roll_40_acc  roll_730_acc  roll_730_loss\n",
       "0      0      0  1.077081  0.61  0.61    0.61          NaN           NaN            NaN\n",
       "1      0      1  1.070047  0.66  0.66    0.66          NaN           NaN            NaN\n",
       "2      0      2  1.068034  0.61  0.61    0.61          NaN           NaN            NaN\n",
       "3      0      3  1.063703  0.63  0.63    0.63          NaN           NaN            NaN\n",
       "4      0      4  1.061141  0.65  0.65    0.65          NaN           NaN            NaN"
      ]
     },
     "execution_count": 77,
     "metadata": {},
     "output_type": "execute_result"
    }
   ],
   "source": [
    "att_bilstm_valid_result.head()"
   ]
  },
  {
   "cell_type": "code",
   "execution_count": 87,
   "metadata": {},
   "outputs": [
    {
     "data": {
      "text/plain": [
       "epoch             14.000000\n",
       "batch            798.000000\n",
       "loss               0.377267\n",
       "acc                0.910000\n",
       "f1                 0.910000\n",
       "recall             0.910000\n",
       "roll_40_acc        0.849250\n",
       "roll_730_acc       0.851288\n",
       "roll_730_loss      0.373263\n",
       "Name: 11984, dtype: float64"
      ]
     },
     "execution_count": 87,
     "metadata": {},
     "output_type": "execute_result"
    }
   ],
   "source": [
    "att_bilstm_valid_result.iloc[-1]"
   ]
  },
  {
   "cell_type": "markdown",
   "metadata": {},
   "source": [
    "# Step13: Test the model"
   ]
  },
  {
   "cell_type": "code",
   "execution_count": 78,
   "metadata": {},
   "outputs": [],
   "source": [
    "def test(epoch, model):\n",
    "    lr = 0.001  # learning rate\n",
    "    model.train()\n",
    "    optimizer = torch.optim.Adam(model.parameters(), lr=lr)\n",
    "    total_batch = 0\n",
    "    train_loss = 0\n",
    "    result_dict = {}\n",
    "    epoch_list = []\n",
    "    batch_list = []\n",
    "    loss_list = []\n",
    "    acc_list = []\n",
    "    recall_list = []\n",
    "    f1_list = []\n",
    "    \n",
    "    for batch_idx, (trains, labels) in enumerate(test_loader):\n",
    "\n",
    "        outputs = model(trains.long())\n",
    "        test_loss = F.cross_entropy(outputs, labels.long())\n",
    "\n",
    "        \n",
    "        true = labels.data.cpu()\n",
    "        predic = torch.max(outputs.data, 1)[1].cpu()\n",
    "        test_acc = metrics.accuracy_score(true, predic)\n",
    "        test_f1 = metrics.f1_score(true, predic, average='micro')\n",
    "        test_recall = metrics.recall_score(true, predic, average='micro')\n",
    "        \n",
    "        \n",
    "        epoch_list.append(epoch)\n",
    "        batch_list.append(batch_idx)\n",
    "        loss_list.append(test_loss.item())\n",
    "        acc_list.append(test_acc)\n",
    "        recall_list.append(test_recall)\n",
    "        f1_list.append(test_f1)\n",
    "            \n",
    "        if total_batch % 50 == 0:\n",
    "            print('epoch: {}'.format(epoch), 'batch: {}'.format(batch_idx), \n",
    "                  'total train loader: {}'.format(len(test_loader)),\n",
    "                  'Loss: %.3f | Acc: %.3f |' % (test_loss, test_acc),\n",
    "                  'F1: %.3f | Recall: %.3f ' % (test_f1, test_recall))\n",
    "        \n",
    "#         total_batch += 1\n",
    "        \n",
    "    result_dict['epoch'] = epoch_list\n",
    "    result_dict['batch'] = batch_list\n",
    "    result_dict['loss'] = loss_list\n",
    "    result_dict['acc'] = acc_list\n",
    "    result_dict['f1'] = f1_list\n",
    "    result_dict['recall'] = recall_list\n",
    "    \n",
    "    return pd.DataFrame(result_dict)"
   ]
  },
  {
   "cell_type": "code",
   "execution_count": null,
   "metadata": {},
   "outputs": [],
   "source": []
  },
  {
   "cell_type": "code",
   "execution_count": 79,
   "metadata": {
    "scrolled": true
   },
   "outputs": [
    {
     "name": "stdout",
     "output_type": "stream",
     "text": [
      "epoch: 0 batch: 0 total train loader: 100 Loss: 0.475 | Acc: 0.800 | F1: 0.800 | Recall: 0.800 \n",
      "epoch: 0 batch: 1 total train loader: 100 Loss: 0.472 | Acc: 0.810 | F1: 0.810 | Recall: 0.810 \n",
      "epoch: 0 batch: 2 total train loader: 100 Loss: 0.551 | Acc: 0.840 | F1: 0.840 | Recall: 0.840 \n",
      "epoch: 0 batch: 3 total train loader: 100 Loss: 0.513 | Acc: 0.800 | F1: 0.800 | Recall: 0.800 \n",
      "epoch: 0 batch: 4 total train loader: 100 Loss: 0.497 | Acc: 0.750 | F1: 0.750 | Recall: 0.750 \n",
      "epoch: 0 batch: 5 total train loader: 100 Loss: 0.334 | Acc: 0.910 | F1: 0.910 | Recall: 0.910 \n",
      "epoch: 0 batch: 6 total train loader: 100 Loss: 0.588 | Acc: 0.830 | F1: 0.830 | Recall: 0.830 \n",
      "epoch: 0 batch: 7 total train loader: 100 Loss: 0.584 | Acc: 0.760 | F1: 0.760 | Recall: 0.760 \n",
      "epoch: 0 batch: 8 total train loader: 100 Loss: 0.363 | Acc: 0.890 | F1: 0.890 | Recall: 0.890 \n",
      "epoch: 0 batch: 9 total train loader: 100 Loss: 0.332 | Acc: 0.890 | F1: 0.890 | Recall: 0.890 \n",
      "epoch: 0 batch: 10 total train loader: 100 Loss: 0.383 | Acc: 0.870 | F1: 0.870 | Recall: 0.870 \n",
      "epoch: 0 batch: 11 total train loader: 100 Loss: 0.470 | Acc: 0.800 | F1: 0.800 | Recall: 0.800 \n",
      "epoch: 0 batch: 12 total train loader: 100 Loss: 0.427 | Acc: 0.850 | F1: 0.850 | Recall: 0.850 \n",
      "epoch: 0 batch: 13 total train loader: 100 Loss: 0.406 | Acc: 0.850 | F1: 0.850 | Recall: 0.850 \n",
      "epoch: 0 batch: 14 total train loader: 100 Loss: 0.474 | Acc: 0.850 | F1: 0.850 | Recall: 0.850 \n",
      "epoch: 0 batch: 15 total train loader: 100 Loss: 0.432 | Acc: 0.840 | F1: 0.840 | Recall: 0.840 \n",
      "epoch: 0 batch: 16 total train loader: 100 Loss: 0.370 | Acc: 0.870 | F1: 0.870 | Recall: 0.870 \n",
      "epoch: 0 batch: 17 total train loader: 100 Loss: 0.392 | Acc: 0.860 | F1: 0.860 | Recall: 0.860 \n",
      "epoch: 0 batch: 18 total train loader: 100 Loss: 0.398 | Acc: 0.870 | F1: 0.870 | Recall: 0.870 \n",
      "epoch: 0 batch: 19 total train loader: 100 Loss: 0.473 | Acc: 0.800 | F1: 0.800 | Recall: 0.800 \n",
      "epoch: 0 batch: 20 total train loader: 100 Loss: 0.443 | Acc: 0.820 | F1: 0.820 | Recall: 0.820 \n",
      "epoch: 0 batch: 21 total train loader: 100 Loss: 0.469 | Acc: 0.810 | F1: 0.810 | Recall: 0.810 \n",
      "epoch: 0 batch: 22 total train loader: 100 Loss: 0.428 | Acc: 0.830 | F1: 0.830 | Recall: 0.830 \n",
      "epoch: 0 batch: 23 total train loader: 100 Loss: 0.403 | Acc: 0.860 | F1: 0.860 | Recall: 0.860 \n",
      "epoch: 0 batch: 24 total train loader: 100 Loss: 0.486 | Acc: 0.780 | F1: 0.780 | Recall: 0.780 \n",
      "epoch: 0 batch: 25 total train loader: 100 Loss: 0.520 | Acc: 0.850 | F1: 0.850 | Recall: 0.850 \n",
      "epoch: 0 batch: 26 total train loader: 100 Loss: 0.420 | Acc: 0.830 | F1: 0.830 | Recall: 0.830 \n",
      "epoch: 0 batch: 27 total train loader: 100 Loss: 0.346 | Acc: 0.860 | F1: 0.860 | Recall: 0.860 \n",
      "epoch: 0 batch: 28 total train loader: 100 Loss: 0.470 | Acc: 0.840 | F1: 0.840 | Recall: 0.840 \n",
      "epoch: 0 batch: 29 total train loader: 100 Loss: 0.467 | Acc: 0.810 | F1: 0.810 | Recall: 0.810 \n",
      "epoch: 0 batch: 30 total train loader: 100 Loss: 0.455 | Acc: 0.820 | F1: 0.820 | Recall: 0.820 \n",
      "epoch: 0 batch: 31 total train loader: 100 Loss: 0.414 | Acc: 0.850 | F1: 0.850 | Recall: 0.850 \n",
      "epoch: 0 batch: 32 total train loader: 100 Loss: 0.432 | Acc: 0.840 | F1: 0.840 | Recall: 0.840 \n",
      "epoch: 0 batch: 33 total train loader: 100 Loss: 0.492 | Acc: 0.780 | F1: 0.780 | Recall: 0.780 \n",
      "epoch: 0 batch: 34 total train loader: 100 Loss: 0.472 | Acc: 0.780 | F1: 0.780 | Recall: 0.780 \n",
      "epoch: 0 batch: 35 total train loader: 100 Loss: 0.407 | Acc: 0.830 | F1: 0.830 | Recall: 0.830 \n",
      "epoch: 0 batch: 36 total train loader: 100 Loss: 0.346 | Acc: 0.840 | F1: 0.840 | Recall: 0.840 \n",
      "epoch: 0 batch: 37 total train loader: 100 Loss: 0.468 | Acc: 0.830 | F1: 0.830 | Recall: 0.830 \n",
      "epoch: 0 batch: 38 total train loader: 100 Loss: 0.453 | Acc: 0.870 | F1: 0.870 | Recall: 0.870 \n",
      "epoch: 0 batch: 39 total train loader: 100 Loss: 0.568 | Acc: 0.740 | F1: 0.740 | Recall: 0.740 \n",
      "epoch: 0 batch: 40 total train loader: 100 Loss: 0.408 | Acc: 0.860 | F1: 0.860 | Recall: 0.860 \n",
      "epoch: 0 batch: 41 total train loader: 100 Loss: 0.472 | Acc: 0.800 | F1: 0.800 | Recall: 0.800 \n",
      "epoch: 0 batch: 42 total train loader: 100 Loss: 0.426 | Acc: 0.830 | F1: 0.830 | Recall: 0.830 \n",
      "epoch: 0 batch: 43 total train loader: 100 Loss: 0.460 | Acc: 0.860 | F1: 0.860 | Recall: 0.860 \n",
      "epoch: 0 batch: 44 total train loader: 100 Loss: 0.436 | Acc: 0.830 | F1: 0.830 | Recall: 0.830 \n",
      "epoch: 0 batch: 45 total train loader: 100 Loss: 0.452 | Acc: 0.840 | F1: 0.840 | Recall: 0.840 \n",
      "epoch: 0 batch: 46 total train loader: 100 Loss: 0.584 | Acc: 0.800 | F1: 0.800 | Recall: 0.800 \n",
      "epoch: 0 batch: 47 total train loader: 100 Loss: 0.597 | Acc: 0.750 | F1: 0.750 | Recall: 0.750 \n",
      "epoch: 0 batch: 48 total train loader: 100 Loss: 0.518 | Acc: 0.800 | F1: 0.800 | Recall: 0.800 \n",
      "epoch: 0 batch: 49 total train loader: 100 Loss: 0.464 | Acc: 0.830 | F1: 0.830 | Recall: 0.830 \n",
      "epoch: 0 batch: 50 total train loader: 100 Loss: 0.472 | Acc: 0.780 | F1: 0.780 | Recall: 0.780 \n",
      "epoch: 0 batch: 51 total train loader: 100 Loss: 0.666 | Acc: 0.700 | F1: 0.700 | Recall: 0.700 \n",
      "epoch: 0 batch: 52 total train loader: 100 Loss: 0.506 | Acc: 0.790 | F1: 0.790 | Recall: 0.790 \n",
      "epoch: 0 batch: 53 total train loader: 100 Loss: 0.366 | Acc: 0.860 | F1: 0.860 | Recall: 0.860 \n",
      "epoch: 0 batch: 54 total train loader: 100 Loss: 0.371 | Acc: 0.880 | F1: 0.880 | Recall: 0.880 \n",
      "epoch: 0 batch: 55 total train loader: 100 Loss: 0.523 | Acc: 0.800 | F1: 0.800 | Recall: 0.800 \n",
      "epoch: 0 batch: 56 total train loader: 100 Loss: 0.312 | Acc: 0.880 | F1: 0.880 | Recall: 0.880 \n",
      "epoch: 0 batch: 57 total train loader: 100 Loss: 0.430 | Acc: 0.860 | F1: 0.860 | Recall: 0.860 \n",
      "epoch: 0 batch: 58 total train loader: 100 Loss: 0.379 | Acc: 0.850 | F1: 0.850 | Recall: 0.850 \n",
      "epoch: 0 batch: 59 total train loader: 100 Loss: 0.469 | Acc: 0.810 | F1: 0.810 | Recall: 0.810 \n",
      "epoch: 0 batch: 60 total train loader: 100 Loss: 0.463 | Acc: 0.840 | F1: 0.840 | Recall: 0.840 \n",
      "epoch: 0 batch: 61 total train loader: 100 Loss: 0.504 | Acc: 0.800 | F1: 0.800 | Recall: 0.800 \n",
      "epoch: 0 batch: 62 total train loader: 100 Loss: 0.537 | Acc: 0.760 | F1: 0.760 | Recall: 0.760 \n",
      "epoch: 0 batch: 63 total train loader: 100 Loss: 0.436 | Acc: 0.820 | F1: 0.820 | Recall: 0.820 \n",
      "epoch: 0 batch: 64 total train loader: 100 Loss: 0.494 | Acc: 0.820 | F1: 0.820 | Recall: 0.820 \n",
      "epoch: 0 batch: 65 total train loader: 100 Loss: 0.573 | Acc: 0.800 | F1: 0.800 | Recall: 0.800 \n",
      "epoch: 0 batch: 66 total train loader: 100 Loss: 0.363 | Acc: 0.850 | F1: 0.850 | Recall: 0.850 \n",
      "epoch: 0 batch: 67 total train loader: 100 Loss: 0.510 | Acc: 0.830 | F1: 0.830 | Recall: 0.830 \n",
      "epoch: 0 batch: 68 total train loader: 100 Loss: 0.377 | Acc: 0.900 | F1: 0.900 | Recall: 0.900 \n",
      "epoch: 0 batch: 69 total train loader: 100 Loss: 0.352 | Acc: 0.870 | F1: 0.870 | Recall: 0.870 \n",
      "epoch: 0 batch: 70 total train loader: 100 Loss: 0.544 | Acc: 0.810 | F1: 0.810 | Recall: 0.810 \n",
      "epoch: 0 batch: 71 total train loader: 100 Loss: 0.400 | Acc: 0.830 | F1: 0.830 | Recall: 0.830 \n",
      "epoch: 0 batch: 72 total train loader: 100 Loss: 0.230 | Acc: 0.920 | F1: 0.920 | Recall: 0.920 \n",
      "epoch: 0 batch: 73 total train loader: 100 Loss: 0.473 | Acc: 0.820 | F1: 0.820 | Recall: 0.820 \n",
      "epoch: 0 batch: 74 total train loader: 100 Loss: 0.457 | Acc: 0.850 | F1: 0.850 | Recall: 0.850 \n",
      "epoch: 0 batch: 75 total train loader: 100 Loss: 0.392 | Acc: 0.860 | F1: 0.860 | Recall: 0.860 \n",
      "epoch: 0 batch: 76 total train loader: 100 Loss: 0.358 | Acc: 0.850 | F1: 0.850 | Recall: 0.850 \n",
      "epoch: 0 batch: 77 total train loader: 100 Loss: 0.362 | Acc: 0.840 | F1: 0.840 | Recall: 0.840 \n",
      "epoch: 0 batch: 78 total train loader: 100 Loss: 0.426 | Acc: 0.810 | F1: 0.810 | Recall: 0.810 \n",
      "epoch: 0 batch: 79 total train loader: 100 Loss: 0.380 | Acc: 0.860 | F1: 0.860 | Recall: 0.860 \n",
      "epoch: 0 batch: 80 total train loader: 100 Loss: 0.346 | Acc: 0.870 | F1: 0.870 | Recall: 0.870 \n",
      "epoch: 0 batch: 81 total train loader: 100 Loss: 0.342 | Acc: 0.880 | F1: 0.880 | Recall: 0.880 \n",
      "epoch: 0 batch: 82 total train loader: 100 Loss: 0.528 | Acc: 0.780 | F1: 0.780 | Recall: 0.780 \n",
      "epoch: 0 batch: 83 total train loader: 100 Loss: 0.389 | Acc: 0.870 | F1: 0.870 | Recall: 0.870 \n",
      "epoch: 0 batch: 84 total train loader: 100 Loss: 0.409 | Acc: 0.820 | F1: 0.820 | Recall: 0.820 \n"
     ]
    },
    {
     "name": "stdout",
     "output_type": "stream",
     "text": [
      "epoch: 0 batch: 85 total train loader: 100 Loss: 0.584 | Acc: 0.790 | F1: 0.790 | Recall: 0.790 \n",
      "epoch: 0 batch: 86 total train loader: 100 Loss: 0.298 | Acc: 0.870 | F1: 0.870 | Recall: 0.870 \n",
      "epoch: 0 batch: 87 total train loader: 100 Loss: 0.478 | Acc: 0.800 | F1: 0.800 | Recall: 0.800 \n",
      "epoch: 0 batch: 88 total train loader: 100 Loss: 0.382 | Acc: 0.810 | F1: 0.810 | Recall: 0.810 \n",
      "epoch: 0 batch: 89 total train loader: 100 Loss: 0.394 | Acc: 0.880 | F1: 0.880 | Recall: 0.880 \n",
      "epoch: 0 batch: 90 total train loader: 100 Loss: 0.512 | Acc: 0.780 | F1: 0.780 | Recall: 0.780 \n",
      "epoch: 0 batch: 91 total train loader: 100 Loss: 0.452 | Acc: 0.820 | F1: 0.820 | Recall: 0.820 \n",
      "epoch: 0 batch: 92 total train loader: 100 Loss: 0.422 | Acc: 0.810 | F1: 0.810 | Recall: 0.810 \n",
      "epoch: 0 batch: 93 total train loader: 100 Loss: 0.516 | Acc: 0.820 | F1: 0.820 | Recall: 0.820 \n",
      "epoch: 0 batch: 94 total train loader: 100 Loss: 0.421 | Acc: 0.850 | F1: 0.850 | Recall: 0.850 \n",
      "epoch: 0 batch: 95 total train loader: 100 Loss: 0.447 | Acc: 0.840 | F1: 0.840 | Recall: 0.840 \n",
      "epoch: 0 batch: 96 total train loader: 100 Loss: 0.357 | Acc: 0.870 | F1: 0.870 | Recall: 0.870 \n",
      "epoch: 0 batch: 97 total train loader: 100 Loss: 0.510 | Acc: 0.830 | F1: 0.830 | Recall: 0.830 \n",
      "epoch: 0 batch: 98 total train loader: 100 Loss: 0.333 | Acc: 0.870 | F1: 0.870 | Recall: 0.870 \n",
      "epoch: 0 batch: 99 total train loader: 100 Loss: 0.405 | Acc: 0.820 | F1: 0.820 | Recall: 0.820 \n"
     ]
    }
   ],
   "source": [
    "att_bilstm_test_result = pd.DataFrame()\n",
    "att_bilstm_test_result = att_bilstm_test_result.append(test(0, model_att_bilstm), ignore_index=True)"
   ]
  },
  {
   "cell_type": "code",
   "execution_count": 80,
   "metadata": {},
   "outputs": [],
   "source": [
    "att_bilstm_test_result.to_csv('../result/Attention-Based-Bi-LSTM/att_bilstm_test_result.csv')"
   ]
  },
  {
   "cell_type": "code",
   "execution_count": 81,
   "metadata": {},
   "outputs": [
    {
     "data": {
      "text/plain": [
       "0.8303999999999998"
      ]
     },
     "execution_count": 81,
     "metadata": {},
     "output_type": "execute_result"
    }
   ],
   "source": [
    "att_bilstm_test_result['acc'].mean()"
   ]
  },
  {
   "cell_type": "code",
   "execution_count": 85,
   "metadata": {},
   "outputs": [
    {
     "data": {
      "text/plain": [
       "0.8303999999999998"
      ]
     },
     "execution_count": 85,
     "metadata": {},
     "output_type": "execute_result"
    }
   ],
   "source": [
    "att_bilstm_test_result['f1'].mean()"
   ]
  },
  {
   "cell_type": "code",
   "execution_count": 86,
   "metadata": {},
   "outputs": [
    {
     "data": {
      "text/plain": [
       "0.8303999999999998"
      ]
     },
     "execution_count": 86,
     "metadata": {},
     "output_type": "execute_result"
    }
   ],
   "source": [
    "att_bilstm_test_result['recall'].mean()"
   ]
  },
  {
   "cell_type": "markdown",
   "metadata": {},
   "source": [
    "# Step14: Plot the result"
   ]
  },
  {
   "cell_type": "code",
   "execution_count": 90,
   "metadata": {},
   "outputs": [
    {
     "data": {
      "image/png": "[encoded data removed]",
      "text/plain": [
       "<Figure size 720x468 with 1 Axes>"
      ]
     },
     "metadata": {},
     "output_type": "display_data"
    }
   ],
   "source": [
    "import matplotlib.pyplot as plt\n",
    "import numpy as np\n",
    "import seaborn as sns\n",
    "sns.set()\n",
    "\n",
    "y1 = np.array(att_bilstm_train_result['roll_730_acc'])\n",
    "y2 = np.array(att_bilstm_train_result['roll_730_loss'])\n",
    "\n",
    "x = np.arange(len(y1))\n",
    "\n",
    "plt.figure(figsize=(10, 6.5))\n",
    "\n",
    "plt.plot(x, y1, color=\"r\", linewidth=1, label='accuracy')\n",
    "plt.plot(x, y2, color=\"b\", linewidth=1, label='loss')\n",
    "\n",
    "plt.legend(loc='best')\n",
    "plt.xlabel('Iteration')\n",
    "plt.ylabel('Value')\n",
    "plt.title('Attetion-Based BiLSTM')\n",
    "\n",
    "plt.show()"
   ]
  },
  {
   "cell_type": "code",
   "execution_count": 83,
   "metadata": {},
   "outputs": [],
   "source": [
    "a = np.array(att_bilstm_train_result['acc'])"
   ]
  },
  {
   "cell_type": "code",
   "execution_count": 84,
   "metadata": {},
   "outputs": [
    {
     "data": {
      "text/plain": [
       "array([0.61, 0.66, 0.61, ..., 0.8 , 0.88, 0.91])"
      ]
     },
     "execution_count": 84,
     "metadata": {},
     "output_type": "execute_result"
    }
   ],
   "source": [
    "a"
   ]
  },
  {
   "cell_type": "code",
   "execution_count": null,
   "metadata": {},
   "outputs": [],
   "source": []
  }
 ],
 "metadata": {
  "kernelspec": {
   "display_name": "Python 3",
   "language": "python",
   "name": "python3"
  },
  "language_info": {
   "codemirror_mode": {
    "name": "ipython",
    "version": 3
   },
   "file_extension": ".py",
   "mimetype": "text/x-python",
   "name": "python",
   "nbconvert_exporter": "python",
   "pygments_lexer": "ipython3",
   "version": "3.8.3"
  }
 },
 "nbformat": 4,
 "nbformat_minor": 4
}
