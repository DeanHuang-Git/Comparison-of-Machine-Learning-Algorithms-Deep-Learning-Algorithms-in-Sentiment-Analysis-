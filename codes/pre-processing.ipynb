{
 "cells": [
  {
   "cell_type": "markdown",
   "metadata": {},
   "source": [
    "## Yelp Preprocessing & EDA"
   ]
  },
  {
   "cell_type": "markdown",
   "metadata": {},
   "source": [
    "#### Import Libraries"
   ]
  },
  {
   "cell_type": "code",
   "execution_count": 57,
   "metadata": {},
   "outputs": [],
   "source": [
    "import pandas as pd\n",
    "import json\n",
    "import numpy as np\n",
    "import os\n",
    "import matplotlib.pyplot as plt\n",
    "import seaborn as sns\n",
    "import re\n",
    "import string\n",
    "import time\n",
    "import nltk\n",
    "import langid \n",
    "\n",
    "from nltk.stem import PorterStemmer\n",
    "from nltk.tokenize import word_tokenize\n",
    "from string import punctuation\n",
    "from sklearn.model_selection import train_test_split\n",
    "from nltk.corpus import stopwords\n",
    "from sklearn.feature_extraction.text import TfidfTransformer\n",
    "from sklearn.feature_extraction.text import CountVectorizer, TfidfVectorizer\n",
    "\n",
    "import gensim\n",
    "from gensim.models import Word2Vec"
   ]
  },
  {
   "cell_type": "code",
   "execution_count": 58,
   "metadata": {},
   "outputs": [],
   "source": [
    "tokenizer = nltk.data.load(\"tokenizers/punkt/english.pickle\")\n",
    "porter = nltk.PorterStemmer()"
   ]
  },
  {
   "cell_type": "markdown",
   "metadata": {},
   "source": [
    "#### Parameter Settings"
   ]
  },
  {
   "cell_type": "code",
   "execution_count": 59,
   "metadata": {},
   "outputs": [],
   "source": [
    "TOTAL_REVIEW_NUM = 100000\n",
    "ORIGIN_YELP_PATH = '../data/yelp_academic_dataset_review.json'\n",
    "ENGLISH_YELP_REVIEW_PATH = '../data/english_yep_reviews.csv'\n",
    "# word2vec\n",
    "WORD2VEC_DIMENSION = 200\n",
    "WORD2VEC_MODEL_PATH = '../data/word2vec_model'\n",
    "YELP_REVIEW_W2V_PATH = '../data/w2v_yelp.csv'\n",
    "# bag of words\n",
    "YELP_REVIEW_BOW_PATH = '../data/bow_yelp.csv'"
   ]
  },
  {
   "cell_type": "markdown",
   "metadata": {},
   "source": [
    "#### Read Reviews in English"
   ]
  },
  {
   "cell_type": "code",
   "execution_count": 60,
   "metadata": {},
   "outputs": [
    {
     "name": "stdout",
     "output_type": "stream",
     "text": [
      "readin 100000 english reviews and dropped 504 non-english reviews\n"
     ]
    },
    {
     "data": {
      "text/html": [
       "<div>\n",
       "<style scoped>\n",
       "    .dataframe tbody tr th:only-of-type {\n",
       "        vertical-align: middle;\n",
       "    }\n",
       "\n",
       "    .dataframe tbody tr th {\n",
       "        vertical-align: top;\n",
       "    }\n",
       "\n",
       "    .dataframe thead th {\n",
       "        text-align: right;\n",
       "    }\n",
       "</style>\n",
       "<table border=\"1\" class=\"dataframe\">\n",
       "  <thead>\n",
       "    <tr style=\"text-align: right;\">\n",
       "      <th></th>\n",
       "      <th>review_id</th>\n",
       "      <th>user_id</th>\n",
       "      <th>business_id</th>\n",
       "      <th>stars</th>\n",
       "      <th>useful</th>\n",
       "      <th>funny</th>\n",
       "      <th>cool</th>\n",
       "      <th>text</th>\n",
       "      <th>date</th>\n",
       "    </tr>\n",
       "  </thead>\n",
       "  <tbody>\n",
       "    <tr>\n",
       "      <th>0</th>\n",
       "      <td>xQY8N_XvtGbearJ5X4QryQ</td>\n",
       "      <td>OwjRMXRC0KyPrIlcjaXeFQ</td>\n",
       "      <td>-MhfebM0QIsKt87iDN-FNw</td>\n",
       "      <td>2.0</td>\n",
       "      <td>5</td>\n",
       "      <td>0</td>\n",
       "      <td>0</td>\n",
       "      <td>As someone who has worked with many museums, I...</td>\n",
       "      <td>2015-04-15 05:21:16</td>\n",
       "    </tr>\n",
       "    <tr>\n",
       "      <th>1</th>\n",
       "      <td>UmFMZ8PyXZTY2QcwzsfQYA</td>\n",
       "      <td>nIJD_7ZXHq-FX8byPMOkMQ</td>\n",
       "      <td>lbrU8StCq3yDfr-QMnGrmQ</td>\n",
       "      <td>1.0</td>\n",
       "      <td>1</td>\n",
       "      <td>1</td>\n",
       "      <td>0</td>\n",
       "      <td>I am actually horrified this place is still in...</td>\n",
       "      <td>2013-12-07 03:16:52</td>\n",
       "    </tr>\n",
       "    <tr>\n",
       "      <th>2</th>\n",
       "      <td>LG2ZaYiOgpr2DK_90pYjNw</td>\n",
       "      <td>V34qejxNsCbcgD8C0HVk-Q</td>\n",
       "      <td>HQl28KMwrEKHqhFrrDqVNQ</td>\n",
       "      <td>5.0</td>\n",
       "      <td>1</td>\n",
       "      <td>0</td>\n",
       "      <td>0</td>\n",
       "      <td>I love Deagan's. I do. I really do. The atmosp...</td>\n",
       "      <td>2015-12-05 03:18:11</td>\n",
       "    </tr>\n",
       "    <tr>\n",
       "      <th>3</th>\n",
       "      <td>i6g_oA9Yf9Y31qt0wibXpw</td>\n",
       "      <td>ofKDkJKXSKZXu5xJNGiiBQ</td>\n",
       "      <td>5JxlZaqCnk1MnbgRirs40Q</td>\n",
       "      <td>1.0</td>\n",
       "      <td>0</td>\n",
       "      <td>0</td>\n",
       "      <td>0</td>\n",
       "      <td>Dismal, lukewarm, defrosted-tasting \"TexMex\" g...</td>\n",
       "      <td>2011-05-27 05:30:52</td>\n",
       "    </tr>\n",
       "    <tr>\n",
       "      <th>4</th>\n",
       "      <td>6TdNDKywdbjoTkizeMce8A</td>\n",
       "      <td>UgMW8bLE0QMJDCkQ1Ax5Mg</td>\n",
       "      <td>IS4cv902ykd8wj1TR0N3-A</td>\n",
       "      <td>4.0</td>\n",
       "      <td>0</td>\n",
       "      <td>0</td>\n",
       "      <td>0</td>\n",
       "      <td>Oh happy day, finally have a Canes near my cas...</td>\n",
       "      <td>2017-01-14 21:56:57</td>\n",
       "    </tr>\n",
       "  </tbody>\n",
       "</table>\n",
       "</div>"
      ],
      "text/plain": [
       "                review_id                 user_id             business_id  \\\n",
       "0  xQY8N_XvtGbearJ5X4QryQ  OwjRMXRC0KyPrIlcjaXeFQ  -MhfebM0QIsKt87iDN-FNw   \n",
       "1  UmFMZ8PyXZTY2QcwzsfQYA  nIJD_7ZXHq-FX8byPMOkMQ  lbrU8StCq3yDfr-QMnGrmQ   \n",
       "2  LG2ZaYiOgpr2DK_90pYjNw  V34qejxNsCbcgD8C0HVk-Q  HQl28KMwrEKHqhFrrDqVNQ   \n",
       "3  i6g_oA9Yf9Y31qt0wibXpw  ofKDkJKXSKZXu5xJNGiiBQ  5JxlZaqCnk1MnbgRirs40Q   \n",
       "4  6TdNDKywdbjoTkizeMce8A  UgMW8bLE0QMJDCkQ1Ax5Mg  IS4cv902ykd8wj1TR0N3-A   \n",
       "\n",
       "   stars  useful  funny  cool  \\\n",
       "0    2.0       5      0     0   \n",
       "1    1.0       1      1     0   \n",
       "2    5.0       1      0     0   \n",
       "3    1.0       0      0     0   \n",
       "4    4.0       0      0     0   \n",
       "\n",
       "                                                text                 date  \n",
       "0  As someone who has worked with many museums, I...  2015-04-15 05:21:16  \n",
       "1  I am actually horrified this place is still in...  2013-12-07 03:16:52  \n",
       "2  I love Deagan's. I do. I really do. The atmosp...  2015-12-05 03:18:11  \n",
       "3  Dismal, lukewarm, defrosted-tasting \"TexMex\" g...  2011-05-27 05:30:52  \n",
       "4  Oh happy day, finally have a Canes near my cas...  2017-01-14 21:56:57  "
      ]
     },
     "execution_count": 60,
     "metadata": {},
     "output_type": "execute_result"
    }
   ],
   "source": [
    "reviews = []\n",
    "eng_count = 0\n",
    "non_eng_count = 0\n",
    "with open(ORIGIN_YELP_PATH, encoding=\"utf8\") as fl:\n",
    "    for i, line in enumerate(fl):\n",
    "        content = json.loads(line)\n",
    "        if langid.classify(content['text'])[0]=='en':\n",
    "            reviews.append(content)\n",
    "            eng_count += 1\n",
    "            if eng_count == TOTAL_REVIEW_NUM:\n",
    "                break\n",
    "        else:\n",
    "            non_eng_count += 1\n",
    "df_reviews = pd.DataFrame(reviews)\n",
    "print('readin {} english reviews and dropped {} non-english reviews'.format(eng_count, non_eng_count))\n",
    "df_reviews.head()"
   ]
  },
  {
   "cell_type": "markdown",
   "metadata": {},
   "source": [
    "### Feature Engineering"
   ]
  },
  {
   "cell_type": "code",
   "execution_count": 61,
   "metadata": {},
   "outputs": [
    {
     "data": {
      "text/html": [
       "<div>\n",
       "<style scoped>\n",
       "    .dataframe tbody tr th:only-of-type {\n",
       "        vertical-align: middle;\n",
       "    }\n",
       "\n",
       "    .dataframe tbody tr th {\n",
       "        vertical-align: top;\n",
       "    }\n",
       "\n",
       "    .dataframe thead th {\n",
       "        text-align: right;\n",
       "    }\n",
       "</style>\n",
       "<table border=\"1\" class=\"dataframe\">\n",
       "  <thead>\n",
       "    <tr style=\"text-align: right;\">\n",
       "      <th></th>\n",
       "      <th>stars</th>\n",
       "      <th>text</th>\n",
       "    </tr>\n",
       "  </thead>\n",
       "  <tbody>\n",
       "    <tr>\n",
       "      <th>0</th>\n",
       "      <td>2.0</td>\n",
       "      <td>As someone who has worked with many museums, I...</td>\n",
       "    </tr>\n",
       "    <tr>\n",
       "      <th>1</th>\n",
       "      <td>1.0</td>\n",
       "      <td>I am actually horrified this place is still in...</td>\n",
       "    </tr>\n",
       "    <tr>\n",
       "      <th>2</th>\n",
       "      <td>5.0</td>\n",
       "      <td>I love Deagan's. I do. I really do. The atmosp...</td>\n",
       "    </tr>\n",
       "    <tr>\n",
       "      <th>3</th>\n",
       "      <td>1.0</td>\n",
       "      <td>Dismal, lukewarm, defrosted-tasting \"TexMex\" g...</td>\n",
       "    </tr>\n",
       "    <tr>\n",
       "      <th>4</th>\n",
       "      <td>4.0</td>\n",
       "      <td>Oh happy day, finally have a Canes near my cas...</td>\n",
       "    </tr>\n",
       "  </tbody>\n",
       "</table>\n",
       "</div>"
      ],
      "text/plain": [
       "   stars                                               text\n",
       "0    2.0  As someone who has worked with many museums, I...\n",
       "1    1.0  I am actually horrified this place is still in...\n",
       "2    5.0  I love Deagan's. I do. I really do. The atmosp...\n",
       "3    1.0  Dismal, lukewarm, defrosted-tasting \"TexMex\" g...\n",
       "4    4.0  Oh happy day, finally have a Canes near my cas..."
      ]
     },
     "execution_count": 61,
     "metadata": {},
     "output_type": "execute_result"
    }
   ],
   "source": [
    "# Focus on Stars and Texts Only\n",
    "df_reviews = df_reviews[[\"stars\", \"text\"]]\n",
    "df_reviews.head()"
   ]
  },
  {
   "cell_type": "code",
   "execution_count": 62,
   "metadata": {},
   "outputs": [
    {
     "data": {
      "text/plain": [
       "stars    False\n",
       "text     False\n",
       "dtype: bool"
      ]
     },
     "execution_count": 62,
     "metadata": {},
     "output_type": "execute_result"
    }
   ],
   "source": [
    "# Check if there are any missing values\n",
    "df_reviews.isna().any()"
   ]
  },
  {
   "cell_type": "code",
   "execution_count": 63,
   "metadata": {},
   "outputs": [
    {
     "data": {
      "text/plain": [
       "Text(0.5, 0, 'Number of Stars')"
      ]
     },
     "execution_count": 63,
     "metadata": {},
     "output_type": "execute_result"
    },
    {
     "data": {
      "image/png": "[encoded data removed]",
      "text/plain": [
       "<Figure size 720x432 with 1 Axes>"
      ]
     },
     "metadata": {
      "needs_background": "light"
     },
     "output_type": "display_data"
    }
   ],
   "source": [
    "# Check the distribution of Stars\n",
    "stars_count = df_reviews[\"stars\"].value_counts()\n",
    "stars_count = stars_count.sort_index()\n",
    "\n",
    "fig = plt.figure(figsize=(10, 6))\n",
    "ax = sns.barplot(stars_count.index, stars_count.values)\n",
    "plt.title(\"Ratings Distribution\", fontsize=20)\n",
    "plt.ylabel(\"Number of Reviews\", fontsize=12)\n",
    "plt.xlabel(\"Number of Stars\", fontsize=12)"
   ]
  },
  {
   "cell_type": "code",
   "execution_count": 64,
   "metadata": {},
   "outputs": [],
   "source": [
    "# Categorize Stars into different levels\n",
    "# 0 (Negative)=> 1 star or 2 stars/ 1(Neutral)=> 3 stars/ 2(Positive) => 4 or 5 stars\n",
    "df_reviews[\"Review_Labels\"] = df_reviews[\"stars\"].apply(\n",
    "    lambda x: 0 if x < 3 else (1 if x == 3 else 2)\n",
    ")"
   ]
  },
  {
   "cell_type": "code",
   "execution_count": 65,
   "metadata": {},
   "outputs": [
    {
     "data": {
      "text/plain": [
       "array([0, 2, 1])"
      ]
     },
     "execution_count": 65,
     "metadata": {},
     "output_type": "execute_result"
    }
   ],
   "source": [
    "df_reviews[\"Review_Labels\"].unique()"
   ]
  },
  {
   "cell_type": "code",
   "execution_count": 66,
   "metadata": {},
   "outputs": [
    {
     "data": {
      "text/plain": [
       "Text(0.5, 0, 'Sentiment Labels')"
      ]
     },
     "execution_count": 66,
     "metadata": {},
     "output_type": "execute_result"
    },
    {
     "data": {
      "image/png": "[encoded data removed]",
      "text/plain": [
       "<Figure size 720x432 with 1 Axes>"
      ]
     },
     "metadata": {
      "needs_background": "light"
     },
     "output_type": "display_data"
    }
   ],
   "source": [
    "# Check the distribution of review labels\n",
    "label_count = df_reviews[\"Review_Labels\"].value_counts()\n",
    "label_count = label_count.sort_index()\n",
    "\n",
    "fig1 = plt.figure(figsize=(10, 6))\n",
    "ax = sns.barplot(label_count.index, label_count.values)\n",
    "plt.title(\"Labels Distribution\", fontsize=20)\n",
    "plt.ylabel(\"Frequency\", fontsize=12)\n",
    "plt.xlabel(\"Sentiment Labels\", fontsize=12)"
   ]
  },
  {
   "cell_type": "markdown",
   "metadata": {},
   "source": [
    "#### Text Processing, Stop Words Removal, Porter Stemming"
   ]
  },
  {
   "cell_type": "code",
   "execution_count": 67,
   "metadata": {},
   "outputs": [],
   "source": [
    "# Set stopwords\n",
    "stop_words = set(stopwords.words(\"english\"))\n",
    "# Stemming\n",
    "ps = PorterStemmer()"
   ]
  },
  {
   "cell_type": "code",
   "execution_count": 68,
   "metadata": {},
   "outputs": [],
   "source": [
    "# Define list of punctuation\n",
    "punc = list(punctuation)\n",
    "clean = []\n",
    "for text in df_reviews[\"text\"]:\n",
    "    text = re.sub(r\"n't\", \" not \", text)\n",
    "    text = re.sub(r\"\\'s\", \" \", text)\n",
    "    text = re.sub(r\"\\'ve\", \" have \", text)\n",
    "    text = re.sub(r\"\\'re\", \" are \", text)\n",
    "    text = re.sub(r\"\\'d\", \" would \", text)\n",
    "    text = re.sub(r\"\\'ll\", \" will \", text)\n",
    "    # Keep letters only, and convet texts to lower case\n",
    "    text = re.sub(\"[^a-z\\s]\", \"\", text.lower())\n",
    "    # Remove punctuations\n",
    "    text_nopunc = [char for char in text if char not in punc]\n",
    "    text_nopunc = \"\".join(text_nopunc)\n",
    "    wd = []\n",
    "    for word in text_nopunc.split():\n",
    "        word = ps.stem(word)\n",
    "        if word not in stop_words:\n",
    "            wd.append(word)\n",
    "    clean.append(\" \".join(wd))"
   ]
  },
  {
   "cell_type": "code",
   "execution_count": 69,
   "metadata": {},
   "outputs": [
    {
     "name": "stdout",
     "output_type": "stream",
     "text": [
      "before drop empty (100000, 4)\n",
      "after drop empty (99999, 3)\n"
     ]
    }
   ],
   "source": [
    "df_reviews[\"cleaned\"] = clean\n",
    "print('before drop empty', df_reviews.shape)\n",
    "# delete raw reviews\n",
    "del df_reviews['text']\n",
    "# drop empty ones\n",
    "df_reviews = df_reviews[df_reviews['cleaned']!='']\n",
    "print('after drop empty',df_reviews.shape)"
   ]
  },
  {
   "cell_type": "code",
   "execution_count": 70,
   "metadata": {},
   "outputs": [
    {
     "name": "stdout",
     "output_type": "stream",
     "text": [
      "all preprocessed english reviews are stored at ../data/english_yep_reviews.csv\n"
     ]
    }
   ],
   "source": [
    "df_reviews.to_csv(\n",
    "    ENGLISH_YELP_REVIEW_PATH,\n",
    "    index=False,\n",
    "    header=True,\n",
    ")\n",
    "print('all preprocessed english reviews are stored at {}'.format(ENGLISH_YELP_REVIEW_PATH))"
   ]
  },
  {
   "cell_type": "code",
   "execution_count": 71,
   "metadata": {},
   "outputs": [
    {
     "data": {
      "text/html": [
       "<div>\n",
       "<style scoped>\n",
       "    .dataframe tbody tr th:only-of-type {\n",
       "        vertical-align: middle;\n",
       "    }\n",
       "\n",
       "    .dataframe tbody tr th {\n",
       "        vertical-align: top;\n",
       "    }\n",
       "\n",
       "    .dataframe thead th {\n",
       "        text-align: right;\n",
       "    }\n",
       "</style>\n",
       "<table border=\"1\" class=\"dataframe\">\n",
       "  <thead>\n",
       "    <tr style=\"text-align: right;\">\n",
       "      <th></th>\n",
       "      <th>stars</th>\n",
       "      <th>Review_Labels</th>\n",
       "      <th>cleaned</th>\n",
       "    </tr>\n",
       "  </thead>\n",
       "  <tbody>\n",
       "    <tr>\n",
       "      <th>0</th>\n",
       "      <td>2.0</td>\n",
       "      <td>0</td>\n",
       "      <td>someon ha work mani museum wa eager visit thi ...</td>\n",
       "    </tr>\n",
       "    <tr>\n",
       "      <th>1</th>\n",
       "      <td>1.0</td>\n",
       "      <td>0</td>\n",
       "      <td>actual horrifi thi place still busi year old s...</td>\n",
       "    </tr>\n",
       "    <tr>\n",
       "      <th>2</th>\n",
       "      <td>5.0</td>\n",
       "      <td>2</td>\n",
       "      <td>love deagan realli atmospher cozi festiv shrim...</td>\n",
       "    </tr>\n",
       "    <tr>\n",
       "      <th>3</th>\n",
       "      <td>1.0</td>\n",
       "      <td>0</td>\n",
       "      <td>dismal lukewarm defrostedtast texmex glop mumb...</td>\n",
       "    </tr>\n",
       "    <tr>\n",
       "      <th>4</th>\n",
       "      <td>4.0</td>\n",
       "      <td>2</td>\n",
       "      <td>oh happi day final cane near casa ye gripe dri...</td>\n",
       "    </tr>\n",
       "  </tbody>\n",
       "</table>\n",
       "</div>"
      ],
      "text/plain": [
       "   stars  Review_Labels                                            cleaned\n",
       "0    2.0              0  someon ha work mani museum wa eager visit thi ...\n",
       "1    1.0              0  actual horrifi thi place still busi year old s...\n",
       "2    5.0              2  love deagan realli atmospher cozi festiv shrim...\n",
       "3    1.0              0  dismal lukewarm defrostedtast texmex glop mumb...\n",
       "4    4.0              2  oh happi day final cane near casa ye gripe dri..."
      ]
     },
     "execution_count": 71,
     "metadata": {},
     "output_type": "execute_result"
    }
   ],
   "source": [
    "df_reviews.head()"
   ]
  },
  {
   "cell_type": "markdown",
   "metadata": {},
   "source": [
    "### Vectorization with word2vec"
   ]
  },
  {
   "cell_type": "code",
   "execution_count": 72,
   "metadata": {},
   "outputs": [
    {
     "name": "stdout",
     "output_type": "stream",
     "text": [
      "start training w2v model ...\n"
     ]
    },
    {
     "name": "stderr",
     "output_type": "stream",
     "text": [
      "<ipython-input-72-e79ca7926056>:5: DeprecationWarning: Call to deprecated `iter` (Attribute will be removed in 4.0.0, use self.epochs instead).\n",
      "  w2v_model.train(df_reviews[\"cleaned\"], total_examples=w2v_model.corpus_count, epochs=w2v_model.iter)\n"
     ]
    },
    {
     "name": "stdout",
     "output_type": "stream",
     "text": [
      "trainging finished with time 52.24490475654602\n",
      "word2vec vectorized reviews saved at ../data/word2vec_model\n"
     ]
    }
   ],
   "source": [
    "print('start training w2v model ...')\n",
    "start_time = time.time()\n",
    "w2v_model = Word2Vec(min_count=1, window=5, size=WORD2VEC_DIMENSION,workers=4)\n",
    "w2v_model.build_vocab(df_reviews[\"cleaned\"].map(lambda x:x.split()))\n",
    "w2v_model.train(df_reviews[\"cleaned\"], total_examples=w2v_model.corpus_count, epochs=w2v_model.iter)\n",
    "w2v_model.init_sims(replace=True)\n",
    "w2v_model.save(WORD2VEC_MODEL_PATH)\n",
    "end_time = time.time()\n",
    "print('trainging finished with time {}'.format(end_time-start_time))\n",
    "print('word2vec vectorized reviews saved at {}'.format(WORD2VEC_MODEL_PATH))"
   ]
  },
  {
   "cell_type": "code",
   "execution_count": 73,
   "metadata": {},
   "outputs": [
    {
     "name": "stdout",
     "output_type": "stream",
     "text": [
      "test word2vec model:\n",
      "similarity between 'ask' and 'tell':  0.093848065\n"
     ]
    }
   ],
   "source": [
    "model = Word2Vec.load(WORD2VEC_MODEL_PATH)\n",
    "print('test word2vec model:')\n",
    "temp = model.wv.similarity(u'ask',u'tell')\n",
    "print(\"similarity between 'ask' and 'tell': \", temp)"
   ]
  },
  {
   "cell_type": "code",
   "execution_count": 74,
   "metadata": {},
   "outputs": [],
   "source": [
    "# checking word2vec vocabulary\n",
    "# model.wv.vocab"
   ]
  },
  {
   "cell_type": "code",
   "execution_count": 75,
   "metadata": {},
   "outputs": [
    {
     "name": "stdout",
     "output_type": "stream",
     "text": [
      "vectorized w2v reviews are stored at ../data/w2v_yelp.csv\n"
     ]
    },
    {
     "data": {
      "text/html": [
       "<div>\n",
       "<style scoped>\n",
       "    .dataframe tbody tr th:only-of-type {\n",
       "        vertical-align: middle;\n",
       "    }\n",
       "\n",
       "    .dataframe tbody tr th {\n",
       "        vertical-align: top;\n",
       "    }\n",
       "\n",
       "    .dataframe thead th {\n",
       "        text-align: right;\n",
       "    }\n",
       "</style>\n",
       "<table border=\"1\" class=\"dataframe\">\n",
       "  <thead>\n",
       "    <tr style=\"text-align: right;\">\n",
       "      <th></th>\n",
       "      <th>stars</th>\n",
       "      <th>Review_Labels</th>\n",
       "      <th>cleaned</th>\n",
       "      <th>w2v</th>\n",
       "    </tr>\n",
       "  </thead>\n",
       "  <tbody>\n",
       "    <tr>\n",
       "      <th>0</th>\n",
       "      <td>2.0</td>\n",
       "      <td>0</td>\n",
       "      <td>someon ha work mani museum wa eager visit thi ...</td>\n",
       "      <td>[-0.7833308577537537, -0.6459603905677795, 1.5...</td>\n",
       "    </tr>\n",
       "    <tr>\n",
       "      <th>1</th>\n",
       "      <td>1.0</td>\n",
       "      <td>0</td>\n",
       "      <td>actual horrifi thi place still busi year old s...</td>\n",
       "      <td>[2.3488664627075195, 0.18374943733215332, 1.44...</td>\n",
       "    </tr>\n",
       "    <tr>\n",
       "      <th>2</th>\n",
       "      <td>5.0</td>\n",
       "      <td>2</td>\n",
       "      <td>love deagan realli atmospher cozi festiv shrim...</td>\n",
       "      <td>[0.10850790143013, 0.16999416053295135, 0.9217...</td>\n",
       "    </tr>\n",
       "    <tr>\n",
       "      <th>3</th>\n",
       "      <td>1.0</td>\n",
       "      <td>0</td>\n",
       "      <td>dismal lukewarm defrostedtast texmex glop mumb...</td>\n",
       "      <td>[-0.7600313425064087, -0.5083361864089966, 0.9...</td>\n",
       "    </tr>\n",
       "    <tr>\n",
       "      <th>4</th>\n",
       "      <td>4.0</td>\n",
       "      <td>2</td>\n",
       "      <td>oh happi day final cane near casa ye gripe dri...</td>\n",
       "      <td>[0.5988718867301941, 0.927848756313324, 0.2136...</td>\n",
       "    </tr>\n",
       "  </tbody>\n",
       "</table>\n",
       "</div>"
      ],
      "text/plain": [
       "   stars  Review_Labels                                            cleaned  \\\n",
       "0    2.0              0  someon ha work mani museum wa eager visit thi ...   \n",
       "1    1.0              0  actual horrifi thi place still busi year old s...   \n",
       "2    5.0              2  love deagan realli atmospher cozi festiv shrim...   \n",
       "3    1.0              0  dismal lukewarm defrostedtast texmex glop mumb...   \n",
       "4    4.0              2  oh happi day final cane near casa ye gripe dri...   \n",
       "\n",
       "                                                 w2v  \n",
       "0  [-0.7833308577537537, -0.6459603905677795, 1.5...  \n",
       "1  [2.3488664627075195, 0.18374943733215332, 1.44...  \n",
       "2  [0.10850790143013, 0.16999416053295135, 0.9217...  \n",
       "3  [-0.7600313425064087, -0.5083361864089966, 0.9...  \n",
       "4  [0.5988718867301941, 0.927848756313324, 0.2136...  "
      ]
     },
     "execution_count": 75,
     "metadata": {},
     "output_type": "execute_result"
    }
   ],
   "source": [
    "# adding w2v vectorization to dataframe\n",
    "df_reviews['w2v'] = df_reviews[\"cleaned\"].map(lambda x:sum([model.wv[i] for i in x.split() if i in model.wv]).tolist())\n",
    "df_reviews.to_csv(\n",
    "    YELP_REVIEW_W2V_PATH,\n",
    "    index=False,\n",
    "    header=True,\n",
    ")\n",
    "print('vectorized w2v reviews are stored at {}'.format(YELP_REVIEW_W2V_PATH))\n",
    "df_reviews.head()"
   ]
  },
  {
   "cell_type": "code",
   "execution_count": 76,
   "metadata": {},
   "outputs": [
    {
     "name": "stdout",
     "output_type": "stream",
     "text": [
      "all finished\n"
     ]
    }
   ],
   "source": [
    "print('all finished')"
   ]
  },
  {
   "cell_type": "code",
   "execution_count": 78,
   "metadata": {},
   "outputs": [
    {
     "data": {
      "text/plain": [
       "array([-7.83330858e-01, -6.45960391e-01,  1.55615175e+00, -1.28618717e+00,\n",
       "       -2.32671046e+00, -1.13509762e+00, -1.24585390e+00,  3.56679633e-02,\n",
       "        1.62993813e+00,  6.17418826e-01,  3.45009506e-01, -9.01842356e-01,\n",
       "       -1.57255292e+00,  4.46471199e-03,  8.54291171e-02,  6.60185739e-02,\n",
       "        6.19853497e-01,  8.04456592e-01,  1.05995081e-01,  7.21373633e-02,\n",
       "        1.17341065e+00, -1.85576415e+00,  7.47265995e-01,  1.74596453e+00,\n",
       "        2.34829649e-01,  1.57097101e-01, -4.02461708e-01, -2.88854688e-01,\n",
       "        6.99117929e-02, -9.40365255e-01,  3.22987258e-01, -7.47992873e-01,\n",
       "       -2.66565323e-01,  8.86490643e-01, -1.43281031e+00, -4.95281368e-02,\n",
       "        1.86685205e-01,  1.18910253e+00, -1.87144637e-01, -4.46183085e-01,\n",
       "        7.80724645e-01, -3.06141555e-01, -1.08195591e+00,  4.54108775e-01,\n",
       "        1.08060884e+00,  1.83364999e+00, -1.18975365e+00, -1.34546566e+00,\n",
       "       -6.86629593e-01, -6.50981903e-01,  4.48218524e-01,  1.19541660e-01,\n",
       "        1.76656723e+00,  8.97570193e-01,  1.77395895e-01, -4.74430084e-01,\n",
       "       -1.50852084e+00, -2.17098445e-01,  3.20443749e-01, -2.76094228e-01,\n",
       "        1.27898753e+00, -4.43701804e-01, -1.20793974e+00,  1.79142952e+00,\n",
       "       -2.05411458e+00,  2.65172744e+00, -1.97295904e+00, -1.12002707e+00,\n",
       "        9.98693109e-01,  2.05509806e+00,  2.17589831e+00, -3.62542391e-01,\n",
       "        5.21034896e-02, -1.90730870e+00, -5.36896646e-01,  1.21071935e-06,\n",
       "       -1.56811047e+00,  1.01727593e+00,  1.16907179e+00, -6.94503069e-01,\n",
       "       -1.07035339e-01,  7.49638557e-01, -1.06784856e+00, -2.40159869e-01,\n",
       "        5.62787950e-01, -9.36537266e-01, -3.07692468e-01,  1.56346783e-02,\n",
       "       -1.39349365e+00, -7.91456938e-01,  1.20785916e+00,  4.23472792e-01,\n",
       "       -4.40015733e-01, -1.23178452e-01,  6.32640362e-01,  1.11872768e+00,\n",
       "       -3.69484812e-01, -1.34430647e+00, -2.08965206e+00,  1.42594743e+00,\n",
       "       -7.69436300e-01,  7.28581369e-01,  2.73672193e-02,  7.68016696e-01,\n",
       "        6.55351162e-01,  4.20180053e-01,  8.97339702e-01,  1.60904837e+00,\n",
       "       -3.31363291e-01, -1.32767999e+00, -3.72387618e-01, -2.95779794e-01,\n",
       "        3.83367032e-01,  4.77285802e-01, -3.46524477e-01, -1.08021446e-01,\n",
       "        2.18884096e-01,  1.34140503e+00, -7.41717398e-01, -2.37860456e-02,\n",
       "        9.52088237e-02,  5.97190976e-01, -1.43956184e+00,  1.27295524e-01,\n",
       "       -1.51695073e-01, -5.34562282e-02,  6.83686733e-01, -3.30246985e-02,\n",
       "       -9.46780026e-01, -9.48904395e-01,  5.81177592e-01,  1.00780475e+00,\n",
       "        5.98939419e-01,  1.43732041e-01,  5.11944741e-02,  8.28613043e-02,\n",
       "       -1.22601461e+00, -4.86326158e-01, -5.58233261e-01,  3.29674900e-01,\n",
       "       -1.31962705e+00,  3.78546864e-01,  7.69025683e-01, -3.57165337e-01,\n",
       "       -7.05765367e-01, -1.99456406e+00, -7.23763883e-01, -6.09639883e-01,\n",
       "        1.14721203e+00, -1.63938686e-01,  6.52491093e-01, -6.70092881e-01,\n",
       "       -3.02512467e-01,  9.95166361e-01,  1.30751479e+00,  1.61255002e+00,\n",
       "       -3.26207310e-01, -6.93815947e-01,  1.31568146e+00,  1.60070121e-01,\n",
       "       -6.32656872e-01, -1.16590476e+00,  5.08891106e-01, -9.38941002e-01,\n",
       "       -1.78601122e+00,  8.33197653e-01, -4.69675660e-01,  7.79556334e-01,\n",
       "       -1.90061435e-01, -9.01114345e-01, -6.85024038e-02, -7.29117393e-01,\n",
       "        2.80078799e-01,  4.90955263e-02,  2.03280345e-01,  1.18106031e+00,\n",
       "        5.32581508e-01,  2.13337675e-01,  1.05670422e-01,  8.87616754e-01,\n",
       "        1.52808130e+00,  1.37819445e+00,  2.15543985e+00, -3.31406415e-01,\n",
       "        2.28974521e-02, -5.64026475e-01, -4.64501828e-01, -6.48689345e-02,\n",
       "       -2.27374300e-01, -1.04053535e-01, -1.12233162e+00,  3.63670409e-01,\n",
       "       -4.54188317e-01, -4.84380990e-01, -1.14010409e-01,  1.89160311e+00,\n",
       "        1.24719727e+00, -1.19540083e+00, -8.49830687e-01, -5.33222184e-02])"
      ]
     },
     "execution_count": 78,
     "metadata": {},
     "output_type": "execute_result"
    }
   ],
   "source": [
    "# read in codes\n",
    "# df_reviews = pd.read_csv(YELP_REVIEW_W2V_PATH)\n",
    "# df_reviews['w2v'] = df_reviews['w2v'].map(lambda x:np.array(eval(x)))"
   ]
  },
  {
   "cell_type": "code",
   "execution_count": null,
   "metadata": {},
   "outputs": [],
   "source": []
  }
 ],
 "metadata": {
  "kernelspec": {
   "display_name": "Python 3",
   "language": "python",
   "name": "python3"
  },
  "language_info": {
   "codemirror_mode": {
    "name": "ipython",
    "version": 3
   },
   "file_extension": ".py",
   "mimetype": "text/x-python",
   "name": "python",
   "nbconvert_exporter": "python",
   "pygments_lexer": "ipython3",
   "version": "3.8.3"
  }
 },
 "nbformat": 4,
 "nbformat_minor": 4
}
