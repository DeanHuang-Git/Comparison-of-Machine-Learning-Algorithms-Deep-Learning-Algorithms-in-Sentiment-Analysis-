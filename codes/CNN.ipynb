{
 "cells": [
  {
   "cell_type": "markdown",
   "metadata": {},
   "source": [
    "# Step0: Import Packages"
   ]
  },
  {
   "cell_type": "code",
   "execution_count": 13,
   "metadata": {},
   "outputs": [],
   "source": [
    "import torch\n",
    "import numpy as np\n",
    "import pandas as pd\n",
    "import torch.nn as nn\n",
    "from sklearn import metrics\n",
    "from torchviz import make_dot\n",
    "from string import punctuation\n",
    "import torch.nn.functional as F\n",
    "from collections import Counter\n",
    "from torchvision.models import AlexNet\n",
    "from sklearn.metrics import accuracy_score\n",
    "from torch.utils.data import DataLoader, TensorDataset"
   ]
  },
  {
   "cell_type": "markdown",
   "metadata": {},
   "source": [
    "# Step1: Get dataset"
   ]
  },
  {
   "cell_type": "code",
   "execution_count": 2,
   "metadata": {},
   "outputs": [],
   "source": [
    "reviews = pd.read_csv(\"../data/english_yep_reviews.csv\")"
   ]
  },
  {
   "cell_type": "markdown",
   "metadata": {},
   "source": [
    "# Step2: Count the words"
   ]
  },
  {
   "cell_type": "code",
   "execution_count": 3,
   "metadata": {},
   "outputs": [
    {
     "name": "stdout",
     "output_type": "stream",
     "text": [
      "['someon', 'ha', 'work', 'mani', 'museum', 'wa', 'eager', 'visit', 'thi', 'galleri']\n",
      "Top ten occuring words :  [('wa', 199857), ('thi', 86639), ('place', 55772), ('food', 53489), ('good', 50852), ('great', 44401), ('veri', 44062), ('time', 42695), ('get', 38251), ('would', 38160)]\n"
     ]
    }
   ],
   "source": [
    "all_reviews = list(reviews['cleaned'])\n",
    "all_text = \" \".join(all_reviews)\n",
    "all_words = all_text.split()\n",
    "print(all_words[0:10])\n",
    "\n",
    "# Count all the words using Counter Method\n",
    "count_words = Counter(all_words)\n",
    "total_words = len(all_words)\n",
    "sorted_words=count_words.most_common(total_words)\n",
    "print(\"Top ten occuring words : \", sorted_words[:10])"
   ]
  },
  {
   "cell_type": "markdown",
   "metadata": {},
   "source": [
    "# Step3: Create a dictionary"
   ]
  },
  {
   "cell_type": "code",
   "execution_count": 4,
   "metadata": {},
   "outputs": [],
   "source": [
    "# Create a dictionary\n",
    "# We will start createing dictionary with index 1 because 0 \n",
    "    # is reserved for padding\n",
    "\n",
    "vocab_to_int = {w: i+1 for i, (w, c) in enumerate(sorted_words)}"
   ]
  },
  {
   "cell_type": "markdown",
   "metadata": {},
   "source": [
    "# Step4: Encode the review data"
   ]
  },
  {
   "cell_type": "code",
   "execution_count": 5,
   "metadata": {},
   "outputs": [],
   "source": [
    "# Encode review\n",
    "encoded_reviews = list()\n",
    "for review in all_reviews:\n",
    "    encoded_review = list()\n",
    "    for word in review.split():\n",
    "        if word not in vocab_to_int.keys():\n",
    "            # if word is not available in vocab_to_int put 0 in that place\n",
    "            encoded_review.append(0)\n",
    "        else:\n",
    "            encoded_review.append(vocab_to_int[word])\n",
    "    encoded_reviews.append(encoded_review)"
   ]
  },
  {
   "cell_type": "markdown",
   "metadata": {},
   "source": [
    "# Step5: Make the encode_review of the same length"
   ]
  },
  {
   "cell_type": "code",
   "execution_count": 6,
   "metadata": {},
   "outputs": [],
   "source": [
    "# make all the encoded_review of the same length\n",
    "# this step will return features of review_ints,\n",
    "# where each review is padded with 0's or truncated to the input seq_length.\n",
    "# the longest review has 564 words\n",
    "# sequence_length is 100, but also could be 150, 200, 250 (here just for save energy)\n",
    "\n",
    "sequence_length = 100\n",
    "features = np.zeros((len(encoded_reviews), sequence_length), dtype=int)\n",
    "for i, review in enumerate(encoded_reviews):\n",
    "    review_len = len(review)\n",
    "    if review_len <= sequence_length:\n",
    "        zeros = list(np.zeros(sequence_length-review_len))\n",
    "        new = zeros+review\n",
    "    else:\n",
    "        new = review[:sequence_length]\n",
    "    features[i, :] = np.array(new)"
   ]
  },
  {
   "cell_type": "markdown",
   "metadata": {},
   "source": [
    "# Step6: Create labels"
   ]
  },
  {
   "cell_type": "code",
   "execution_count": 7,
   "metadata": {},
   "outputs": [],
   "source": [
    "# set labels, 0 negative, 1 neutral, 2 positive\n",
    "labels = list(reviews['Review_Labels'])"
   ]
  },
  {
   "cell_type": "markdown",
   "metadata": {},
   "source": [
    "# Step7: Split this feature data into Traning, Testing and Validation set"
   ]
  },
  {
   "cell_type": "code",
   "execution_count": 8,
   "metadata": {},
   "outputs": [
    {
     "name": "stdout",
     "output_type": "stream",
     "text": [
      "79999 10000 10000\n"
     ]
    }
   ],
   "source": [
    "# split this feature data into training and validation set\n",
    "# 80% training, 10% test and 10% validation dataset\n",
    "\n",
    "# However, for cpu running, set 10% of them\n",
    "# features = features[:int(0.5*len(features))]\n",
    "# labels = labels[:int(0.5*len(labels))]\n",
    "train_x = features[:int(0.8*len(features))]\n",
    "train_y = labels[:int(0.8*len(features))]\n",
    "valid_x = features[int(0.8*len(features)):int(0.9*len(features))]\n",
    "valid_y = labels[int(0.8*len(features)):int(0.9*len(features))]\n",
    "test_x = features[int(0.9*len(features)):]\n",
    "test_y = labels[int(0.9*len(features)):]\n",
    "print(len(train_y), len(valid_y), len(test_y))"
   ]
  },
  {
   "cell_type": "markdown",
   "metadata": {},
   "source": [
    "# Step8: Create DataLoader objects for Pytorch model"
   ]
  },
  {
   "cell_type": "code",
   "execution_count": 9,
   "metadata": {},
   "outputs": [],
   "source": [
    "import torch\n",
    "from torch.utils.data import DataLoader, TensorDataset\n",
    "\n",
    "#create Tensor Dataset\n",
    "train_data=TensorDataset(torch.FloatTensor(train_x), torch.FloatTensor(train_y))\n",
    "valid_data=TensorDataset(torch.FloatTensor(valid_x), torch.FloatTensor(valid_y))\n",
    "test_data=TensorDataset(torch.FloatTensor(test_x), torch.FloatTensor(test_y))\n",
    "\n",
    "#dataloader\n",
    "# remember to add drop_last=True, which will delete the last batch of the data if it's size is not equal to batch_size\n",
    "batch_size=400\n",
    "train_loader=DataLoader(train_data, batch_size=batch_size, shuffle=True, drop_last=True)\n",
    "valid_loader=DataLoader(valid_data, batch_size=batch_size, shuffle=True, drop_last=True)\n",
    "test_loader=DataLoader(test_data, batch_size=batch_size, shuffle=True, drop_last=True)"
   ]
  },
  {
   "cell_type": "markdown",
   "metadata": {},
   "source": [
    "# Step9: Analyze the dataloader data"
   ]
  },
  {
   "cell_type": "code",
   "execution_count": 10,
   "metadata": {},
   "outputs": [
    {
     "name": "stdout",
     "output_type": "stream",
     "text": [
      "Sample input size:  torch.Size([400, 100])\n",
      "Sample input: \n",
      " tensor([[0.0000e+00, 0.0000e+00, 0.0000e+00,  ..., 2.3350e+03, 5.4300e+02,\n",
      "         1.3600e+03],\n",
      "        [0.0000e+00, 0.0000e+00, 0.0000e+00,  ..., 6.0000e+00, 4.0000e+00,\n",
      "         1.2000e+01],\n",
      "        [0.0000e+00, 0.0000e+00, 0.0000e+00,  ..., 3.9000e+01, 1.5000e+02,\n",
      "         4.2000e+01],\n",
      "        ...,\n",
      "        [0.0000e+00, 0.0000e+00, 0.0000e+00,  ..., 8.8000e+01, 5.0000e+01,\n",
      "         1.4800e+02],\n",
      "        [0.0000e+00, 0.0000e+00, 0.0000e+00,  ..., 6.8000e+01, 6.0000e+00,\n",
      "         1.2000e+01],\n",
      "        [1.1630e+03, 1.6300e+03, 3.6200e+02,  ..., 9.0000e+00, 7.3890e+03,\n",
      "         1.7390e+03]])\n",
      "Sample label size:  torch.Size([400])\n",
      "Sample label: \n",
      " tensor([0., 2., 2., 2., 2., 2., 2., 2., 0., 2., 2., 0., 2., 0., 2., 0., 0., 2.,\n",
      "        2., 2., 1., 2., 2., 2., 2., 2., 0., 2., 2., 2., 2., 1., 2., 1., 1., 0.,\n",
      "        2., 2., 2., 2., 2., 2., 0., 2., 2., 2., 1., 0., 2., 2., 0., 2., 2., 2.,\n",
      "        2., 1., 2., 2., 2., 2., 0., 2., 2., 0., 2., 2., 2., 0., 1., 2., 2., 0.,\n",
      "        0., 0., 2., 2., 0., 0., 2., 2., 0., 2., 2., 2., 0., 0., 2., 2., 2., 0.,\n",
      "        0., 2., 2., 2., 2., 0., 2., 0., 2., 2., 2., 2., 2., 2., 2., 1., 2., 0.,\n",
      "        2., 2., 0., 2., 2., 0., 2., 2., 2., 2., 1., 2., 2., 1., 2., 2., 2., 2.,\n",
      "        1., 0., 0., 2., 2., 0., 2., 0., 1., 2., 2., 2., 2., 0., 1., 2., 2., 2.,\n",
      "        0., 2., 1., 2., 2., 0., 2., 2., 0., 2., 1., 0., 2., 2., 0., 0., 2., 2.,\n",
      "        2., 2., 2., 1., 2., 2., 2., 2., 2., 2., 0., 2., 2., 0., 2., 2., 2., 2.,\n",
      "        2., 2., 2., 2., 0., 2., 2., 2., 2., 0., 2., 2., 2., 2., 2., 2., 2., 2.,\n",
      "        0., 0., 2., 2., 2., 2., 2., 2., 2., 0., 0., 0., 2., 2., 2., 2., 2., 2.,\n",
      "        0., 2., 1., 2., 2., 2., 2., 2., 2., 2., 2., 0., 0., 2., 2., 0., 2., 2.,\n",
      "        2., 2., 2., 2., 2., 2., 2., 2., 2., 1., 1., 2., 1., 0., 2., 0., 2., 2.,\n",
      "        2., 2., 0., 2., 2., 2., 2., 2., 2., 0., 2., 2., 2., 2., 2., 2., 2., 1.,\n",
      "        2., 2., 2., 2., 2., 2., 1., 2., 2., 0., 2., 0., 2., 1., 0., 2., 1., 2.,\n",
      "        2., 2., 0., 0., 2., 0., 2., 2., 2., 2., 0., 2., 2., 0., 0., 2., 1., 2.,\n",
      "        0., 0., 2., 2., 2., 2., 2., 2., 2., 2., 2., 2., 2., 0., 2., 2., 2., 2.,\n",
      "        0., 2., 1., 2., 2., 2., 2., 0., 1., 0., 1., 0., 1., 0., 2., 2., 2., 2.,\n",
      "        1., 0., 0., 2., 2., 0., 2., 2., 2., 0., 2., 2., 0., 0., 1., 2., 2., 2.,\n",
      "        2., 2., 0., 0., 2., 2., 0., 2., 2., 1., 2., 2., 0., 2., 2., 1., 2., 2.,\n",
      "        2., 2., 2., 2., 2., 2., 0., 2., 2., 0., 2., 2., 2., 2., 2., 1., 2., 2.,\n",
      "        0., 1., 2., 2.])\n"
     ]
    }
   ],
   "source": [
    "# obtain one batch of training data\n",
    "dataiter = iter(train_loader)\n",
    "sample_x, sample_y = dataiter.next()\n",
    "print('Sample input size: ', sample_x.size()) # batch_size, seq_length\n",
    "print('Sample input: \\n', sample_x)\n",
    "print('Sample label size: ', sample_y.size()) # batch_size\n",
    "print('Sample label: \\n', sample_y)"
   ]
  },
  {
   "cell_type": "markdown",
   "metadata": {},
   "source": [
    "# Step10: Create an CNN model"
   ]
  },
  {
   "cell_type": "code",
   "execution_count": 11,
   "metadata": {},
   "outputs": [],
   "source": [
    "class CNN_Model(nn.Module):\n",
    "    def __init__(self, vocab_size, embed, num_filters, filter_size, num_classes, dropout):\n",
    "        super(CNN_Model, self).__init__()\n",
    "        \n",
    "        self.embedding = nn.Embedding(vocab_size, embed, padding_idx=vocab_size - 1)\n",
    "        self.convs = nn.ModuleList(\n",
    "                    [nn.Conv2d(1, num_filters, (k, embed)) for k in filter_sizes])\n",
    "        self.dropout = nn.Dropout(dropout)\n",
    "        self.fc = nn.Linear(num_filters * len(filter_sizes), num_classes)\n",
    "        \n",
    "    def conv_and_pool(self, x, conv):\n",
    "        x = F.relu(conv(x)).squeeze(3)\n",
    "        x = F.max_pool1d(x, x.size(2)).squeeze(2)\n",
    "        \n",
    "        return x\n",
    "    \n",
    "    def forward(self, x):\n",
    "#         print(x.shape)\n",
    "        out = self.embedding(x[0])\n",
    "#         print(out.shape)\n",
    "        out = out.unsqueeze(1)\n",
    "#         print(out.shape)\n",
    "        out = torch.cat([self.conv_and_pool(out, conv) for conv in self.convs], 1)\n",
    "#         print(out.shape)\n",
    "        out = self.dropout(out)\n",
    "#         print(out.shape)\n",
    "        out = self.fc(out)\n",
    "#         print(out.shape)\n",
    "        \n",
    "        return out"
   ]
  },
  {
   "cell_type": "markdown",
   "metadata": {},
   "source": [
    "# Step11: Initialize the CNN models"
   ]
  },
  {
   "cell_type": "code",
   "execution_count": 18,
   "metadata": {},
   "outputs": [
    {
     "name": "stdout",
     "output_type": "stream",
     "text": [
      "CNN_Model(\n",
      "  (embedding): Embedding(77398, 300, padding_idx=77397)\n",
      "  (convs): ModuleList(\n",
      "    (0): Conv2d(1, 256, kernel_size=(2, 300), stride=(1, 1))\n",
      "    (1): Conv2d(1, 256, kernel_size=(3, 300), stride=(1, 1))\n",
      "    (2): Conv2d(1, 256, kernel_size=(4, 300), stride=(1, 1))\n",
      "    (3): Conv2d(1, 256, kernel_size=(5, 300), stride=(1, 1))\n",
      "  )\n",
      "  (dropout): Dropout(p=0.5, inplace=False)\n",
      "  (fc): Linear(in_features=1024, out_features=3, bias=True)\n",
      ")\n"
     ]
    }
   ],
   "source": [
    "vocab_size = len(vocab_to_int) + 1\n",
    "embed = 300\n",
    "filter_sizes = (2, 3, 4, 5)\n",
    "num_filters = 256\n",
    "num_classes = 3\n",
    "dropout = 0.5\n",
    "\n",
    "model_cnn = CNN_Model(vocab_size, embed, num_filters, filter_sizes, num_classes, dropout)\n",
    "print(model_cnn)"
   ]
  },
  {
   "cell_type": "markdown",
   "metadata": {},
   "source": [
    "# Step12: Train the model"
   ]
  },
  {
   "cell_type": "code",
   "execution_count": 21,
   "metadata": {},
   "outputs": [],
   "source": [
    "def train_cnn(epoch, model):\n",
    "    lr = 0.001  # learning rate\n",
    "    model.train()\n",
    "    optimizer = torch.optim.Adam(model.parameters(), lr=lr, weight_decay=0.001)\n",
    "    total_batch = 0\n",
    "    train_loss = 0\n",
    "    result_train_dict = {}\n",
    "    result_valid_dict = {}\n",
    "    epoch_train_list = []\n",
    "    epoch_valid_list = []\n",
    "    batch_train_list = []\n",
    "    batch_valid_list = []\n",
    "    loss_train_list = []\n",
    "    loss_valid_list = []\n",
    "    acc_train_list = []\n",
    "    acc_valid_list = []\n",
    "    f1_train_list = []\n",
    "    f1_valid_list = []\n",
    "    recall_train_list = []\n",
    "    recall_valid_list = []\n",
    "    \n",
    "    for batch_idx, (trains, labels) in enumerate(train_loader):\n",
    "        \n",
    "        outputs = model(trains.long()[None, ...])\n",
    "        model.zero_grad()\n",
    "        loss = F.cross_entropy(outputs, labels.long())\n",
    "        loss.backward()\n",
    "        optimizer.step()\n",
    "        train_loss += loss.item()\n",
    "        \n",
    "        \n",
    "        true = labels.data.cpu()\n",
    "        predic = torch.max(outputs.data, 1)[1].cpu()\n",
    "        train_acc = metrics.accuracy_score(true, predic)\n",
    "        train_f1 = metrics.f1_score(true, predic, average='micro')\n",
    "        train_recall = metrics.recall_score(true, predic, average='micro')\n",
    "        train_loss_value = train_loss/(batch_idx+1)\n",
    "        \n",
    "        epoch_train_list.append(epoch)\n",
    "        batch_train_list.append(batch_idx)\n",
    "        loss_train_list.append(train_loss_value)\n",
    "        acc_train_list.append(train_acc)\n",
    "        f1_train_list.append(train_f1)\n",
    "        recall_train_list.append(train_recall)\n",
    "        \n",
    "        if total_batch % 20 == 0 :\n",
    "            \n",
    "            for trains, labels in valid_loader:\n",
    "                outputs = model(trains.long()[None, ...])\n",
    "                valid_loss = F.cross_entropy(outputs, labels.long())\n",
    "                true = labels.data.cpu()\n",
    "                predic = torch.max(outputs.data, 1)[1].cpu()\n",
    "                valid_acc = metrics.accuracy_score(true, predic)\n",
    "                valid_f1 = metrics.f1_score(true, predic, average='micro')\n",
    "                valid_recall = metrics.recall_score(true, predic, average='micro')\n",
    "                \n",
    "                epoch_valid_list.append(epoch)\n",
    "                batch_valid_list.append(batch_idx)\n",
    "                loss_valid_list.append(valid_loss.item())\n",
    "                acc_valid_list.append(valid_acc)\n",
    "                f1_valid_list.append(valid_f1)\n",
    "                recall_valid_list.append(valid_recall)\n",
    "                \n",
    "                avg_acc_valid = np.array(acc_valid_list).mean()\n",
    "                avg_loss_valid = np.array(loss_valid_list).mean()\n",
    "                \n",
    "            print('epoch: {}'.format(epoch), 'batch: {}'.format(batch_idx), \n",
    "                  'total train loader: {}'.format(len(train_loader)),\n",
    "                  'T_Loss: %.3f | T_Acc: %.3f |' % (train_loss_value, train_acc),\n",
    "                  'T_f1: %.3f | T_recall: %.3f ||' % (train_f1, train_recall),\n",
    "                  'V_Loss: %.3f | V_Acc: %.3f' % (avg_loss_valid, avg_acc_valid),\n",
    "                  'V_f1: %.3f | V_recall: %.3f' % (valid_f1, valid_recall))\n",
    "            \n",
    "        total_batch += 1\n",
    "        \n",
    "    result_train_dict['epoch'] = epoch_train_list\n",
    "    result_train_dict['batch'] = batch_train_list\n",
    "    result_train_dict['loss'] = loss_train_list\n",
    "    result_train_dict['acc'] = acc_train_list\n",
    "    result_train_dict['f1'] = f1_train_list\n",
    "    result_train_dict['recall'] = recall_train_list\n",
    "    \n",
    "    result_valid_dict['epoch'] = epoch_valid_list\n",
    "    result_valid_dict['batch'] = batch_valid_list\n",
    "    result_valid_dict['loss'] = loss_valid_list\n",
    "    result_valid_dict['acc'] = acc_valid_list\n",
    "    result_valid_dict['f1'] = f1_valid_list\n",
    "    result_valid_dict['recall'] = recall_valid_list\n",
    "\n",
    "    pd_train = pd.DataFrame(result_train_dict)\n",
    "    pd_valid = pd.DataFrame(result_valid_dict)\n",
    "    \n",
    "    return pd_train, pd_valid"
   ]
  },
  {
   "cell_type": "markdown",
   "metadata": {},
   "source": [
    "## Step12-1. CNN model"
   ]
  },
  {
   "cell_type": "code",
   "execution_count": 22,
   "metadata": {},
   "outputs": [
    {
     "name": "stdout",
     "output_type": "stream",
     "text": [
      "epoch: 0 batch: 0 total train loader: 199 T_Loss: 1.283 | T_Acc: 0.680 | T_f1: 0.680 | T_recall: 0.680 || V_Loss: 1.199 | V_Acc: 0.391 V_f1: 0.395 | V_recall: 0.395\n",
      "epoch: 0 batch: 20 total train loader: 199 T_Loss: 0.844 | T_Acc: 0.703 | T_f1: 0.703 | T_recall: 0.703 || V_Loss: 0.935 | V_Acc: 0.562 V_f1: 0.725 | V_recall: 0.725\n",
      "epoch: 0 batch: 40 total train loader: 199 T_Loss: 0.754 | T_Acc: 0.730 | T_f1: 0.730 | T_recall: 0.730 || V_Loss: 0.825 | V_Acc: 0.630 V_f1: 0.785 | V_recall: 0.785\n",
      "epoch: 0 batch: 60 total train loader: 199 T_Loss: 0.704 | T_Acc: 0.792 | T_f1: 0.792 | T_recall: 0.792 || V_Loss: 0.763 | V_Acc: 0.665 V_f1: 0.767 | V_recall: 0.767\n",
      "epoch: 0 batch: 80 total train loader: 199 T_Loss: 0.671 | T_Acc: 0.745 | T_f1: 0.745 | T_recall: 0.745 || V_Loss: 0.719 | V_Acc: 0.689 V_f1: 0.802 | V_recall: 0.802\n",
      "epoch: 0 batch: 100 total train loader: 199 T_Loss: 0.648 | T_Acc: 0.800 | T_f1: 0.800 | T_recall: 0.800 || V_Loss: 0.688 | V_Acc: 0.707 V_f1: 0.792 | V_recall: 0.792\n",
      "epoch: 0 batch: 120 total train loader: 199 T_Loss: 0.628 | T_Acc: 0.797 | T_f1: 0.797 | T_recall: 0.797 || V_Loss: 0.665 | V_Acc: 0.719 V_f1: 0.787 | V_recall: 0.787\n",
      "epoch: 0 batch: 140 total train loader: 199 T_Loss: 0.613 | T_Acc: 0.800 | T_f1: 0.800 | T_recall: 0.800 || V_Loss: 0.646 | V_Acc: 0.729 V_f1: 0.765 | V_recall: 0.765\n",
      "epoch: 0 batch: 160 total train loader: 199 T_Loss: 0.598 | T_Acc: 0.797 | T_f1: 0.797 | T_recall: 0.797 || V_Loss: 0.629 | V_Acc: 0.737 V_f1: 0.807 | V_recall: 0.807\n",
      "epoch: 0 batch: 180 total train loader: 199 T_Loss: 0.588 | T_Acc: 0.815 | T_f1: 0.815 | T_recall: 0.815 || V_Loss: 0.616 | V_Acc: 0.745 V_f1: 0.787 | V_recall: 0.787\n",
      "epoch: 1 batch: 0 total train loader: 199 T_Loss: 0.453 | T_Acc: 0.828 | T_f1: 0.828 | T_recall: 0.828 || V_Loss: 0.772 | V_Acc: 0.683 V_f1: 0.670 | V_recall: 0.670\n",
      "epoch: 1 batch: 20 total train loader: 199 T_Loss: 0.524 | T_Acc: 0.848 | T_f1: 0.848 | T_recall: 0.848 || V_Loss: 0.631 | V_Acc: 0.745 V_f1: 0.812 | V_recall: 0.812\n",
      "epoch: 1 batch: 40 total train loader: 199 T_Loss: 0.496 | T_Acc: 0.825 | T_f1: 0.825 | T_recall: 0.825 || V_Loss: 0.582 | V_Acc: 0.767 V_f1: 0.830 | V_recall: 0.830\n",
      "epoch: 1 batch: 60 total train loader: 199 T_Loss: 0.489 | T_Acc: 0.818 | T_f1: 0.818 | T_recall: 0.818 || V_Loss: 0.559 | V_Acc: 0.777 V_f1: 0.775 | V_recall: 0.775\n",
      "epoch: 1 batch: 80 total train loader: 199 T_Loss: 0.485 | T_Acc: 0.815 | T_f1: 0.815 | T_recall: 0.815 || V_Loss: 0.543 | V_Acc: 0.784 V_f1: 0.787 | V_recall: 0.787\n",
      "epoch: 1 batch: 100 total train loader: 199 T_Loss: 0.480 | T_Acc: 0.787 | T_f1: 0.787 | T_recall: 0.787 || V_Loss: 0.531 | V_Acc: 0.789 V_f1: 0.800 | V_recall: 0.800\n",
      "epoch: 1 batch: 120 total train loader: 199 T_Loss: 0.475 | T_Acc: 0.807 | T_f1: 0.807 | T_recall: 0.807 || V_Loss: 0.523 | V_Acc: 0.793 V_f1: 0.843 | V_recall: 0.843\n",
      "epoch: 1 batch: 140 total train loader: 199 T_Loss: 0.473 | T_Acc: 0.830 | T_f1: 0.830 | T_recall: 0.830 || V_Loss: 0.517 | V_Acc: 0.796 V_f1: 0.848 | V_recall: 0.848\n",
      "epoch: 1 batch: 160 total train loader: 199 T_Loss: 0.472 | T_Acc: 0.782 | T_f1: 0.782 | T_recall: 0.782 || V_Loss: 0.512 | V_Acc: 0.799 V_f1: 0.830 | V_recall: 0.830\n",
      "epoch: 1 batch: 180 total train loader: 199 T_Loss: 0.471 | T_Acc: 0.805 | T_f1: 0.805 | T_recall: 0.805 || V_Loss: 0.507 | V_Acc: 0.801 V_f1: 0.843 | V_recall: 0.843\n",
      "epoch: 2 batch: 0 total train loader: 199 T_Loss: 0.375 | T_Acc: 0.863 | T_f1: 0.863 | T_recall: 0.863 || V_Loss: 0.484 | V_Acc: 0.810 V_f1: 0.820 | V_recall: 0.820\n",
      "epoch: 2 batch: 20 total train loader: 199 T_Loss: 0.427 | T_Acc: 0.820 | T_f1: 0.820 | T_recall: 0.820 || V_Loss: 0.477 | V_Acc: 0.816 V_f1: 0.812 | V_recall: 0.812\n",
      "epoch: 2 batch: 40 total train loader: 199 T_Loss: 0.427 | T_Acc: 0.825 | T_f1: 0.825 | T_recall: 0.825 || V_Loss: 0.480 | V_Acc: 0.815 V_f1: 0.833 | V_recall: 0.833\n",
      "epoch: 2 batch: 60 total train loader: 199 T_Loss: 0.428 | T_Acc: 0.815 | T_f1: 0.815 | T_recall: 0.815 || V_Loss: 0.476 | V_Acc: 0.816 V_f1: 0.802 | V_recall: 0.802\n",
      "epoch: 2 batch: 80 total train loader: 199 T_Loss: 0.432 | T_Acc: 0.797 | T_f1: 0.797 | T_recall: 0.797 || V_Loss: 0.474 | V_Acc: 0.816 V_f1: 0.820 | V_recall: 0.820\n",
      "epoch: 2 batch: 100 total train loader: 199 T_Loss: 0.435 | T_Acc: 0.815 | T_f1: 0.815 | T_recall: 0.815 || V_Loss: 0.474 | V_Acc: 0.816 V_f1: 0.797 | V_recall: 0.797\n",
      "epoch: 2 batch: 120 total train loader: 199 T_Loss: 0.438 | T_Acc: 0.815 | T_f1: 0.815 | T_recall: 0.815 || V_Loss: 0.476 | V_Acc: 0.815 V_f1: 0.757 | V_recall: 0.757\n",
      "epoch: 2 batch: 140 total train loader: 199 T_Loss: 0.442 | T_Acc: 0.840 | T_f1: 0.840 | T_recall: 0.840 || V_Loss: 0.475 | V_Acc: 0.815 V_f1: 0.823 | V_recall: 0.823\n",
      "epoch: 2 batch: 160 total train loader: 199 T_Loss: 0.443 | T_Acc: 0.835 | T_f1: 0.835 | T_recall: 0.835 || V_Loss: 0.473 | V_Acc: 0.816 V_f1: 0.820 | V_recall: 0.820\n",
      "epoch: 2 batch: 180 total train loader: 199 T_Loss: 0.443 | T_Acc: 0.833 | T_f1: 0.833 | T_recall: 0.833 || V_Loss: 0.472 | V_Acc: 0.816 V_f1: 0.820 | V_recall: 0.820\n",
      "epoch: 3 batch: 0 total train loader: 199 T_Loss: 0.438 | T_Acc: 0.830 | T_f1: 0.830 | T_recall: 0.830 || V_Loss: 0.586 | V_Acc: 0.763 V_f1: 0.750 | V_recall: 0.750\n",
      "epoch: 3 batch: 20 total train loader: 199 T_Loss: 0.424 | T_Acc: 0.850 | T_f1: 0.850 | T_recall: 0.850 || V_Loss: 0.524 | V_Acc: 0.791 V_f1: 0.830 | V_recall: 0.830\n",
      "epoch: 3 batch: 40 total train loader: 199 T_Loss: 0.424 | T_Acc: 0.833 | T_f1: 0.833 | T_recall: 0.833 || V_Loss: 0.502 | V_Acc: 0.802 V_f1: 0.825 | V_recall: 0.825\n",
      "epoch: 3 batch: 60 total train loader: 199 T_Loss: 0.422 | T_Acc: 0.863 | T_f1: 0.863 | T_recall: 0.863 || V_Loss: 0.492 | V_Acc: 0.806 V_f1: 0.800 | V_recall: 0.800\n",
      "epoch: 3 batch: 80 total train loader: 199 T_Loss: 0.422 | T_Acc: 0.838 | T_f1: 0.838 | T_recall: 0.838 || V_Loss: 0.485 | V_Acc: 0.809 V_f1: 0.825 | V_recall: 0.825\n",
      "epoch: 3 batch: 100 total train loader: 199 T_Loss: 0.423 | T_Acc: 0.825 | T_f1: 0.825 | T_recall: 0.825 || V_Loss: 0.481 | V_Acc: 0.812 V_f1: 0.810 | V_recall: 0.810\n",
      "epoch: 3 batch: 120 total train loader: 199 T_Loss: 0.422 | T_Acc: 0.853 | T_f1: 0.853 | T_recall: 0.853 || V_Loss: 0.478 | V_Acc: 0.813 V_f1: 0.790 | V_recall: 0.790\n",
      "epoch: 3 batch: 140 total train loader: 199 T_Loss: 0.422 | T_Acc: 0.823 | T_f1: 0.823 | T_recall: 0.823 || V_Loss: 0.475 | V_Acc: 0.815 V_f1: 0.818 | V_recall: 0.818\n",
      "epoch: 3 batch: 160 total train loader: 199 T_Loss: 0.422 | T_Acc: 0.805 | T_f1: 0.805 | T_recall: 0.805 || V_Loss: 0.472 | V_Acc: 0.816 V_f1: 0.800 | V_recall: 0.800\n",
      "epoch: 3 batch: 180 total train loader: 199 T_Loss: 0.424 | T_Acc: 0.830 | T_f1: 0.830 | T_recall: 0.830 || V_Loss: 0.471 | V_Acc: 0.817 V_f1: 0.807 | V_recall: 0.807\n",
      "epoch: 4 batch: 0 total train loader: 199 T_Loss: 0.344 | T_Acc: 0.882 | T_f1: 0.882 | T_recall: 0.882 || V_Loss: 0.482 | V_Acc: 0.819 V_f1: 0.815 | V_recall: 0.815\n",
      "epoch: 4 batch: 20 total train loader: 199 T_Loss: 0.390 | T_Acc: 0.880 | T_f1: 0.880 | T_recall: 0.880 || V_Loss: 0.471 | V_Acc: 0.819 V_f1: 0.833 | V_recall: 0.833\n",
      "epoch: 4 batch: 40 total train loader: 199 T_Loss: 0.393 | T_Acc: 0.840 | T_f1: 0.840 | T_recall: 0.840 || V_Loss: 0.468 | V_Acc: 0.819 V_f1: 0.828 | V_recall: 0.828\n",
      "epoch: 4 batch: 60 total train loader: 199 T_Loss: 0.399 | T_Acc: 0.858 | T_f1: 0.858 | T_recall: 0.858 || V_Loss: 0.466 | V_Acc: 0.821 V_f1: 0.840 | V_recall: 0.840\n",
      "epoch: 4 batch: 80 total train loader: 199 T_Loss: 0.402 | T_Acc: 0.843 | T_f1: 0.843 | T_recall: 0.843 || V_Loss: 0.466 | V_Acc: 0.820 V_f1: 0.820 | V_recall: 0.820\n",
      "epoch: 4 batch: 100 total train loader: 199 T_Loss: 0.405 | T_Acc: 0.830 | T_f1: 0.830 | T_recall: 0.830 || V_Loss: 0.464 | V_Acc: 0.821 V_f1: 0.782 | V_recall: 0.782\n",
      "epoch: 4 batch: 120 total train loader: 199 T_Loss: 0.409 | T_Acc: 0.838 | T_f1: 0.838 | T_recall: 0.838 || V_Loss: 0.462 | V_Acc: 0.821 V_f1: 0.815 | V_recall: 0.815\n",
      "epoch: 4 batch: 140 total train loader: 199 T_Loss: 0.412 | T_Acc: 0.858 | T_f1: 0.858 | T_recall: 0.858 || V_Loss: 0.461 | V_Acc: 0.822 V_f1: 0.823 | V_recall: 0.823\n",
      "epoch: 4 batch: 160 total train loader: 199 T_Loss: 0.412 | T_Acc: 0.850 | T_f1: 0.850 | T_recall: 0.850 || V_Loss: 0.460 | V_Acc: 0.822 V_f1: 0.815 | V_recall: 0.815\n",
      "epoch: 4 batch: 180 total train loader: 199 T_Loss: 0.413 | T_Acc: 0.840 | T_f1: 0.840 | T_recall: 0.840 || V_Loss: 0.459 | V_Acc: 0.822 V_f1: 0.828 | V_recall: 0.828\n"
     ]
    },
    {
     "name": "stdout",
     "output_type": "stream",
     "text": [
      "epoch: 5 batch: 0 total train loader: 199 T_Loss: 0.364 | T_Acc: 0.875 | T_f1: 0.875 | T_recall: 0.875 || V_Loss: 0.468 | V_Acc: 0.823 V_f1: 0.820 | V_recall: 0.820\n",
      "epoch: 5 batch: 20 total train loader: 199 T_Loss: 0.370 | T_Acc: 0.848 | T_f1: 0.848 | T_recall: 0.848 || V_Loss: 0.460 | V_Acc: 0.826 V_f1: 0.818 | V_recall: 0.818\n",
      "epoch: 5 batch: 40 total train loader: 199 T_Loss: 0.386 | T_Acc: 0.823 | T_f1: 0.823 | T_recall: 0.823 || V_Loss: 0.457 | V_Acc: 0.825 V_f1: 0.828 | V_recall: 0.828\n",
      "epoch: 5 batch: 60 total train loader: 199 T_Loss: 0.391 | T_Acc: 0.815 | T_f1: 0.815 | T_recall: 0.815 || V_Loss: 0.457 | V_Acc: 0.825 V_f1: 0.830 | V_recall: 0.830\n",
      "epoch: 5 batch: 80 total train loader: 199 T_Loss: 0.390 | T_Acc: 0.863 | T_f1: 0.863 | T_recall: 0.863 || V_Loss: 0.455 | V_Acc: 0.826 V_f1: 0.840 | V_recall: 0.840\n",
      "epoch: 5 batch: 100 total train loader: 199 T_Loss: 0.393 | T_Acc: 0.828 | T_f1: 0.828 | T_recall: 0.828 || V_Loss: 0.454 | V_Acc: 0.825 V_f1: 0.785 | V_recall: 0.785\n",
      "epoch: 5 batch: 120 total train loader: 199 T_Loss: 0.397 | T_Acc: 0.840 | T_f1: 0.840 | T_recall: 0.840 || V_Loss: 0.453 | V_Acc: 0.825 V_f1: 0.802 | V_recall: 0.802\n",
      "epoch: 5 batch: 140 total train loader: 199 T_Loss: 0.400 | T_Acc: 0.823 | T_f1: 0.823 | T_recall: 0.823 || V_Loss: 0.452 | V_Acc: 0.825 V_f1: 0.777 | V_recall: 0.777\n",
      "epoch: 5 batch: 160 total train loader: 199 T_Loss: 0.403 | T_Acc: 0.830 | T_f1: 0.830 | T_recall: 0.830 || V_Loss: 0.452 | V_Acc: 0.826 V_f1: 0.840 | V_recall: 0.840\n",
      "epoch: 5 batch: 180 total train loader: 199 T_Loss: 0.404 | T_Acc: 0.830 | T_f1: 0.830 | T_recall: 0.830 || V_Loss: 0.451 | V_Acc: 0.826 V_f1: 0.812 | V_recall: 0.812\n",
      "epoch: 6 batch: 0 total train loader: 199 T_Loss: 0.383 | T_Acc: 0.840 | T_f1: 0.840 | T_recall: 0.840 || V_Loss: 0.449 | V_Acc: 0.828 V_f1: 0.848 | V_recall: 0.848\n",
      "epoch: 6 batch: 20 total train loader: 199 T_Loss: 0.368 | T_Acc: 0.863 | T_f1: 0.863 | T_recall: 0.863 || V_Loss: 0.452 | V_Acc: 0.826 V_f1: 0.767 | V_recall: 0.767\n",
      "epoch: 6 batch: 40 total train loader: 199 T_Loss: 0.371 | T_Acc: 0.825 | T_f1: 0.825 | T_recall: 0.825 || V_Loss: 0.449 | V_Acc: 0.827 V_f1: 0.835 | V_recall: 0.835\n",
      "epoch: 6 batch: 60 total train loader: 199 T_Loss: 0.378 | T_Acc: 0.875 | T_f1: 0.875 | T_recall: 0.875 || V_Loss: 0.449 | V_Acc: 0.826 V_f1: 0.835 | V_recall: 0.835\n",
      "epoch: 6 batch: 80 total train loader: 199 T_Loss: 0.384 | T_Acc: 0.825 | T_f1: 0.825 | T_recall: 0.825 || V_Loss: 0.447 | V_Acc: 0.827 V_f1: 0.825 | V_recall: 0.825\n",
      "epoch: 6 batch: 100 total train loader: 199 T_Loss: 0.386 | T_Acc: 0.843 | T_f1: 0.843 | T_recall: 0.843 || V_Loss: 0.445 | V_Acc: 0.828 V_f1: 0.840 | V_recall: 0.840\n",
      "epoch: 6 batch: 120 total train loader: 199 T_Loss: 0.388 | T_Acc: 0.848 | T_f1: 0.848 | T_recall: 0.848 || V_Loss: 0.444 | V_Acc: 0.828 V_f1: 0.835 | V_recall: 0.835\n",
      "epoch: 6 batch: 140 total train loader: 199 T_Loss: 0.389 | T_Acc: 0.823 | T_f1: 0.823 | T_recall: 0.823 || V_Loss: 0.444 | V_Acc: 0.828 V_f1: 0.848 | V_recall: 0.848\n",
      "epoch: 6 batch: 160 total train loader: 199 T_Loss: 0.391 | T_Acc: 0.838 | T_f1: 0.838 | T_recall: 0.838 || V_Loss: 0.444 | V_Acc: 0.828 V_f1: 0.850 | V_recall: 0.850\n",
      "epoch: 6 batch: 180 total train loader: 199 T_Loss: 0.394 | T_Acc: 0.850 | T_f1: 0.850 | T_recall: 0.850 || V_Loss: 0.443 | V_Acc: 0.829 V_f1: 0.825 | V_recall: 0.825\n",
      "epoch: 7 batch: 0 total train loader: 199 T_Loss: 0.302 | T_Acc: 0.895 | T_f1: 0.895 | T_recall: 0.895 || V_Loss: 0.436 | V_Acc: 0.828 V_f1: 0.825 | V_recall: 0.825\n",
      "epoch: 7 batch: 20 total train loader: 199 T_Loss: 0.359 | T_Acc: 0.850 | T_f1: 0.850 | T_recall: 0.850 || V_Loss: 0.437 | V_Acc: 0.829 V_f1: 0.828 | V_recall: 0.828\n",
      "epoch: 7 batch: 40 total train loader: 199 T_Loss: 0.364 | T_Acc: 0.838 | T_f1: 0.838 | T_recall: 0.838 || V_Loss: 0.436 | V_Acc: 0.829 V_f1: 0.818 | V_recall: 0.818\n",
      "epoch: 7 batch: 60 total train loader: 199 T_Loss: 0.366 | T_Acc: 0.838 | T_f1: 0.838 | T_recall: 0.838 || V_Loss: 0.436 | V_Acc: 0.829 V_f1: 0.823 | V_recall: 0.823\n",
      "epoch: 7 batch: 80 total train loader: 199 T_Loss: 0.370 | T_Acc: 0.860 | T_f1: 0.860 | T_recall: 0.860 || V_Loss: 0.435 | V_Acc: 0.830 V_f1: 0.805 | V_recall: 0.805\n",
      "epoch: 7 batch: 100 total train loader: 199 T_Loss: 0.373 | T_Acc: 0.858 | T_f1: 0.858 | T_recall: 0.858 || V_Loss: 0.435 | V_Acc: 0.830 V_f1: 0.802 | V_recall: 0.802\n",
      "epoch: 7 batch: 120 total train loader: 199 T_Loss: 0.376 | T_Acc: 0.863 | T_f1: 0.863 | T_recall: 0.863 || V_Loss: 0.436 | V_Acc: 0.829 V_f1: 0.825 | V_recall: 0.825\n",
      "epoch: 7 batch: 140 total train loader: 199 T_Loss: 0.380 | T_Acc: 0.853 | T_f1: 0.853 | T_recall: 0.853 || V_Loss: 0.435 | V_Acc: 0.829 V_f1: 0.815 | V_recall: 0.815\n",
      "epoch: 7 batch: 160 total train loader: 199 T_Loss: 0.381 | T_Acc: 0.828 | T_f1: 0.828 | T_recall: 0.828 || V_Loss: 0.436 | V_Acc: 0.830 V_f1: 0.818 | V_recall: 0.818\n",
      "epoch: 7 batch: 180 total train loader: 199 T_Loss: 0.383 | T_Acc: 0.868 | T_f1: 0.868 | T_recall: 0.868 || V_Loss: 0.435 | V_Acc: 0.830 V_f1: 0.853 | V_recall: 0.853\n",
      "epoch: 8 batch: 0 total train loader: 199 T_Loss: 0.367 | T_Acc: 0.882 | T_f1: 0.882 | T_recall: 0.882 || V_Loss: 0.431 | V_Acc: 0.833 V_f1: 0.812 | V_recall: 0.812\n",
      "epoch: 8 batch: 20 total train loader: 199 T_Loss: 0.356 | T_Acc: 0.877 | T_f1: 0.877 | T_recall: 0.877 || V_Loss: 0.432 | V_Acc: 0.833 V_f1: 0.815 | V_recall: 0.815\n",
      "epoch: 8 batch: 40 total train loader: 199 T_Loss: 0.359 | T_Acc: 0.873 | T_f1: 0.873 | T_recall: 0.873 || V_Loss: 0.430 | V_Acc: 0.835 V_f1: 0.845 | V_recall: 0.845\n",
      "epoch: 8 batch: 60 total train loader: 199 T_Loss: 0.364 | T_Acc: 0.882 | T_f1: 0.882 | T_recall: 0.882 || V_Loss: 0.428 | V_Acc: 0.836 V_f1: 0.835 | V_recall: 0.835\n",
      "epoch: 8 batch: 80 total train loader: 199 T_Loss: 0.363 | T_Acc: 0.853 | T_f1: 0.853 | T_recall: 0.853 || V_Loss: 0.428 | V_Acc: 0.835 V_f1: 0.840 | V_recall: 0.840\n",
      "epoch: 8 batch: 100 total train loader: 199 T_Loss: 0.368 | T_Acc: 0.833 | T_f1: 0.833 | T_recall: 0.833 || V_Loss: 0.428 | V_Acc: 0.835 V_f1: 0.828 | V_recall: 0.828\n",
      "epoch: 8 batch: 120 total train loader: 199 T_Loss: 0.370 | T_Acc: 0.853 | T_f1: 0.853 | T_recall: 0.853 || V_Loss: 0.428 | V_Acc: 0.835 V_f1: 0.843 | V_recall: 0.843\n",
      "epoch: 8 batch: 140 total train loader: 199 T_Loss: 0.371 | T_Acc: 0.868 | T_f1: 0.868 | T_recall: 0.868 || V_Loss: 0.427 | V_Acc: 0.835 V_f1: 0.843 | V_recall: 0.843\n",
      "epoch: 8 batch: 160 total train loader: 199 T_Loss: 0.373 | T_Acc: 0.855 | T_f1: 0.855 | T_recall: 0.855 || V_Loss: 0.427 | V_Acc: 0.835 V_f1: 0.858 | V_recall: 0.858\n",
      "epoch: 8 batch: 180 total train loader: 199 T_Loss: 0.376 | T_Acc: 0.853 | T_f1: 0.853 | T_recall: 0.853 || V_Loss: 0.426 | V_Acc: 0.835 V_f1: 0.850 | V_recall: 0.850\n",
      "epoch: 9 batch: 0 total train loader: 199 T_Loss: 0.402 | T_Acc: 0.833 | T_f1: 0.833 | T_recall: 0.833 || V_Loss: 0.419 | V_Acc: 0.838 V_f1: 0.848 | V_recall: 0.848\n",
      "epoch: 9 batch: 20 total train loader: 199 T_Loss: 0.350 | T_Acc: 0.873 | T_f1: 0.873 | T_recall: 0.873 || V_Loss: 0.423 | V_Acc: 0.837 V_f1: 0.818 | V_recall: 0.818\n",
      "epoch: 9 batch: 40 total train loader: 199 T_Loss: 0.357 | T_Acc: 0.853 | T_f1: 0.853 | T_recall: 0.853 || V_Loss: 0.424 | V_Acc: 0.835 V_f1: 0.825 | V_recall: 0.825\n",
      "epoch: 9 batch: 60 total train loader: 199 T_Loss: 0.361 | T_Acc: 0.840 | T_f1: 0.840 | T_recall: 0.840 || V_Loss: 0.424 | V_Acc: 0.836 V_f1: 0.840 | V_recall: 0.840\n",
      "epoch: 9 batch: 80 total train loader: 199 T_Loss: 0.364 | T_Acc: 0.863 | T_f1: 0.863 | T_recall: 0.863 || V_Loss: 0.423 | V_Acc: 0.836 V_f1: 0.853 | V_recall: 0.853\n",
      "epoch: 9 batch: 100 total train loader: 199 T_Loss: 0.363 | T_Acc: 0.850 | T_f1: 0.850 | T_recall: 0.850 || V_Loss: 0.422 | V_Acc: 0.836 V_f1: 0.823 | V_recall: 0.823\n",
      "epoch: 9 batch: 120 total train loader: 199 T_Loss: 0.364 | T_Acc: 0.850 | T_f1: 0.850 | T_recall: 0.850 || V_Loss: 0.421 | V_Acc: 0.837 V_f1: 0.828 | V_recall: 0.828\n",
      "epoch: 9 batch: 140 total train loader: 199 T_Loss: 0.366 | T_Acc: 0.860 | T_f1: 0.860 | T_recall: 0.860 || V_Loss: 0.420 | V_Acc: 0.837 V_f1: 0.873 | V_recall: 0.873\n",
      "epoch: 9 batch: 160 total train loader: 199 T_Loss: 0.368 | T_Acc: 0.843 | T_f1: 0.843 | T_recall: 0.843 || V_Loss: 0.420 | V_Acc: 0.838 V_f1: 0.860 | V_recall: 0.860\n",
      "epoch: 9 batch: 180 total train loader: 199 T_Loss: 0.369 | T_Acc: 0.843 | T_f1: 0.843 | T_recall: 0.843 || V_Loss: 0.420 | V_Acc: 0.838 V_f1: 0.863 | V_recall: 0.863\n"
     ]
    },
    {
     "name": "stdout",
     "output_type": "stream",
     "text": [
      "epoch: 10 batch: 0 total train loader: 199 T_Loss: 0.291 | T_Acc: 0.880 | T_f1: 0.880 | T_recall: 0.880 || V_Loss: 0.413 | V_Acc: 0.838 V_f1: 0.853 | V_recall: 0.853\n",
      "epoch: 10 batch: 20 total train loader: 199 T_Loss: 0.343 | T_Acc: 0.895 | T_f1: 0.895 | T_recall: 0.895 || V_Loss: 0.416 | V_Acc: 0.837 V_f1: 0.843 | V_recall: 0.843\n",
      "epoch: 10 batch: 40 total train loader: 199 T_Loss: 0.352 | T_Acc: 0.815 | T_f1: 0.815 | T_recall: 0.815 || V_Loss: 0.415 | V_Acc: 0.838 V_f1: 0.838 | V_recall: 0.838\n",
      "epoch: 10 batch: 60 total train loader: 199 T_Loss: 0.355 | T_Acc: 0.853 | T_f1: 0.853 | T_recall: 0.853 || V_Loss: 0.415 | V_Acc: 0.838 V_f1: 0.833 | V_recall: 0.833\n",
      "epoch: 10 batch: 80 total train loader: 199 T_Loss: 0.357 | T_Acc: 0.853 | T_f1: 0.853 | T_recall: 0.853 || V_Loss: 0.414 | V_Acc: 0.838 V_f1: 0.858 | V_recall: 0.858\n",
      "epoch: 10 batch: 100 total train loader: 199 T_Loss: 0.361 | T_Acc: 0.890 | T_f1: 0.890 | T_recall: 0.890 || V_Loss: 0.414 | V_Acc: 0.839 V_f1: 0.840 | V_recall: 0.840\n",
      "epoch: 10 batch: 120 total train loader: 199 T_Loss: 0.363 | T_Acc: 0.853 | T_f1: 0.853 | T_recall: 0.853 || V_Loss: 0.413 | V_Acc: 0.839 V_f1: 0.858 | V_recall: 0.858\n",
      "epoch: 10 batch: 140 total train loader: 199 T_Loss: 0.367 | T_Acc: 0.855 | T_f1: 0.855 | T_recall: 0.855 || V_Loss: 0.413 | V_Acc: 0.840 V_f1: 0.855 | V_recall: 0.855\n",
      "epoch: 10 batch: 160 total train loader: 199 T_Loss: 0.370 | T_Acc: 0.835 | T_f1: 0.835 | T_recall: 0.835 || V_Loss: 0.412 | V_Acc: 0.840 V_f1: 0.823 | V_recall: 0.823\n",
      "epoch: 10 batch: 180 total train loader: 199 T_Loss: 0.370 | T_Acc: 0.833 | T_f1: 0.833 | T_recall: 0.833 || V_Loss: 0.413 | V_Acc: 0.840 V_f1: 0.845 | V_recall: 0.845\n",
      "epoch: 11 batch: 0 total train loader: 199 T_Loss: 0.391 | T_Acc: 0.863 | T_f1: 0.863 | T_recall: 0.863 || V_Loss: 0.417 | V_Acc: 0.837 V_f1: 0.840 | V_recall: 0.840\n",
      "epoch: 11 batch: 20 total train loader: 199 T_Loss: 0.348 | T_Acc: 0.870 | T_f1: 0.870 | T_recall: 0.870 || V_Loss: 0.415 | V_Acc: 0.839 V_f1: 0.807 | V_recall: 0.807\n",
      "epoch: 11 batch: 40 total train loader: 199 T_Loss: 0.351 | T_Acc: 0.900 | T_f1: 0.900 | T_recall: 0.900 || V_Loss: 0.413 | V_Acc: 0.840 V_f1: 0.838 | V_recall: 0.838\n",
      "epoch: 11 batch: 60 total train loader: 199 T_Loss: 0.351 | T_Acc: 0.845 | T_f1: 0.845 | T_recall: 0.845 || V_Loss: 0.412 | V_Acc: 0.840 V_f1: 0.855 | V_recall: 0.855\n",
      "epoch: 11 batch: 80 total train loader: 199 T_Loss: 0.354 | T_Acc: 0.887 | T_f1: 0.887 | T_recall: 0.887 || V_Loss: 0.411 | V_Acc: 0.840 V_f1: 0.860 | V_recall: 0.860\n",
      "epoch: 11 batch: 100 total train loader: 199 T_Loss: 0.359 | T_Acc: 0.848 | T_f1: 0.848 | T_recall: 0.848 || V_Loss: 0.412 | V_Acc: 0.841 V_f1: 0.863 | V_recall: 0.863\n",
      "epoch: 11 batch: 120 total train loader: 199 T_Loss: 0.361 | T_Acc: 0.825 | T_f1: 0.825 | T_recall: 0.825 || V_Loss: 0.411 | V_Acc: 0.841 V_f1: 0.900 | V_recall: 0.900\n",
      "epoch: 11 batch: 140 total train loader: 199 T_Loss: 0.364 | T_Acc: 0.840 | T_f1: 0.840 | T_recall: 0.840 || V_Loss: 0.410 | V_Acc: 0.841 V_f1: 0.863 | V_recall: 0.863\n",
      "epoch: 11 batch: 160 total train loader: 199 T_Loss: 0.366 | T_Acc: 0.873 | T_f1: 0.873 | T_recall: 0.873 || V_Loss: 0.410 | V_Acc: 0.841 V_f1: 0.828 | V_recall: 0.828\n",
      "epoch: 11 batch: 180 total train loader: 199 T_Loss: 0.369 | T_Acc: 0.868 | T_f1: 0.868 | T_recall: 0.868 || V_Loss: 0.410 | V_Acc: 0.841 V_f1: 0.840 | V_recall: 0.840\n",
      "epoch: 12 batch: 0 total train loader: 199 T_Loss: 0.343 | T_Acc: 0.865 | T_f1: 0.865 | T_recall: 0.865 || V_Loss: 0.402 | V_Acc: 0.847 V_f1: 0.812 | V_recall: 0.812\n",
      "epoch: 12 batch: 20 total train loader: 199 T_Loss: 0.355 | T_Acc: 0.863 | T_f1: 0.863 | T_recall: 0.863 || V_Loss: 0.407 | V_Acc: 0.843 V_f1: 0.853 | V_recall: 0.853\n",
      "epoch: 12 batch: 40 total train loader: 199 T_Loss: 0.360 | T_Acc: 0.853 | T_f1: 0.853 | T_recall: 0.853 || V_Loss: 0.408 | V_Acc: 0.842 V_f1: 0.853 | V_recall: 0.853\n",
      "epoch: 12 batch: 60 total train loader: 199 T_Loss: 0.363 | T_Acc: 0.870 | T_f1: 0.870 | T_recall: 0.870 || V_Loss: 0.408 | V_Acc: 0.842 V_f1: 0.838 | V_recall: 0.838\n",
      "epoch: 12 batch: 80 total train loader: 199 T_Loss: 0.367 | T_Acc: 0.858 | T_f1: 0.858 | T_recall: 0.858 || V_Loss: 0.407 | V_Acc: 0.843 V_f1: 0.850 | V_recall: 0.850\n",
      "epoch: 12 batch: 100 total train loader: 199 T_Loss: 0.368 | T_Acc: 0.863 | T_f1: 0.863 | T_recall: 0.863 || V_Loss: 0.407 | V_Acc: 0.843 V_f1: 0.848 | V_recall: 0.848\n",
      "epoch: 12 batch: 120 total train loader: 199 T_Loss: 0.371 | T_Acc: 0.830 | T_f1: 0.830 | T_recall: 0.830 || V_Loss: 0.406 | V_Acc: 0.843 V_f1: 0.865 | V_recall: 0.865\n",
      "epoch: 12 batch: 140 total train loader: 199 T_Loss: 0.371 | T_Acc: 0.858 | T_f1: 0.858 | T_recall: 0.858 || V_Loss: 0.406 | V_Acc: 0.843 V_f1: 0.860 | V_recall: 0.860\n",
      "epoch: 12 batch: 160 total train loader: 199 T_Loss: 0.372 | T_Acc: 0.853 | T_f1: 0.853 | T_recall: 0.853 || V_Loss: 0.405 | V_Acc: 0.843 V_f1: 0.843 | V_recall: 0.843\n",
      "epoch: 12 batch: 180 total train loader: 199 T_Loss: 0.374 | T_Acc: 0.828 | T_f1: 0.828 | T_recall: 0.828 || V_Loss: 0.405 | V_Acc: 0.844 V_f1: 0.830 | V_recall: 0.830\n",
      "epoch: 13 batch: 0 total train loader: 199 T_Loss: 0.364 | T_Acc: 0.860 | T_f1: 0.860 | T_recall: 0.860 || V_Loss: 0.404 | V_Acc: 0.845 V_f1: 0.843 | V_recall: 0.843\n",
      "epoch: 13 batch: 20 total train loader: 199 T_Loss: 0.366 | T_Acc: 0.850 | T_f1: 0.850 | T_recall: 0.850 || V_Loss: 0.405 | V_Acc: 0.843 V_f1: 0.843 | V_recall: 0.843\n",
      "epoch: 13 batch: 40 total train loader: 199 T_Loss: 0.369 | T_Acc: 0.833 | T_f1: 0.833 | T_recall: 0.833 || V_Loss: 0.406 | V_Acc: 0.842 V_f1: 0.823 | V_recall: 0.823\n",
      "epoch: 13 batch: 60 total train loader: 199 T_Loss: 0.364 | T_Acc: 0.855 | T_f1: 0.855 | T_recall: 0.855 || V_Loss: 0.404 | V_Acc: 0.843 V_f1: 0.823 | V_recall: 0.823\n",
      "epoch: 13 batch: 80 total train loader: 199 T_Loss: 0.367 | T_Acc: 0.845 | T_f1: 0.845 | T_recall: 0.845 || V_Loss: 0.404 | V_Acc: 0.844 V_f1: 0.848 | V_recall: 0.848\n",
      "epoch: 13 batch: 100 total train loader: 199 T_Loss: 0.371 | T_Acc: 0.885 | T_f1: 0.885 | T_recall: 0.885 || V_Loss: 0.403 | V_Acc: 0.844 V_f1: 0.835 | V_recall: 0.835\n",
      "epoch: 13 batch: 120 total train loader: 199 T_Loss: 0.374 | T_Acc: 0.807 | T_f1: 0.807 | T_recall: 0.807 || V_Loss: 0.403 | V_Acc: 0.844 V_f1: 0.840 | V_recall: 0.840\n",
      "epoch: 13 batch: 140 total train loader: 199 T_Loss: 0.375 | T_Acc: 0.855 | T_f1: 0.855 | T_recall: 0.855 || V_Loss: 0.403 | V_Acc: 0.844 V_f1: 0.853 | V_recall: 0.853\n",
      "epoch: 13 batch: 160 total train loader: 199 T_Loss: 0.377 | T_Acc: 0.863 | T_f1: 0.863 | T_recall: 0.863 || V_Loss: 0.403 | V_Acc: 0.844 V_f1: 0.855 | V_recall: 0.855\n",
      "epoch: 13 batch: 180 total train loader: 199 T_Loss: 0.378 | T_Acc: 0.853 | T_f1: 0.853 | T_recall: 0.853 || V_Loss: 0.403 | V_Acc: 0.844 V_f1: 0.855 | V_recall: 0.855\n",
      "epoch: 14 batch: 0 total train loader: 199 T_Loss: 0.304 | T_Acc: 0.895 | T_f1: 0.895 | T_recall: 0.895 || V_Loss: 0.422 | V_Acc: 0.838 V_f1: 0.855 | V_recall: 0.855\n",
      "epoch: 14 batch: 20 total train loader: 199 T_Loss: 0.372 | T_Acc: 0.833 | T_f1: 0.833 | T_recall: 0.833 || V_Loss: 0.414 | V_Acc: 0.841 V_f1: 0.807 | V_recall: 0.807\n",
      "epoch: 14 batch: 40 total train loader: 199 T_Loss: 0.369 | T_Acc: 0.838 | T_f1: 0.838 | T_recall: 0.838 || V_Loss: 0.410 | V_Acc: 0.842 V_f1: 0.825 | V_recall: 0.825\n",
      "epoch: 14 batch: 60 total train loader: 199 T_Loss: 0.372 | T_Acc: 0.833 | T_f1: 0.833 | T_recall: 0.833 || V_Loss: 0.408 | V_Acc: 0.842 V_f1: 0.823 | V_recall: 0.823\n",
      "epoch: 14 batch: 80 total train loader: 199 T_Loss: 0.375 | T_Acc: 0.850 | T_f1: 0.850 | T_recall: 0.850 || V_Loss: 0.407 | V_Acc: 0.842 V_f1: 0.840 | V_recall: 0.840\n",
      "epoch: 14 batch: 100 total train loader: 199 T_Loss: 0.375 | T_Acc: 0.853 | T_f1: 0.853 | T_recall: 0.853 || V_Loss: 0.406 | V_Acc: 0.843 V_f1: 0.860 | V_recall: 0.860\n",
      "epoch: 14 batch: 120 total train loader: 199 T_Loss: 0.378 | T_Acc: 0.823 | T_f1: 0.823 | T_recall: 0.823 || V_Loss: 0.406 | V_Acc: 0.842 V_f1: 0.868 | V_recall: 0.868\n",
      "epoch: 14 batch: 140 total train loader: 199 T_Loss: 0.380 | T_Acc: 0.845 | T_f1: 0.845 | T_recall: 0.845 || V_Loss: 0.405 | V_Acc: 0.843 V_f1: 0.820 | V_recall: 0.820\n",
      "epoch: 14 batch: 160 total train loader: 199 T_Loss: 0.380 | T_Acc: 0.870 | T_f1: 0.870 | T_recall: 0.870 || V_Loss: 0.405 | V_Acc: 0.843 V_f1: 0.858 | V_recall: 0.858\n"
     ]
    },
    {
     "name": "stdout",
     "output_type": "stream",
     "text": [
      "epoch: 14 batch: 180 total train loader: 199 T_Loss: 0.382 | T_Acc: 0.825 | T_f1: 0.825 | T_recall: 0.825 || V_Loss: 0.404 | V_Acc: 0.843 V_f1: 0.818 | V_recall: 0.818\n"
     ]
    }
   ],
   "source": [
    "epochs = 15\n",
    "cnn_train_result = pd.DataFrame()\n",
    "cnn_valid_result = pd.DataFrame()\n",
    "for epoch in range(epochs):\n",
    "    train_result, valid_result = train_cnn(epoch, model_cnn)\n",
    "    cnn_train_result = cnn_train_result.append(train_result, ignore_index=True)\n",
    "    cnn_valid_result = cnn_valid_result.append(train_result, ignore_index=True)"
   ]
  },
  {
   "cell_type": "code",
   "execution_count": 34,
   "metadata": {},
   "outputs": [],
   "source": [
    "cnn_train_result['roll_180_acc'] = cnn_train_result['acc'].rolling(180).mean()\n",
    "cnn_valid_result['roll_180_acc'] = cnn_valid_result['acc'].rolling(180).mean()\n",
    "cnn_train_result['roll_180_loss'] = cnn_train_result['loss'].rolling(180).mean()\n",
    "cnn_valid_result['roll_180_loss'] = cnn_valid_result['loss'].rolling(180).mean()"
   ]
  },
  {
   "cell_type": "code",
   "execution_count": 35,
   "metadata": {},
   "outputs": [],
   "source": [
    "cnn_train_result.to_csv('../result/CNN/cnn_train_result.csv')\n",
    "cnn_valid_result.to_csv('../result/CNN/cnn_valid_result.csv')"
   ]
  },
  {
   "cell_type": "code",
   "execution_count": 36,
   "metadata": {},
   "outputs": [
    {
     "data": {
      "text/html": [
       "<div>\n",
       "<style scoped>\n",
       "    .dataframe tbody tr th:only-of-type {\n",
       "        vertical-align: middle;\n",
       "    }\n",
       "\n",
       "    .dataframe tbody tr th {\n",
       "        vertical-align: top;\n",
       "    }\n",
       "\n",
       "    .dataframe thead th {\n",
       "        text-align: right;\n",
       "    }\n",
       "</style>\n",
       "<table border=\"1\" class=\"dataframe\">\n",
       "  <thead>\n",
       "    <tr style=\"text-align: right;\">\n",
       "      <th></th>\n",
       "      <th>epoch</th>\n",
       "      <th>batch</th>\n",
       "      <th>loss</th>\n",
       "      <th>acc</th>\n",
       "      <th>f1</th>\n",
       "      <th>recall</th>\n",
       "      <th>roll_730_acc</th>\n",
       "      <th>roll_730_loss</th>\n",
       "      <th>roll_180_acc</th>\n",
       "      <th>roll_180_loss</th>\n",
       "    </tr>\n",
       "  </thead>\n",
       "  <tbody>\n",
       "    <tr>\n",
       "      <th>0</th>\n",
       "      <td>0</td>\n",
       "      <td>0</td>\n",
       "      <td>1.283019</td>\n",
       "      <td>0.6800</td>\n",
       "      <td>0.6800</td>\n",
       "      <td>0.6800</td>\n",
       "      <td>NaN</td>\n",
       "      <td>NaN</td>\n",
       "      <td>NaN</td>\n",
       "      <td>NaN</td>\n",
       "    </tr>\n",
       "    <tr>\n",
       "      <th>1</th>\n",
       "      <td>0</td>\n",
       "      <td>1</td>\n",
       "      <td>1.249004</td>\n",
       "      <td>0.4100</td>\n",
       "      <td>0.4100</td>\n",
       "      <td>0.4100</td>\n",
       "      <td>NaN</td>\n",
       "      <td>NaN</td>\n",
       "      <td>NaN</td>\n",
       "      <td>NaN</td>\n",
       "    </tr>\n",
       "    <tr>\n",
       "      <th>2</th>\n",
       "      <td>0</td>\n",
       "      <td>2</td>\n",
       "      <td>1.168219</td>\n",
       "      <td>0.5225</td>\n",
       "      <td>0.5225</td>\n",
       "      <td>0.5225</td>\n",
       "      <td>NaN</td>\n",
       "      <td>NaN</td>\n",
       "      <td>NaN</td>\n",
       "      <td>NaN</td>\n",
       "    </tr>\n",
       "    <tr>\n",
       "      <th>3</th>\n",
       "      <td>0</td>\n",
       "      <td>3</td>\n",
       "      <td>1.139716</td>\n",
       "      <td>0.5975</td>\n",
       "      <td>0.5975</td>\n",
       "      <td>0.5975</td>\n",
       "      <td>NaN</td>\n",
       "      <td>NaN</td>\n",
       "      <td>NaN</td>\n",
       "      <td>NaN</td>\n",
       "    </tr>\n",
       "    <tr>\n",
       "      <th>4</th>\n",
       "      <td>0</td>\n",
       "      <td>4</td>\n",
       "      <td>1.082650</td>\n",
       "      <td>0.7175</td>\n",
       "      <td>0.7175</td>\n",
       "      <td>0.7175</td>\n",
       "      <td>NaN</td>\n",
       "      <td>NaN</td>\n",
       "      <td>NaN</td>\n",
       "      <td>NaN</td>\n",
       "    </tr>\n",
       "  </tbody>\n",
       "</table>\n",
       "</div>"
      ],
      "text/plain": [
       "   epoch  batch      loss     acc      f1  recall  roll_730_acc  \\\n",
       "0      0      0  1.283019  0.6800  0.6800  0.6800           NaN   \n",
       "1      0      1  1.249004  0.4100  0.4100  0.4100           NaN   \n",
       "2      0      2  1.168219  0.5225  0.5225  0.5225           NaN   \n",
       "3      0      3  1.139716  0.5975  0.5975  0.5975           NaN   \n",
       "4      0      4  1.082650  0.7175  0.7175  0.7175           NaN   \n",
       "\n",
       "   roll_730_loss  roll_180_acc  roll_180_loss  \n",
       "0            NaN           NaN            NaN  \n",
       "1            NaN           NaN            NaN  \n",
       "2            NaN           NaN            NaN  \n",
       "3            NaN           NaN            NaN  \n",
       "4            NaN           NaN            NaN  "
      ]
     },
     "execution_count": 36,
     "metadata": {},
     "output_type": "execute_result"
    }
   ],
   "source": [
    "cnn_valid_result.head()"
   ]
  },
  {
   "cell_type": "code",
   "execution_count": 47,
   "metadata": {},
   "outputs": [
    {
     "data": {
      "text/plain": [
       "epoch             14.000000\n",
       "batch            198.000000\n",
       "loss               0.383695\n",
       "acc                0.827500\n",
       "f1                 0.827500\n",
       "recall             0.827500\n",
       "roll_730_acc       0.851836\n",
       "roll_730_loss      0.369081\n",
       "roll_180_acc       0.848431\n",
       "roll_180_loss      0.376631\n",
       "Name: 2984, dtype: float64"
      ]
     },
     "execution_count": 47,
     "metadata": {},
     "output_type": "execute_result"
    }
   ],
   "source": [
    "cnn_train_result.iloc[-1]"
   ]
  },
  {
   "cell_type": "markdown",
   "metadata": {},
   "source": [
    "# Step13: Test the model"
   ]
  },
  {
   "cell_type": "code",
   "execution_count": 37,
   "metadata": {},
   "outputs": [],
   "source": [
    "def test(epoch, model):\n",
    "    lr = 0.001  # learning rate\n",
    "    model.train()\n",
    "    optimizer = torch.optim.Adam(model.parameters(), lr=lr)\n",
    "    total_batch = 0\n",
    "    result_dict = {}\n",
    "    epoch_list = []\n",
    "    batch_list = []\n",
    "    loss_list = []\n",
    "    acc_list = []\n",
    "    recall_list = []\n",
    "    f1_list = []\n",
    "    \n",
    "    for batch_idx, (trains, labels) in enumerate(test_loader):\n",
    "\n",
    "        outputs = model(trains.long()[None, ...])\n",
    "        \n",
    "        true = labels.data.cpu()\n",
    "        predic = torch.max(outputs.data, 1)[1].cpu()\n",
    "        test_acc = metrics.accuracy_score(true, predic)\n",
    "        test_loss = F.cross_entropy(outputs, labels.long())\n",
    "        test_f1 = metrics.f1_score(true, predic, average='micro')\n",
    "        test_recall = metrics.recall_score(true, predic, average='micro')\n",
    "        \n",
    "        epoch_list.append(epoch)\n",
    "        batch_list.append(batch_idx)\n",
    "        loss_list.append(test_loss.item())\n",
    "        acc_list.append(test_acc)\n",
    "        recall_list.append(test_recall)\n",
    "        f1_list.append(test_f1)\n",
    "            \n",
    "        if total_batch % 50 == 0 :\n",
    "            print('epoch: {}'.format(epoch), 'batch: {}'.format(batch_idx), \n",
    "                  'total train loader: {}'.format(len(test_loader)),\n",
    "                  'Loss: %.3f | Acc: %.3f |' % (test_loss, test_acc),\n",
    "                  'F1: %.3f | Recall: %.3f ' % (test_f1, test_recall))\n",
    "        \n",
    "#         total_batch += 1\n",
    "        \n",
    "    result_dict['epoch'] = epoch_list\n",
    "    result_dict['batch'] = batch_list\n",
    "    result_dict['loss'] = loss_list\n",
    "    result_dict['acc'] = acc_list\n",
    "    result_dict['f1'] = f1_list\n",
    "    result_dict['recall'] = recall_list\n",
    "    \n",
    "    return pd.DataFrame(result_dict)"
   ]
  },
  {
   "cell_type": "code",
   "execution_count": 38,
   "metadata": {},
   "outputs": [
    {
     "name": "stdout",
     "output_type": "stream",
     "text": [
      "epoch: 0 batch: 0 total train loader: 25 Loss: 0.350 | Acc: 0.850 | F1: 0.850 | Recall: 0.850 \n",
      "epoch: 0 batch: 1 total train loader: 25 Loss: 0.452 | Acc: 0.825 | F1: 0.825 | Recall: 0.825 \n",
      "epoch: 0 batch: 2 total train loader: 25 Loss: 0.409 | Acc: 0.845 | F1: 0.845 | Recall: 0.845 \n",
      "epoch: 0 batch: 3 total train loader: 25 Loss: 0.391 | Acc: 0.845 | F1: 0.845 | Recall: 0.845 \n",
      "epoch: 0 batch: 4 total train loader: 25 Loss: 0.449 | Acc: 0.825 | F1: 0.825 | Recall: 0.825 \n",
      "epoch: 0 batch: 5 total train loader: 25 Loss: 0.441 | Acc: 0.833 | F1: 0.833 | Recall: 0.833 \n",
      "epoch: 0 batch: 6 total train loader: 25 Loss: 0.399 | Acc: 0.850 | F1: 0.850 | Recall: 0.850 \n",
      "epoch: 0 batch: 7 total train loader: 25 Loss: 0.487 | Acc: 0.812 | F1: 0.812 | Recall: 0.812 \n",
      "epoch: 0 batch: 8 total train loader: 25 Loss: 0.418 | Acc: 0.833 | F1: 0.833 | Recall: 0.833 \n",
      "epoch: 0 batch: 9 total train loader: 25 Loss: 0.429 | Acc: 0.830 | F1: 0.830 | Recall: 0.830 \n",
      "epoch: 0 batch: 10 total train loader: 25 Loss: 0.460 | Acc: 0.818 | F1: 0.818 | Recall: 0.818 \n",
      "epoch: 0 batch: 11 total train loader: 25 Loss: 0.391 | Acc: 0.858 | F1: 0.858 | Recall: 0.858 \n",
      "epoch: 0 batch: 12 total train loader: 25 Loss: 0.430 | Acc: 0.820 | F1: 0.820 | Recall: 0.820 \n",
      "epoch: 0 batch: 13 total train loader: 25 Loss: 0.406 | Acc: 0.843 | F1: 0.843 | Recall: 0.843 \n",
      "epoch: 0 batch: 14 total train loader: 25 Loss: 0.420 | Acc: 0.833 | F1: 0.833 | Recall: 0.833 \n",
      "epoch: 0 batch: 15 total train loader: 25 Loss: 0.383 | Acc: 0.860 | F1: 0.860 | Recall: 0.860 \n",
      "epoch: 0 batch: 16 total train loader: 25 Loss: 0.433 | Acc: 0.825 | F1: 0.825 | Recall: 0.825 \n",
      "epoch: 0 batch: 17 total train loader: 25 Loss: 0.446 | Acc: 0.828 | F1: 0.828 | Recall: 0.828 \n",
      "epoch: 0 batch: 18 total train loader: 25 Loss: 0.409 | Acc: 0.840 | F1: 0.840 | Recall: 0.840 \n",
      "epoch: 0 batch: 19 total train loader: 25 Loss: 0.382 | Acc: 0.848 | F1: 0.848 | Recall: 0.848 \n",
      "epoch: 0 batch: 20 total train loader: 25 Loss: 0.417 | Acc: 0.843 | F1: 0.843 | Recall: 0.843 \n",
      "epoch: 0 batch: 21 total train loader: 25 Loss: 0.377 | Acc: 0.870 | F1: 0.870 | Recall: 0.870 \n",
      "epoch: 0 batch: 22 total train loader: 25 Loss: 0.405 | Acc: 0.858 | F1: 0.858 | Recall: 0.858 \n",
      "epoch: 0 batch: 23 total train loader: 25 Loss: 0.433 | Acc: 0.845 | F1: 0.845 | Recall: 0.845 \n",
      "epoch: 0 batch: 24 total train loader: 25 Loss: 0.406 | Acc: 0.855 | F1: 0.855 | Recall: 0.855 \n"
     ]
    }
   ],
   "source": [
    "cnn_test_result = pd.DataFrame()\n",
    "cnn_test_result = cnn_test_result.append(test(0, model_cnn), ignore_index=True)\n"
   ]
  },
  {
   "cell_type": "code",
   "execution_count": 39,
   "metadata": {},
   "outputs": [],
   "source": [
    "cnn_test_result.to_csv('../result/CNN/cnn_test_result.csv')"
   ]
  },
  {
   "cell_type": "code",
   "execution_count": 40,
   "metadata": {},
   "outputs": [
    {
     "data": {
      "text/plain": [
       "0.8395"
      ]
     },
     "execution_count": 40,
     "metadata": {},
     "output_type": "execute_result"
    }
   ],
   "source": [
    "cnn_test_result['acc'].mean()"
   ]
  },
  {
   "cell_type": "code",
   "execution_count": 45,
   "metadata": {},
   "outputs": [
    {
     "data": {
      "text/plain": [
       "0.8395"
      ]
     },
     "execution_count": 45,
     "metadata": {},
     "output_type": "execute_result"
    }
   ],
   "source": [
    "cnn_test_result['f1'].mean()"
   ]
  },
  {
   "cell_type": "code",
   "execution_count": 46,
   "metadata": {},
   "outputs": [
    {
     "data": {
      "text/plain": [
       "0.8395"
      ]
     },
     "execution_count": 46,
     "metadata": {},
     "output_type": "execute_result"
    }
   ],
   "source": [
    "cnn_test_result['recall'].mean()"
   ]
  },
  {
   "cell_type": "code",
   "execution_count": 42,
   "metadata": {},
   "outputs": [],
   "source": [
    "a = [1,2,3]"
   ]
  },
  {
   "cell_type": "code",
   "execution_count": 43,
   "metadata": {},
   "outputs": [
    {
     "data": {
      "text/plain": [
       "2.0"
      ]
     },
     "execution_count": 43,
     "metadata": {},
     "output_type": "execute_result"
    }
   ],
   "source": [
    "np.array(a).mean()"
   ]
  },
  {
   "cell_type": "markdown",
   "metadata": {},
   "source": [
    "# Step14: plot the result"
   ]
  },
  {
   "cell_type": "code",
   "execution_count": 49,
   "metadata": {},
   "outputs": [
    {
     "data": {
      "image/png": "[encoded data removed]",
      "text/plain": [
       "<Figure size 720x468 with 1 Axes>"
      ]
     },
     "metadata": {},
     "output_type": "display_data"
    }
   ],
   "source": [
    "import matplotlib.pyplot as plt\n",
    "import numpy as np\n",
    "import seaborn as sns\n",
    "sns.set()\n",
    "\n",
    "y1 = np.array(cnn_train_result['roll_180_acc'])\n",
    "y2 = np.array(cnn_train_result['roll_180_loss'])\n",
    "\n",
    "x = np.arange(len(y1))\n",
    "\n",
    "plt.figure(figsize=(10, 6.5))\n",
    "\n",
    "plt.plot(x, y1, color=\"r\", linewidth=1, label='accuracy')\n",
    "plt.plot(x, y2, color=\"b\", linewidth=1, label='loss')\n",
    "\n",
    "plt.legend(loc='best')\n",
    "plt.xlabel('Iterations')\n",
    "plt.ylabel('Value')\n",
    "plt.title('CNN')\n",
    "\n",
    "plt.show()"
   ]
  },
  {
   "cell_type": "code",
   "execution_count": null,
   "metadata": {},
   "outputs": [],
   "source": []
  },
  {
   "cell_type": "code",
   "execution_count": null,
   "metadata": {},
   "outputs": [],
   "source": []
  }
 ],
 "metadata": {
  "kernelspec": {
   "display_name": "Python 3",
   "language": "python",
   "name": "python3"
  },
  "language_info": {
   "codemirror_mode": {
    "name": "ipython",
    "version": 3
   },
   "file_extension": ".py",
   "mimetype": "text/x-python",
   "name": "python",
   "nbconvert_exporter": "python",
   "pygments_lexer": "ipython3",
   "version": "3.8.3"
  }
 },
 "nbformat": 4,
 "nbformat_minor": 4
}
